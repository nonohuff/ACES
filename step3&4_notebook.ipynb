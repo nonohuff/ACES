{
 "cells": [
  {
   "cell_type": "code",
   "execution_count": null,
   "metadata": {},
   "outputs": [],
   "source": [
    "import numpy as np\n",
    "import matplotlib.pyplot as plt\n",
    "import qiskit as qk\n",
    "import random\n",
    "from collections import Counter\n",
    "from collections import OrderedDict\n",
    "# from ipynb.fs.full.dev_notebook import stringToQiskitSingleGate\n",
    "\n",
    "from generator import generateCliffordCircuit"
   ]
  },
  {
   "cell_type": "code",
   "execution_count": 3,
   "metadata": {},
   "outputs": [],
   "source": [
    "def stringToQiskitSingleGate(gateString, qiskitCir, whichQubit):\n",
    "    if gateString == 'I':\n",
    "        qiskitCir.id(whichQubit)\n",
    "    elif gateString == 'X':\n",
    "        qiskitCir.x(whichQubit)\n",
    "    elif gateString == 'Y':\n",
    "        qiskitCir.y(whichQubit)\n",
    "    elif gateString == 'Z':\n",
    "        qiskitCir.z(whichQubit)\n",
    "    elif gateString == 'H':\n",
    "        qiskitCir.h(whichQubit)\n",
    "    elif gateString == 'S':\n",
    "        qiskitCir.s(whichQubit)\n",
    "        \n",
    "def transpileListToQiskitCircuit(cir):\n",
    "    depth = len(cir)\n",
    "    width = len(cir[0])\n",
    "    qiskitCir = qk.QuantumCircuit(width)\n",
    "    for d in range(width):\n",
    "        if d % 2 == 0:\n",
    "            for w in range(width):\n",
    "                singleGate = cir[d][w]\n",
    "                stringToQiskitSingleGate(singleGate, qiskitCir, w)\n",
    "            if d != width - 1:\n",
    "                qiskitCir.barrier()\n",
    "        else:\n",
    "            c = cir[d].index('CNOT_C')\n",
    "            t = cir[d].index('CNOT_T')\n",
    "            qiskitCir.cx(c, t)\n",
    "            if d != width - 1:\n",
    "                qiskitCir.barrier()\n",
    "    return qiskitCir"
   ]
  },
  {
   "cell_type": "code",
   "execution_count": 141,
   "metadata": {},
   "outputs": [],
   "source": [
    "def split_circuit_by_barrier(circuit):\n",
    "    qasm = circuit.qasm()\n",
    "    prelude = []\n",
    "    circuits = [[]]\n",
    "    for line in qasm.splitlines():\n",
    "        if any([line.startswith(t) for t in ['OPENQASM', 'include', 'qreg', 'creg']]):\n",
    "            prelude.append(line)\n",
    "        elif line.startswith('barrier'):\n",
    "            circuits.append([])\n",
    "        else:\n",
    "            circuits[-1].append(line)\n",
    "    circuits_with_prelude = [prelude+circuit for circuit in circuits]\n",
    "    for circuit_with_prelude in circuits_with_prelude:\n",
    "        yield qk.QuantumCircuit.from_qasm_str('\\n'.join(circuit_with_prelude))"
   ]
  },
  {
   "cell_type": "code",
   "execution_count": 4,
   "metadata": {},
   "outputs": [
    {
     "name": "stdout",
     "output_type": "stream",
     "text": [
      "[['Z', 'Z', 'I', 'H', 'X'], ['CNOT_T', 'I', 'I', 'CNOT_C', 'I'], ['X', 'I', 'H', 'I', 'Z'], ['I', 'I', 'I', 'CNOT_T', 'CNOT_C'], ['X', 'S', 'H', 'H', 'H']]\n",
      "     ┌───┐ ░ ┌───┐ ░ ┌───┐ ░       ░ ┌───┐\n",
      "q_0: ┤ Z ├─░─┤ X ├─░─┤ X ├─░───────░─┤ X ├\n",
      "     ├───┤ ░ └─┬─┘ ░ ├───┤ ░       ░ ├───┤\n",
      "q_1: ┤ Z ├─░───┼───░─┤ I ├─░───────░─┤ S ├\n",
      "     ├───┤ ░   │   ░ ├───┤ ░       ░ ├───┤\n",
      "q_2: ┤ I ├─░───┼───░─┤ H ├─░───────░─┤ H ├\n",
      "     ├───┤ ░   │   ░ ├───┤ ░ ┌───┐ ░ ├───┤\n",
      "q_3: ┤ H ├─░───■───░─┤ I ├─░─┤ X ├─░─┤ H ├\n",
      "     ├───┤ ░       ░ ├───┤ ░ └─┬─┘ ░ ├───┤\n",
      "q_4: ┤ X ├─░───────░─┤ Z ├─░───■───░─┤ H ├\n",
      "     └───┘ ░       ░ └───┘ ░       ░ └───┘\n"
     ]
    }
   ],
   "source": [
    "width = 5 # num_qubits\n",
    "depth = 5 # number of layers in the circuit (easy + hard)\n",
    "singleGateSet = ['X', 'H', 'Z', 'I', 'S']\n",
    "doubleGateSet = ['CNOT_C', 'CNOT_T']\n",
    "twirlingGateSet = ['X','Y' 'Z', 'I']\n",
    "\n",
    "circuit = generateCliffordCircuit(width, depth, singleGateSet, doubleGateSet)\n",
    "qiskitCircuit = transpileListToQiskitCircuit(circuit)\n",
    "print(circuit)\n",
    "if depth < 10:\n",
    "    print(qiskitCircuit)"
   ]
  },
  {
   "cell_type": "code",
   "execution_count": 5,
   "metadata": {},
   "outputs": [],
   "source": [
    "def Clifford_Permute(cliff,pauli):\n",
    "    '''This function permutes the pauli operators according to the clifford group, so it computes \n",
    "    P' = C P C^T, where C is a clifford operator and P is a pauli operator.\n",
    "    Inputs: cliff - A Qiskit Circuit, Clifford, or Gate object.\n",
    "            pauli - A Qiskit Pauli object.\n",
    "    Outputs: new_pauli - A Qiskit Pauli object.'''\n",
    "\n",
    "    return pauli.evolve(cliff,frame=\"s\")"
   ]
  },
  {
   "cell_type": "code",
   "execution_count": 6,
   "metadata": {},
   "outputs": [
    {
     "data": {
      "text/plain": [
       "Pauli('YYXYX')"
      ]
     },
     "execution_count": 6,
     "metadata": {},
     "output_type": "execute_result"
    }
   ],
   "source": [
    "Clifford_Permute(qiskitCircuit, qk.quantum_info.Pauli('X'*width))"
   ]
  },
  {
   "cell_type": "code",
   "execution_count": 222,
   "metadata": {},
   "outputs": [
    {
     "name": "stdout",
     "output_type": "stream",
     "text": [
      "OrderedDict([(('X', 'X'), 0), (('X', 'Y'), 0), (('X', 'Z'), 0), (('H', 'X'), 0), (('H', 'Y'), 0), (('H', 'Z'), 0), (('Z', 'X'), 0), (('Z', 'Y'), 0), (('Z', 'Z'), 0), (('S', 'X'), 0), (('S', 'Y'), 0), (('S', 'Z'), 0)])\n"
     ]
    }
   ],
   "source": [
    "def params_list(operation_set, pauli_set=[\"X\",\"Y\",\"Z\",\"I\"]):\n",
    "    '''This function generates a dictionary of parameters for the given operation set.\n",
    "    Inputs: operation_set - A list of operations.\n",
    "            pauli_set - A list of pauli operators.\n",
    "    Outputs: params - A dictionary of parameters, with each set to 0.'''\n",
    "\n",
    "    params = OrderedDict()\n",
    "    for operation in operation_set:\n",
    "        if operation == \"I\":\n",
    "            continue\n",
    "        elif operation == \"CNOT_C\" or operation == \"CNOT_T\":\n",
    "            for pauli1 in pauli_set:\n",
    "                for pauli2 in pauli_set:\n",
    "                    if pauli1 == \"I\" and pauli2 == \"I\":\n",
    "                        continue\n",
    "                    pauli = pauli1+pauli2\n",
    "                    params[(\"CNOT\", pauli)] = 0\n",
    "        else:\n",
    "            for pauli in pauli_set:\n",
    "                if pauli == \"I\":\n",
    "                    continue\n",
    "                params[(operation, pauli)] = 0\n",
    "    return params\n",
    "\n",
    "print(params_list(singleGateSet))"
   ]
  },
  {
   "cell_type": "code",
   "execution_count": 72,
   "metadata": {},
   "outputs": [
    {
     "name": "stdout",
     "output_type": "stream",
     "text": [
      "XIXXI\n"
     ]
    }
   ],
   "source": [
    "def generate_first_layer(length, pauli_set=[\"X\",\"Y\",\"Z\",\"I\"]):\n",
    "    first_layer = \"\"\n",
    "    for ele in np.random.choice(pauli_set, length):\n",
    "        first_layer += ele\n",
    "    return first_layer.upper()\n",
    "\n",
    "print(generate_first_layer(5))"
   ]
  },
  {
   "cell_type": "code",
   "execution_count": 239,
   "metadata": {},
   "outputs": [],
   "source": [
    "# width = 5 # num_qubits\n",
    "# depth = 5 # number of layers in the circuit (easy + hard)\n",
    "# singleGateSet = ['X', 'H', 'Z', 'I', 'S']\n",
    "# doubleGateSet = ['CNOT_C', 'CNOT_T']\n",
    "# twirlingGateSet = ['X','Y' 'Z', 'I']\n",
    "\n",
    "# qiskitCircuit = transpileListToQiskitCircuit(generateCliffordCircuit(width, depth, singleGateSet, doubleGateSet))\n",
    "# print(qiskitCircuit)\n",
    "# stringfirstlayer = generate_first_layer(qiskitCircuit.num_qubits)\n",
    "# first_row = pauli_hist(qiskitCircuit, qk.quantum_info.Pauli(stringfirstlayer))"
   ]
  },
  {
   "cell_type": "code",
   "execution_count": 227,
   "metadata": {},
   "outputs": [
    {
     "name": "stdout",
     "output_type": "stream",
     "text": [
      "skipped  ID  operation\n",
      "OrderedDict([(('X', 'X'), 0), (('X', 'Y'), 0), (('X', 'Z'), 0), (('H', 'X'), 0), (('H', 'Y'), 0), (('H', 'Z'), 0), (('Z', 'X'), 0), (('Z', 'Y'), 0), (('Z', 'Z'), 0), (('S', 'X'), 1), (('S', 'Y'), 1), (('S', 'Z'), 0)])\n"
     ]
    }
   ],
   "source": [
    "def pauli_hist(circuit, pauli_initial, params_list=params_list(singleGateSet)):\n",
    "    '''This function computes the histogram of pauli operators after the circuit has been applied.\n",
    "    Inputs: circuit - A Qiskit Circuit, Clifford, or Gate object.\n",
    "            pauli_initial - A Qiskit Pauli object.\n",
    "            params_list - A dictionary of parameters for the circuit.\n",
    "    Outputs: pauli_counts - A dictionary of pauli operators and their counts.'''\n",
    "\n",
    "    pauli = pauli_initial\n",
    "\n",
    "    for op_instructions in circuit.data:\n",
    "        if op_instructions.operation.name.upper() == \"ID\" or op_instructions.operation.name.upper() == \"I\" or op_instructions.operation.name.upper() == \"BARRIER\":\n",
    "            print(\"skipped \", op_instructions.operation.name.upper(), \" operation\")\n",
    "            break\n",
    "        elif op_instructions.operation.name.upper() == \"CX\" or op_instructions.operation.name.upper() == \"CNOT\":\n",
    "            params_list[(\"CNOT_C\", pauli.to_label()[0])] += 1\n",
    "            params_list[(\"CNOT_T\", pauli.to_label()[1])] += 1\n",
    "            pauli = qk.quantum_info.Pauli(pauli.to_label()[1] + pauli.to_label()[0] + pauli.to_label()[2:])\n",
    "        else:\n",
    "            pauli = remove_negatives(pauli)\n",
    "            params_list[(op_instructions.operation.name.upper(), pauli.to_label())] += 1\n",
    "            pauli = Clifford_Permute(op_instructions.operation, pauli)\n",
    "\n",
    "    return params_list\n",
    "\n",
    "print(pauli_hist(qiskitCircuit, qk.quantum_info.Pauli('X')))"
   ]
  },
  {
   "cell_type": "code",
   "execution_count": 236,
   "metadata": {},
   "outputs": [
    {
     "data": {
      "text/plain": [
       "odict_values([0, 3, 1, 1, 0, 0, 2, 0, 1, 1, 1, 0])"
      ]
     },
     "execution_count": 236,
     "metadata": {},
     "output_type": "execute_result"
    }
   ],
   "source": [
    "def generate_row_A(circuit, input_pauli, params_dict=params_list(singleGateSet)):\n",
    "    '''This function generates a row of the circuit, which is a dictionary of pauli operators and their counts.'''\n",
    "    # generate the random circuit\n",
    "    # print(random_circuit)\n",
    "\n",
    "    if type(input_pauli) == str:\n",
    "        input_pauli_str = ''.join(char for char in input_pauli if char.isalpha()) # removes the phase from the Pauli string if present\n",
    "    elif type(input_pauli) == qk.quantum_info.Pauli:\n",
    "        input_pauli_str = ''.join(char for char in input_pauli.to_label() if char.isalpha()) # converts the Pauli to a string w/o phase\n",
    "\n",
    "    # get the following information from circuit: \n",
    "    # 1) input pauli layer ex. 'XIZII', with an initial list of the paulis at each register that can be overwritten.\n",
    "    # 2) empty dictionary of pauli operators and their counts ex. \n",
    "    # {('X', 'X'): 0, ('X', 'I'): 0, ('Z', 'Z'): 0, ('Z', 'I'): 0, ('I', 'X'): 0, ('I', 'I'): 0}\n",
    "    # 3) all operations in the circuit ex. ['X', 'H', 'Z', 'I', 'S', 'CNOT_C', 'CNOT_T']\n",
    "    # input_pauli_str= generate_first_layer(random_circuit.num_qubits)\n",
    "    pauli_str = input_pauli_str\n",
    "    # input_pauli = [char for char in input_pauli_layer]\n",
    "    curr_row_dict = params_dict.copy()\n",
    "    all_operations = curr_row_dict.keys()\n",
    "\n",
    "    # iterate each gate in each layer of the circuit \n",
    "    for layer in split_circuit_by_barrier(random_circuit):\n",
    "        for gate in layer:\n",
    "\n",
    "            # get the register of the current gate\n",
    "            register = random_circuit.find_bit(gate.qubits[0]).index\n",
    "\n",
    "            # get the gate's operator and the input pauli\n",
    "            input_gate = gate.operation.name.upper()\n",
    "            cur_pauli = pauli_str[register]\n",
    "            \n",
    "            # print statement for debugging\n",
    "            # print(\"current operation is: \", register, input_gate, cur_pauli)\n",
    "\n",
    "            if (input_gate, cur_pauli) in all_operations:\n",
    "                curr_row_dict[(input_gate, cur_pauli)] += 1\n",
    "            elif input_gate == 'CX' or input_gate == 'CNOT':\n",
    "                continue\n",
    "            elif input_gate == 'ID' or input_gate == 'I' or input_gate == 'BARRIER':\n",
    "                continue\n",
    "            else:\n",
    "                continue\n",
    "                # print(\"Bad\", gate)\n",
    "\n",
    "        # use predefined function to update the pauli layer\n",
    "        pauli = Clifford_Permute(layer, qk.quantum_info.Pauli(pauli_str))\n",
    "        pauli_str = ''.join(char for char in pauli.to_label() if char.isalpha())\n",
    "\n",
    "    \n",
    "    # print(\"total # of operations done = \",  sum(curr_row_dict.values()))\n",
    "    # print(len(curr_row_dict))\n",
    "    return curr_row_dict.values()\n",
    "\n",
    "random_circuit = transpileListToQiskitCircuit(generateCliffordCircuit(width, depth, singleGateSet, doubleGateSet))\n",
    "input_pauli_str = generate_first_layer(random_circuit.num_qubits)\n",
    "generate_row_A(random_circuit, input_pauli_str)"
   ]
  },
  {
   "cell_type": "code",
   "execution_count": 247,
   "metadata": {},
   "outputs": [],
   "source": [
    "def generate_A(width, depth, params_dict=params_list(singleGateSet)):\n",
    "    '''This function generates the A matrix by randomly generating each row, checking if it increases the rank and then continuing onwards\n",
    "    Inputs: numrow - The number of rows in the A matrix.\n",
    "            numcol - The number of columns in the A matrix.\n",
    "    Outputs: A - The A matrix.'''\n",
    "\n",
    "    A = []\n",
    "    counter = 0\n",
    "    while np.linalg.matrix_rank(A) < len(list(params_dict.keys())):\n",
    "        random_circuit = transpileListToQiskitCircuit(generateCliffordCircuit(width, depth, singleGateSet, doubleGateSet))\n",
    "        input_pauli_str = generate_first_layer(random_circuit.num_qubits)\n",
    "        new_row = list(generate_row_A(random_circuit, input_pauli_str, params_dict))\n",
    "        A_star = A.copy()\n",
    "        A_star.append(new_row)\n",
    "        if np.linalg.matrix_rank(np.array(A_star)) > np.linalg.matrix_rank(np.array(A)):\n",
    "            # print(\"to get to rank: \", np.linalg.matrix_rank(A), \", it took us \", counter, \"tries\")\n",
    "            A = A_star\n",
    "        else:\n",
    "            counter += 1\n",
    "            # print(new_row)\n",
    "        if counter > 100:\n",
    "            break\n",
    "            # depth += 1\n",
    "            # counter = 0\n",
    "            # print(\"depth = \", depth)\n",
    "    return np.array(A)"
   ]
  },
  {
   "cell_type": "code",
   "execution_count": 260,
   "metadata": {},
   "outputs": [
    {
     "name": "stdout",
     "output_type": "stream",
     "text": [
      "[[0 0 0 0 0 1 1 1 0 1 0 1]\n",
      " [0 0 2 1 1 1 0 0 2 0 1 3]\n",
      " [0 1 1 2 1 0 1 1 0 1 2 1]\n",
      " [0 0 0 0 1 0 1 1 0 1 1 0]\n",
      " [1 0 0 2 0 0 1 1 0 3 0 0]\n",
      " [3 0 0 2 1 0 1 1 0 2 2 0]\n",
      " [0 1 0 0 1 1 1 1 0 0 2 1]\n",
      " [1 0 1 0 1 1 0 0 2 0 1 2]\n",
      " [2 0 0 0 2 0 1 1 0 1 2 0]\n",
      " [1 0 1 2 0 0 0 0 0 1 0 0]\n",
      " [1 2 0 1 1 1 0 0 0 2 1 0]]\n",
      "11\n"
     ]
    }
   ],
   "source": [
    "A = generate_A(width = 5, depth = 13)\n",
    "print(A)\n",
    "print(np.linalg.matrix_rank(A))"
   ]
  },
  {
   "cell_type": "code",
   "execution_count": 237,
   "metadata": {},
   "outputs": [
    {
     "name": "stdout",
     "output_type": "stream",
     "text": [
      "[1, 1, 3, 0, 2, 1, 0, 1, 1, 0, 0, 0]\n",
      "[1, 2, 0, 1, 0, 0, 0, 0, 2, 1, 1, 2]\n",
      "[0, 0, 3, 0, 0, 0, 0, 0, 2, 0, 0, 1]\n",
      "[0, 0, 0, 2, 2, 0, 2, 1, 0, 1, 1, 0]\n",
      "[0, 1, 0, 1, 3, 0, 0, 2, 0, 0, 0, 0]\n",
      "[2, 0, 0, 2, 1, 1, 0, 1, 1, 1, 0, 1]\n",
      "[1, 1, 1, 1, 0, 0, 0, 1, 1, 1, 0, 0]\n",
      "[0, 1, 1, 0, 3, 0, 2, 1, 0, 0, 2, 0]\n",
      "[0, 1, 0, 2, 1, 0, 1, 1, 0, 0, 1, 1]\n",
      "[3, 0, 0, 1, 1, 0, 1, 1, 0, 1, 2, 0]\n"
     ]
    }
   ],
   "source": [
    "for i in range(10):\n",
    "    random_circuit = transpileListToQiskitCircuit(generateCliffordCircuit(width, depth, singleGateSet, doubleGateSet))\n",
    "    input_pauli_str = generate_first_layer(random_circuit.num_qubits)\n",
    "    print(list(generate_row_A(random_circuit, input_pauli_str)))"
   ]
  }
 ],
 "metadata": {
  "kernelspec": {
   "display_name": "Python 3",
   "language": "python",
   "name": "python3"
  },
  "language_info": {
   "codemirror_mode": {
    "name": "ipython",
    "version": 3
   },
   "file_extension": ".py",
   "mimetype": "text/x-python",
   "name": "python",
   "nbconvert_exporter": "python",
   "pygments_lexer": "ipython3",
   "version": "3.11.4"
  }
 },
 "nbformat": 4,
 "nbformat_minor": 2
}
