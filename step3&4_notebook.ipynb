{
 "cells": [
  {
   "cell_type": "code",
   "execution_count": 2,
   "metadata": {},
   "outputs": [],
   "source": [
    "import numpy as np\n",
    "import matplotlib.pyplot as plt\n",
    "import qiskit as qk\n",
    "import random\n",
    "from collections import Counter\n",
    "\n",
    "from generator import generateCliffordCircuit"
   ]
  },
  {
   "cell_type": "code",
   "execution_count": 3,
   "metadata": {},
   "outputs": [],
   "source": [
    "def stringToQiskitSingleGate(gateString, qiskitCir, whichQubit):\n",
    "    if gateString == 'I':\n",
    "        qiskitCir.id(whichQubit)\n",
    "    elif gateString == 'X':\n",
    "        qiskitCir.x(whichQubit)\n",
    "    elif gateString == 'Y':\n",
    "        qiskitCir.y(whichQubit)\n",
    "    elif gateString == 'Z':\n",
    "        qiskitCir.z(whichQubit)\n",
    "    elif gateString == 'H':\n",
    "        qiskitCir.h(whichQubit)\n",
    "    elif gateString == 'S':\n",
    "        qiskitCir.s(whichQubit)\n",
    "        \n",
    "def transpileListToQiskitCircuit(cir):\n",
    "    depth = len(cir)\n",
    "    width = len(cir[0])\n",
    "    qiskitCir = qk.QuantumCircuit(width)\n",
    "    for d in range(width):\n",
    "        if d % 2 == 0:\n",
    "            for w in range(width):\n",
    "                singleGate = cir[d][w]\n",
    "                stringToQiskitSingleGate(singleGate, qiskitCir, w)\n",
    "            if d != width - 1:\n",
    "                qiskitCir.barrier()\n",
    "        else:\n",
    "            c = cir[d].index('CNOT_C')\n",
    "            t = cir[d].index('CNOT_T')\n",
    "            qiskitCir.cx(c, t)\n",
    "            if d != width - 1:\n",
    "                qiskitCir.barrier()\n",
    "    return qiskitCir"
   ]
  },
  {
   "cell_type": "code",
   "execution_count": 4,
   "metadata": {},
   "outputs": [
    {
     "name": "stdout",
     "output_type": "stream",
     "text": [
      "[['Z', 'Z', 'I', 'H', 'X'], ['CNOT_T', 'I', 'I', 'CNOT_C', 'I'], ['X', 'I', 'H', 'I', 'Z'], ['I', 'I', 'I', 'CNOT_T', 'CNOT_C'], ['X', 'S', 'H', 'H', 'H']]\n",
      "     ┌───┐ ░ ┌───┐ ░ ┌───┐ ░       ░ ┌───┐\n",
      "q_0: ┤ Z ├─░─┤ X ├─░─┤ X ├─░───────░─┤ X ├\n",
      "     ├───┤ ░ └─┬─┘ ░ ├───┤ ░       ░ ├───┤\n",
      "q_1: ┤ Z ├─░───┼───░─┤ I ├─░───────░─┤ S ├\n",
      "     ├───┤ ░   │   ░ ├───┤ ░       ░ ├───┤\n",
      "q_2: ┤ I ├─░───┼───░─┤ H ├─░───────░─┤ H ├\n",
      "     ├───┤ ░   │   ░ ├───┤ ░ ┌───┐ ░ ├───┤\n",
      "q_3: ┤ H ├─░───■───░─┤ I ├─░─┤ X ├─░─┤ H ├\n",
      "     ├───┤ ░       ░ ├───┤ ░ └─┬─┘ ░ ├───┤\n",
      "q_4: ┤ X ├─░───────░─┤ Z ├─░───■───░─┤ H ├\n",
      "     └───┘ ░       ░ └───┘ ░       ░ └───┘\n"
     ]
    }
   ],
   "source": [
    "width = 5 # num_qubits\n",
    "depth = 5 # number of layers in the circuit (easy + hard)\n",
    "singleGateSet = ['X', 'H', 'Z', 'I', 'S']\n",
    "doubleGateSet = ['CNOT_C', 'CNOT_T']\n",
    "twirlingGateSet = ['X','Y' 'Z', 'I']\n",
    "\n",
    "circuit = generateCliffordCircuit(width, depth, singleGateSet, doubleGateSet)\n",
    "qiskitCircuit = transpileListToQiskitCircuit(circuit)\n",
    "print(circuit)\n",
    "if depth < 10:\n",
    "    print(qiskitCircuit)"
   ]
  },
  {
   "cell_type": "code",
   "execution_count": 5,
   "metadata": {},
   "outputs": [],
   "source": [
    "def Clifford_Permute(cliff,pauli):\n",
    "    '''This function permutes the pauli operators according to the clifford group, so it computes \n",
    "    P' = C P C^T, where C is a clifford operator and P is a pauli operator.\n",
    "    Inputs: cliff - A Qiskit Circuit, Clifford, or Gate object.\n",
    "            pauli - A Qiskit Pauli object.\n",
    "    Outputs: new_pauli - A Qiskit Pauli object.'''\n",
    "\n",
    "    return pauli.evolve(cliff,frame=\"s\")"
   ]
  },
  {
   "cell_type": "code",
   "execution_count": 6,
   "metadata": {},
   "outputs": [
    {
     "data": {
      "text/plain": [
       "Pauli('YYXYX')"
      ]
     },
     "execution_count": 6,
     "metadata": {},
     "output_type": "execute_result"
    }
   ],
   "source": [
    "Clifford_Permute(qiskitCircuit, qk.quantum_info.Pauli('X'*width))"
   ]
  },
  {
   "cell_type": "code",
   "execution_count": 28,
   "metadata": {},
   "outputs": [
    {
     "name": "stdout",
     "output_type": "stream",
     "text": [
      "CNOT_C or CNOT_T\n",
      "CNOT_C or CNOT_T\n",
      "{('CNOT', 'XX'): 0, ('CNOT', 'XY'): 0, ('CNOT', 'XZ'): 0, ('CNOT', 'XI'): 0, ('CNOT', 'YX'): 0, ('CNOT', 'YY'): 0, ('CNOT', 'YZ'): 0, ('CNOT', 'YI'): 0, ('CNOT', 'ZX'): 0, ('CNOT', 'ZY'): 0, ('CNOT', 'ZZ'): 0, ('CNOT', 'ZI'): 0, ('CNOT', 'IX'): 0, ('CNOT', 'IY'): 0, ('CNOT', 'IZ'): 0, ('CNOT', 'II'): 0, ('CNOT_C', 'X'): 0, ('CNOT_C', 'Y'): 0, ('CNOT_C', 'Z'): 0, ('CNOT_C', 'I'): 0, ('CNOT_T', 'X'): 0, ('CNOT_T', 'Y'): 0, ('CNOT_T', 'Z'): 0, ('CNOT_T', 'I'): 0}\n"
     ]
    }
   ],
   "source": [
    "def params_list(operation_set, pauli_set=[\"X\",\"Y\",\"Z\",\"I\"]):\n",
    "    '''This function generates a dictionary of parameters for the given operation set.\n",
    "    Inputs: operation_set - A list of operations.\n",
    "            pauli_set - A list of pauli operators.\n",
    "    Outputs: params - A dictionary of parameters, with each set to 0.'''\n",
    "\n",
    "    params = {}\n",
    "    for operation in operation_set:\n",
    "        if operation == \"CNOT_C\" or operation == \"CNOT_T\":\n",
    "            print(\"CNOT_C or CNOT_T\")\n",
    "            for pauli1 in pauli_set:\n",
    "                for pauli2 in pauli_set:\n",
    "                    pauli = pauli1+pauli2\n",
    "                    params[(\"CNOT\", pauli)] = 0\n",
    "        for pauli in pauli_set:\n",
    "            params[(operation, pauli)] = 0\n",
    "    return params\n",
    "\n",
    "print(params_list(doubleGateSet))"
   ]
  },
  {
   "cell_type": "code",
   "execution_count": 8,
   "metadata": {},
   "outputs": [],
   "source": [
    "def remove_negatives(pauli):\n",
    "    '''This function takes a pauli operator and removes the negative sign from it.'''\n",
    "\n",
    "    if pauli.to_label()[0] == \"-\":\n",
    "        return qk.quantum_info.Pauli(pauli.to_label()[1:])\n",
    "    else:\n",
    "        return pauli"
   ]
  },
  {
   "cell_type": "code",
   "execution_count": 9,
   "metadata": {},
   "outputs": [
    {
     "name": "stdout",
     "output_type": "stream",
     "text": [
      "skipped  ID  operation\n",
      "{('X', 'X'): 0, ('X', 'Y'): 0, ('X', 'Z'): 0, ('X', 'I'): 0, ('H', 'X'): 0, ('H', 'Y'): 0, ('H', 'Z'): 0, ('H', 'I'): 0, ('Z', 'X'): 2, ('Z', 'Y'): 0, ('Z', 'Z'): 0, ('Z', 'I'): 0, ('I', 'X'): 0, ('I', 'Y'): 0, ('I', 'Z'): 0, ('I', 'I'): 0, ('S', 'X'): 0, ('S', 'Y'): 0, ('S', 'Z'): 0, ('S', 'I'): 0}\n"
     ]
    }
   ],
   "source": [
    "def pauli_hist(circuit, pauli_initial, params_list=params_list(singleGateSet)):\n",
    "    '''This function computes the histogram of pauli operators after the circuit has been applied.\n",
    "    Inputs: circuit - A Qiskit Circuit, Clifford, or Gate object.\n",
    "            pauli_initial - A Qiskit Pauli object.\n",
    "            params_list - A dictionary of parameters for the circuit.\n",
    "    Outputs: pauli_counts - A dictionary of pauli operators and their counts.'''\n",
    "\n",
    "    pauli = pauli_initial\n",
    "\n",
    "    for op_instructions in circuit.data:\n",
    "        if op_instructions.operation.name.upper() == \"ID\" or op_instructions.operation.name.upper() == \"I\" or op_instructions.operation.name.upper() == \"BARRIER\":\n",
    "            print(\"skipped \", op_instructions.operation.name.upper(), \" operation\")\n",
    "            break\n",
    "        elif op_instructions.operation.name.upper() == \"CX\" or op_instructions.operation.name.upper() == \"CNOT\":\n",
    "            params_list[(\"CNOT_C\", pauli.to_label()[0])] += 1\n",
    "            params_list[(\"CNOT_T\", pauli.to_label()[1])] += 1\n",
    "            pauli = qk.quantum_info.Pauli(pauli.to_label()[1] + pauli.to_label()[0] + pauli.to_label()[2:])\n",
    "        else:\n",
    "            pauli = remove_negatives(pauli)\n",
    "            params_list[(op_instructions.operation.name.upper(), pauli.to_label())] += 1\n",
    "            pauli = Clifford_Permute(op_instructions.operation, pauli)\n",
    "\n",
    "    return params_list\n",
    "\n",
    "print(pauli_hist(qiskitCircuit, qk.quantum_info.Pauli('X')))"
   ]
  },
  {
   "cell_type": "code",
   "execution_count": 18,
   "metadata": {},
   "outputs": [],
   "source": [
    "def split_circuit_by_barrier(circuit):\n",
    "    qasm = circuit.qasm()\n",
    "    prelude = []\n",
    "    circuits = [[]]\n",
    "    for line in qasm.splitlines():\n",
    "        if any([line.startswith(t) for t in ['OPENQASM', 'include', 'qreg', 'creg']]):\n",
    "            prelude.append(line)\n",
    "        elif line.startswith('barrier'):\n",
    "            circuits.append([])\n",
    "        else:\n",
    "            circuits[-1].append(line)\n",
    "    circuits_with_prelude = [prelude+circuit for circuit in circuits]\n",
    "    for circuit_with_prelude in circuits_with_prelude:\n",
    "        yield qk.QuantumCircuit.from_qasm_str('\\n'.join(circuit_with_prelude))\n",
    "\n",
    "# for subcircuit in (split_circuit_by_barrier(qiskitCircuit)):\n",
    "#     print(subcircuit)"
   ]
  },
  {
   "cell_type": "code",
   "execution_count": 25,
   "metadata": {},
   "outputs": [
    {
     "name": "stdout",
     "output_type": "stream",
     "text": [
      "     ┌───┐ ░ ┌───┐ ░ ┌───┐ ░       ░ ┌───┐\n",
      "q_0: ┤ S ├─░─┤ X ├─░─┤ Z ├─░───────░─┤ H ├\n",
      "     ├───┤ ░ └─┬─┘ ░ ├───┤ ░ ┌───┐ ░ ├───┤\n",
      "q_1: ┤ H ├─░───■───░─┤ Z ├─░─┤ X ├─░─┤ S ├\n",
      "     ├───┤ ░       ░ ├───┤ ░ └─┬─┘ ░ ├───┤\n",
      "q_2: ┤ Z ├─░───────░─┤ Z ├─░───┼───░─┤ X ├\n",
      "     ├───┤ ░       ░ ├───┤ ░   │   ░ ├───┤\n",
      "q_3: ┤ X ├─░───────░─┤ Z ├─░───■───░─┤ S ├\n",
      "     ├───┤ ░       ░ ├───┤ ░       ░ ├───┤\n",
      "q_4: ┤ S ├─░───────░─┤ S ├─░───────░─┤ S ├\n",
      "     └───┘ ░       ░ └───┘ ░       ░ └───┘\n",
      "Instruction(name='s', num_qubits=1, num_clbits=0, params=[])\n",
      "s\n",
      "Instruction(name='h', num_qubits=1, num_clbits=0, params=[])\n",
      "sh\n",
      "Instruction(name='z', num_qubits=1, num_clbits=0, params=[])\n",
      "shz\n",
      "Instruction(name='x', num_qubits=1, num_clbits=0, params=[])\n",
      "shzx\n",
      "Instruction(name='s', num_qubits=1, num_clbits=0, params=[])\n",
      "shzxs\n"
     ]
    }
   ],
   "source": [
    "width = 5 # num_qubits\n",
    "depth = 5 # number of layers in the circuit (easy + hard)\n",
    "singleGateSet = ['X', 'H', 'Z', 'I', 'S']\n",
    "doubleGateSet = ['CNOT_C', 'CNOT_T']\n",
    "twirlingGateSet = ['X','Y' 'Z', 'I']\n",
    "\n",
    "qiskitCircuit = transpileListToQiskitCircuit(generateCliffordCircuit(width, depth, singleGateSet, doubleGateSet))\n",
    "print(qiskitCircuit)\n",
    "\n",
    "first_layer = \"\"\n",
    "for item in list(split_circuit_by_barrier(qiskitCircuit))[0].data:\n",
    "    print(item.operation)\n",
    "    first_layer += item.operation.name\n",
    "    print(first_layer)\n",
    "\n",
    "# print(pauli_hist(qiskitCircuit, qk.quantum_info.Pauli('X')))"
   ]
  },
  {
   "cell_type": "code",
   "execution_count": 10,
   "metadata": {},
   "outputs": [
    {
     "name": "stdout",
     "output_type": "stream",
     "text": [
      "[[1. 1. 1. 1. 1.]\n",
      " [0. 1. 1. 1. 1.]\n",
      " [0. 0. 1. 1. 1.]\n",
      " [0. 0. 0. 1. 1.]\n",
      " [0. 0. 0. 0. 1.]]\n"
     ]
    }
   ],
   "source": [
    "def generate_A(numrow, numcol):\n",
    "    '''This function generates the A matrix for the linear system Ax=b, where x is the vector of \n",
    "    parameters for the circuit, and b is the vector of pauli counts.\n",
    "    Inputs: numrow - The number of rows in the A matrix.\n",
    "            numcol - The number of columns in the A matrix.\n",
    "    Outputs: A - The A matrix.'''\n",
    "\n",
    "    A = np.zeros((numrow,numcol))\n",
    "    for i in range(numrow):\n",
    "        for j in range(numcol):\n",
    "            if i == j:\n",
    "                A[i,j] = 1\n",
    "            elif i < j:\n",
    "                A[i,j] = 1\n",
    "    return A\n",
    "\n",
    "print(generate_A(5, 5))\n"
   ]
  }
 ],
 "metadata": {
  "kernelspec": {
   "display_name": "Python 3",
   "language": "python",
   "name": "python3"
  },
  "language_info": {
   "codemirror_mode": {
    "name": "ipython",
    "version": 3
   },
   "file_extension": ".py",
   "mimetype": "text/x-python",
   "name": "python",
   "nbconvert_exporter": "python",
   "pygments_lexer": "ipython3",
   "version": "3.11.4"
  }
 },
 "nbformat": 4,
 "nbformat_minor": 2
}
