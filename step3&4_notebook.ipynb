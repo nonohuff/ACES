{
 "cells": [
  {
   "cell_type": "code",
   "execution_count": null,
   "metadata": {},
   "outputs": [],
   "source": [
    "import numpy as np\n",
    "import matplotlib.pyplot as plt\n",
    "import qiskit as qk\n",
    "import random\n",
    "from collections import Counter\n",
    "from collections import OrderedDict\n",
    "# from ipynb.fs.full.dev_notebook import stringToQiskitSingleGate\n",
    "\n",
    "from generator import generateCliffordCircuit"
   ]
  },
  {
   "cell_type": "code",
   "execution_count": 3,
   "metadata": {},
   "outputs": [],
   "source": [
    "def stringToQiskitSingleGate(gateString, qiskitCir, whichQubit):\n",
    "    if gateString == 'I':\n",
    "        qiskitCir.id(whichQubit)\n",
    "    elif gateString == 'X':\n",
    "        qiskitCir.x(whichQubit)\n",
    "    elif gateString == 'Y':\n",
    "        qiskitCir.y(whichQubit)\n",
    "    elif gateString == 'Z':\n",
    "        qiskitCir.z(whichQubit)\n",
    "    elif gateString == 'H':\n",
    "        qiskitCir.h(whichQubit)\n",
    "    elif gateString == 'S':\n",
    "        qiskitCir.s(whichQubit)\n",
    "        \n",
    "def transpileListToQiskitCircuit(cir):\n",
    "    depth = len(cir)\n",
    "    width = len(cir[0])\n",
    "    qiskitCir = qk.QuantumCircuit(width)\n",
    "    for d in range(width):\n",
    "        if d % 2 == 0:\n",
    "            for w in range(width):\n",
    "                singleGate = cir[d][w]\n",
    "                stringToQiskitSingleGate(singleGate, qiskitCir, w)\n",
    "            if d != width - 1:\n",
    "                qiskitCir.barrier()\n",
    "        else:\n",
    "            c = cir[d].index('CNOT_C')\n",
    "            t = cir[d].index('CNOT_T')\n",
    "            qiskitCir.cx(c, t)\n",
    "            if d != width - 1:\n",
    "                qiskitCir.barrier()\n",
    "    return qiskitCir"
   ]
  },
  {
   "cell_type": "code",
   "execution_count": 141,
   "metadata": {},
   "outputs": [],
   "source": [
    "def split_circuit_by_barrier(circuit):\n",
    "    qasm = circuit.qasm()\n",
    "    prelude = []\n",
    "    circuits = [[]]\n",
    "    for line in qasm.splitlines():\n",
    "        if any([line.startswith(t) for t in ['OPENQASM', 'include', 'qreg', 'creg']]):\n",
    "            prelude.append(line)\n",
    "        elif line.startswith('barrier'):\n",
    "            circuits.append([])\n",
    "        else:\n",
    "            circuits[-1].append(line)\n",
    "    circuits_with_prelude = [prelude+circuit for circuit in circuits]\n",
    "    for circuit_with_prelude in circuits_with_prelude:\n",
    "        yield qk.QuantumCircuit.from_qasm_str('\\n'.join(circuit_with_prelude))\n",
    "\n",
    "# for subcircuit in (split_circuit_by_barrier(qiskitCircuit)):\n",
    "#     print(subcircuit)"
   ]
  },
  {
   "cell_type": "code",
   "execution_count": 4,
   "metadata": {},
   "outputs": [
    {
     "name": "stdout",
     "output_type": "stream",
     "text": [
      "[['Z', 'Z', 'I', 'H', 'X'], ['CNOT_T', 'I', 'I', 'CNOT_C', 'I'], ['X', 'I', 'H', 'I', 'Z'], ['I', 'I', 'I', 'CNOT_T', 'CNOT_C'], ['X', 'S', 'H', 'H', 'H']]\n",
      "     ┌───┐ ░ ┌───┐ ░ ┌───┐ ░       ░ ┌───┐\n",
      "q_0: ┤ Z ├─░─┤ X ├─░─┤ X ├─░───────░─┤ X ├\n",
      "     ├───┤ ░ └─┬─┘ ░ ├───┤ ░       ░ ├───┤\n",
      "q_1: ┤ Z ├─░───┼───░─┤ I ├─░───────░─┤ S ├\n",
      "     ├───┤ ░   │   ░ ├───┤ ░       ░ ├───┤\n",
      "q_2: ┤ I ├─░───┼───░─┤ H ├─░───────░─┤ H ├\n",
      "     ├───┤ ░   │   ░ ├───┤ ░ ┌───┐ ░ ├───┤\n",
      "q_3: ┤ H ├─░───■───░─┤ I ├─░─┤ X ├─░─┤ H ├\n",
      "     ├───┤ ░       ░ ├───┤ ░ └─┬─┘ ░ ├───┤\n",
      "q_4: ┤ X ├─░───────░─┤ Z ├─░───■───░─┤ H ├\n",
      "     └───┘ ░       ░ └───┘ ░       ░ └───┘\n"
     ]
    }
   ],
   "source": [
    "width = 5 # num_qubits\n",
    "depth = 5 # number of layers in the circuit (easy + hard)\n",
    "singleGateSet = ['X', 'H', 'Z', 'I', 'S']\n",
    "doubleGateSet = ['CNOT_C', 'CNOT_T']\n",
    "twirlingGateSet = ['X','Y' 'Z', 'I']\n",
    "\n",
    "circuit = generateCliffordCircuit(width, depth, singleGateSet, doubleGateSet)\n",
    "qiskitCircuit = transpileListToQiskitCircuit(circuit)\n",
    "print(circuit)\n",
    "if depth < 10:\n",
    "    print(qiskitCircuit)"
   ]
  },
  {
   "cell_type": "code",
   "execution_count": 5,
   "metadata": {},
   "outputs": [],
   "source": [
    "def Clifford_Permute(cliff,pauli):\n",
    "    '''This function permutes the pauli operators according to the clifford group, so it computes \n",
    "    P' = C P C^T, where C is a clifford operator and P is a pauli operator.\n",
    "    Inputs: cliff - A Qiskit Circuit, Clifford, or Gate object.\n",
    "            pauli - A Qiskit Pauli object.\n",
    "    Outputs: new_pauli - A Qiskit Pauli object.'''\n",
    "\n",
    "    return pauli.evolve(cliff,frame=\"s\")"
   ]
  },
  {
   "cell_type": "code",
   "execution_count": 6,
   "metadata": {},
   "outputs": [
    {
     "data": {
      "text/plain": [
       "Pauli('YYXYX')"
      ]
     },
     "execution_count": 6,
     "metadata": {},
     "output_type": "execute_result"
    }
   ],
   "source": [
    "Clifford_Permute(qiskitCircuit, qk.quantum_info.Pauli('X'*width))"
   ]
  },
  {
   "cell_type": "code",
   "execution_count": 110,
   "metadata": {},
   "outputs": [
    {
     "name": "stdout",
     "output_type": "stream",
     "text": [
      "OrderedDict([(('X', 'X'), 0), (('X', 'Y'), 0), (('X', 'Z'), 0), (('X', 'I'), 0), (('H', 'X'), 0), (('H', 'Y'), 0), (('H', 'Z'), 0), (('H', 'I'), 0), (('Z', 'X'), 0), (('Z', 'Y'), 0), (('Z', 'Z'), 0), (('Z', 'I'), 0), (('I', 'X'), 0), (('I', 'Y'), 0), (('I', 'Z'), 0), (('I', 'I'), 0), (('S', 'X'), 0), (('S', 'Y'), 0), (('S', 'Z'), 0), (('S', 'I'), 0)])\n"
     ]
    }
   ],
   "source": [
    "def params_list(operation_set, pauli_set=[\"X\",\"Y\",\"Z\",\"I\"]):\n",
    "    '''This function generates a dictionary of parameters for the given operation set.\n",
    "    Inputs: operation_set - A list of operations.\n",
    "            pauli_set - A list of pauli operators.\n",
    "    Outputs: params - A dictionary of parameters, with each set to 0.'''\n",
    "\n",
    "    params = OrderedDict()\n",
    "    for operation in operation_set:\n",
    "        if operation == \"CNOT_C\" or operation == \"CNOT_T\":\n",
    "            for pauli1 in pauli_set:\n",
    "                for pauli2 in pauli_set:\n",
    "                    pauli = pauli1+pauli2\n",
    "                    params[(\"CNOT\", pauli)] = 0\n",
    "        else:\n",
    "            for pauli in pauli_set:\n",
    "                params[(operation, pauli)] = 0\n",
    "    return params\n",
    "\n",
    "print(params_list(singleGateSet))"
   ]
  },
  {
   "cell_type": "code",
   "execution_count": 69,
   "metadata": {},
   "outputs": [],
   "source": [
    "def remove_negatives(pauli):\n",
    "    '''This function takes a pauli operator and removes the negative sign from it.'''\n",
    "\n",
    "    if pauli.to_label()[0] == \"-\":\n",
    "        return qk.quantum_info.Pauli(pauli.to_label()[1:])\n",
    "    else:\n",
    "        return pauli"
   ]
  },
  {
   "cell_type": "code",
   "execution_count": 111,
   "metadata": {},
   "outputs": [
    {
     "name": "stdout",
     "output_type": "stream",
     "text": [
      "skipped  BARRIER  operation\n",
      "OrderedDict([(('X', 'X'), 1), (('X', 'Y'), 0), (('X', 'Z'), 2), (('X', 'I'), 0), (('H', 'X'), 1), (('H', 'Y'), 0), (('H', 'Z'), 0), (('H', 'I'), 0), (('Z', 'X'), 0), (('Z', 'Y'), 0), (('Z', 'Z'), 1), (('Z', 'I'), 0), (('I', 'X'), 0), (('I', 'Y'), 0), (('I', 'Z'), 0), (('I', 'I'), 0), (('S', 'X'), 0), (('S', 'Y'), 0), (('S', 'Z'), 0), (('S', 'I'), 0)])\n"
     ]
    }
   ],
   "source": [
    "def pauli_hist(circuit, pauli_initial, params_list=params_list(singleGateSet)):\n",
    "    '''This function computes the histogram of pauli operators after the circuit has been applied.\n",
    "    Inputs: circuit - A Qiskit Circuit, Clifford, or Gate object.\n",
    "            pauli_initial - A Qiskit Pauli object.\n",
    "            params_list - A dictionary of parameters for the circuit.\n",
    "    Outputs: pauli_counts - A dictionary of pauli operators and their counts.'''\n",
    "\n",
    "    pauli = pauli_initial\n",
    "\n",
    "    for op_instructions in circuit.data:\n",
    "        if op_instructions.operation.name.upper() == \"ID\" or op_instructions.operation.name.upper() == \"I\" or op_instructions.operation.name.upper() == \"BARRIER\":\n",
    "            print(\"skipped \", op_instructions.operation.name.upper(), \" operation\")\n",
    "            break\n",
    "        elif op_instructions.operation.name.upper() == \"CX\" or op_instructions.operation.name.upper() == \"CNOT\":\n",
    "            params_list[(\"CNOT_C\", pauli.to_label()[0])] += 1\n",
    "            params_list[(\"CNOT_T\", pauli.to_label()[1])] += 1\n",
    "            pauli = qk.quantum_info.Pauli(pauli.to_label()[1] + pauli.to_label()[0] + pauli.to_label()[2:])\n",
    "        else:\n",
    "            pauli = remove_negatives(pauli)\n",
    "            params_list[(op_instructions.operation.name.upper(), pauli.to_label())] += 1\n",
    "            pauli = Clifford_Permute(op_instructions.operation, pauli)\n",
    "\n",
    "    return params_list\n",
    "\n",
    "print(pauli_hist(qiskitCircuit, qk.quantum_info.Pauli('X')))"
   ]
  },
  {
   "cell_type": "code",
   "execution_count": 72,
   "metadata": {},
   "outputs": [
    {
     "name": "stdout",
     "output_type": "stream",
     "text": [
      "XIXXI\n"
     ]
    }
   ],
   "source": [
    "def generate_first_layer(length, pauli_set=[\"X\",\"Y\",\"Z\",\"I\"]):\n",
    "    first_layer = \"\"\n",
    "    for ele in np.random.choice(pauli_set, length):\n",
    "        first_layer += ele\n",
    "    return first_layer.upper()\n",
    "\n",
    "print(generate_first_layer(5))"
   ]
  },
  {
   "cell_type": "code",
   "execution_count": 112,
   "metadata": {},
   "outputs": [
    {
     "name": "stdout",
     "output_type": "stream",
     "text": [
      "     ┌───┐ ░       ░ ┌───┐ ░       ░ ┌───┐\n",
      "q_0: ┤ S ├─░───────░─┤ I ├─░───■───░─┤ Z ├\n",
      "     ├───┤ ░       ░ ├───┤ ░ ┌─┴─┐ ░ ├───┤\n",
      "q_1: ┤ S ├─░───────░─┤ H ├─░─┤ X ├─░─┤ I ├\n",
      "     ├───┤ ░       ░ ├───┤ ░ └───┘ ░ ├───┤\n",
      "q_2: ┤ I ├─░───────░─┤ S ├─░───────░─┤ H ├\n",
      "     ├───┤ ░ ┌───┐ ░ ├───┤ ░       ░ ├───┤\n",
      "q_3: ┤ Z ├─░─┤ X ├─░─┤ H ├─░───────░─┤ X ├\n",
      "     ├───┤ ░ └─┬─┘ ░ ├───┤ ░       ░ ├───┤\n",
      "q_4: ┤ Z ├─░───■───░─┤ I ├─░───────░─┤ Z ├\n",
      "     └───┘ ░       ░ └───┘ ░       ░ └───┘\n"
     ]
    },
    {
     "ename": "KeyError",
     "evalue": "('S', 'XIZII')",
     "output_type": "error",
     "traceback": [
      "\u001b[0;31m---------------------------------------------------------------------------\u001b[0m",
      "\u001b[0;31mKeyError\u001b[0m                                  Traceback (most recent call last)",
      "\u001b[1;32m/Users/devg/ACES/step3&4_notebook.ipynb Cell 10\u001b[0m line \u001b[0;36m1\n\u001b[1;32m      <a href='vscode-notebook-cell:/Users/devg/ACES/step3%264_notebook.ipynb#X12sZmlsZQ%3D%3D?line=7'>8</a>\u001b[0m \u001b[39mprint\u001b[39m(qiskitCircuit)\n\u001b[1;32m      <a href='vscode-notebook-cell:/Users/devg/ACES/step3%264_notebook.ipynb#X12sZmlsZQ%3D%3D?line=8'>9</a>\u001b[0m stringfirstlayer \u001b[39m=\u001b[39m generate_first_layer(qiskitCircuit\u001b[39m.\u001b[39mnum_qubits)\n\u001b[0;32m---> <a href='vscode-notebook-cell:/Users/devg/ACES/step3%264_notebook.ipynb#X12sZmlsZQ%3D%3D?line=9'>10</a>\u001b[0m first_row \u001b[39m=\u001b[39m pauli_hist(qiskitCircuit, qk\u001b[39m.\u001b[39;49mquantum_info\u001b[39m.\u001b[39;49mPauli(stringfirstlayer))\n",
      "\u001b[1;32m/Users/devg/ACES/step3&4_notebook.ipynb Cell 10\u001b[0m line \u001b[0;36m2\n\u001b[1;32m     <a href='vscode-notebook-cell:/Users/devg/ACES/step3%264_notebook.ipynb#X12sZmlsZQ%3D%3D?line=17'>18</a>\u001b[0m     \u001b[39melse\u001b[39;00m:\n\u001b[1;32m     <a href='vscode-notebook-cell:/Users/devg/ACES/step3%264_notebook.ipynb#X12sZmlsZQ%3D%3D?line=18'>19</a>\u001b[0m         pauli \u001b[39m=\u001b[39m remove_negatives(pauli)\n\u001b[0;32m---> <a href='vscode-notebook-cell:/Users/devg/ACES/step3%264_notebook.ipynb#X12sZmlsZQ%3D%3D?line=19'>20</a>\u001b[0m         params_list[(op_instructions\u001b[39m.\u001b[39;49moperation\u001b[39m.\u001b[39;49mname\u001b[39m.\u001b[39;49mupper(), pauli\u001b[39m.\u001b[39;49mto_label())] \u001b[39m+\u001b[39m\u001b[39m=\u001b[39m \u001b[39m1\u001b[39m\n\u001b[1;32m     <a href='vscode-notebook-cell:/Users/devg/ACES/step3%264_notebook.ipynb#X12sZmlsZQ%3D%3D?line=20'>21</a>\u001b[0m         pauli \u001b[39m=\u001b[39m Clifford_Permute(op_instructions\u001b[39m.\u001b[39moperation, pauli)\n\u001b[1;32m     <a href='vscode-notebook-cell:/Users/devg/ACES/step3%264_notebook.ipynb#X12sZmlsZQ%3D%3D?line=22'>23</a>\u001b[0m \u001b[39mreturn\u001b[39;00m params_list\n",
      "\u001b[0;31mKeyError\u001b[0m: ('S', 'XIZII')"
     ]
    }
   ],
   "source": [
    "width = 5 # num_qubits\n",
    "depth = 5 # number of layers in the circuit (easy + hard)\n",
    "singleGateSet = ['X', 'H', 'Z', 'I', 'S']\n",
    "doubleGateSet = ['CNOT_C', 'CNOT_T']\n",
    "twirlingGateSet = ['X','Y' 'Z', 'I']\n",
    "\n",
    "qiskitCircuit = transpileListToQiskitCircuit(generateCliffordCircuit(width, depth, singleGateSet, doubleGateSet))\n",
    "print(qiskitCircuit)\n",
    "stringfirstlayer = generate_first_layer(qiskitCircuit.num_qubits)\n",
    "first_row = pauli_hist(qiskitCircuit, qk.quantum_info.Pauli(stringfirstlayer))"
   ]
  },
  {
   "cell_type": "code",
   "execution_count": 149,
   "metadata": {},
   "outputs": [
    {
     "name": "stdout",
     "output_type": "stream",
     "text": [
      "     ┌───┐ ░       ░ ┌───┐ ░       ░ ┌───┐\n",
      "q_0: ┤ I ├─░───────░─┤ Z ├─░───■───░─┤ X ├\n",
      "     ├───┤ ░ ┌───┐ ░ ├───┤ ░   │   ░ ├───┤\n",
      "q_1: ┤ S ├─░─┤ X ├─░─┤ H ├─░───┼───░─┤ I ├\n",
      "     ├───┤ ░ └─┬─┘ ░ ├───┤ ░ ┌─┴─┐ ░ ├───┤\n",
      "q_2: ┤ H ├─░───■───░─┤ I ├─░─┤ X ├─░─┤ H ├\n",
      "     ├───┤ ░       ░ ├───┤ ░ └───┘ ░ ├───┤\n",
      "q_3: ┤ H ├─░───────░─┤ Z ├─░───────░─┤ Z ├\n",
      "     ├───┤ ░       ░ ├───┤ ░       ░ ├───┤\n",
      "q_4: ┤ H ├─░───────░─┤ H ├─░───────░─┤ H ├\n",
      "     └───┘ ░       ░ └───┘ ░       ░ └───┘\n",
      "OrderedDict([(('X', 'X'), 0), (('X', 'Y'), 0), (('X', 'Z'), 0), (('X', 'I'), 0), (('H', 'X'), 0), (('H', 'Y'), 0), (('H', 'Z'), 0), (('H', 'I'), 0), (('Z', 'X'), 0), (('Z', 'Y'), 0), (('Z', 'Z'), 0), (('Z', 'I'), 0), (('I', 'X'), 0), (('I', 'Y'), 0), (('I', 'Z'), 0), (('I', 'I'), 0), (('S', 'X'), 0), (('S', 'Y'), 0), (('S', 'Z'), 0), (('S', 'I'), 0)])\n",
      "current operation is:  0 ID X\n",
      "current operation is:  1 S Z\n",
      "current operation is:  2 H X\n",
      "current operation is:  3 H X\n",
      "current operation is:  4 H X\n",
      "current operation is:  2 CX X\n",
      "skipped  CX  operation\n",
      "current operation is:  0 Z X\n",
      "current operation is:  1 H Z\n",
      "current operation is:  2 ID X\n",
      "current operation is:  3 Z X\n",
      "current operation is:  4 H X\n",
      "current operation is:  0 CX X\n",
      "skipped  CX  operation\n",
      "current operation is:  0 X X\n",
      "current operation is:  1 ID Z\n",
      "current operation is:  2 H X\n",
      "current operation is:  3 Z X\n",
      "current operation is:  4 H X\n",
      "odict_values([1, 0, 0, 0, 6, 0, 1, 0, 3, 0, 0, 0, 0, 0, 0, 0, 0, 0, 1, 0])\n"
     ]
    },
    {
     "data": {
      "text/plain": [
       "odict_values([1, 0, 0, 0, 6, 0, 1, 0, 3, 0, 0, 0, 0, 0, 0, 0, 0, 0, 1, 0])"
      ]
     },
     "execution_count": 149,
     "metadata": {},
     "output_type": "execute_result"
    }
   ],
   "source": [
    "def generate_row_A():\n",
    "    '''This function generates a row of the circuit, which is a dictionary of pauli operators and their counts.'''\n",
    "    # generate the random circuit\n",
    "    random_circuit = transpileListToQiskitCircuit(generateCliffordCircuit(width, depth, singleGateSet, doubleGateSet))\n",
    "    print(random_circuit)\n",
    "\n",
    "    # get the following information from circuit: \n",
    "    # 1) input pauli layer ex. 'XIZII', with an initial list of the paulis at each register that can be overwritten.\n",
    "    # 2) empty dictionary of pauli operators and their counts ex. \n",
    "    # {('X', 'X'): 0, ('X', 'I'): 0, ('Z', 'Z'): 0, ('Z', 'I'): 0, ('I', 'X'): 0, ('I', 'I'): 0}\n",
    "    # 3) all operations in the circuit ex. ['X', 'H', 'Z', 'I', 'S', 'CNOT_C', 'CNOT_T']\n",
    "    input_pauli_layer = generate_first_layer(random_circuit.num_qubits)\n",
    "    input_pauli = [char for char in input_pauli_layer]\n",
    "    curr_row_dict = params_list(singleGateSet)\n",
    "    all_operations = curr_row_dict.keys()\n",
    "    print(curr_row_dict)\n",
    "\n",
    "    # iterate each gate in each layer of the circuit \n",
    "    for layer in split_circuit_by_barrier(random_circuit):\n",
    "        for gate in layer:\n",
    "\n",
    "            # get the register of the current gate\n",
    "            register = random_circuit.find_bit(gate.qubits[0]).index\n",
    "\n",
    "            # get the gate's operator and the input pauli\n",
    "            input_gate = gate.operation.name.upper()\n",
    "            cur_pauli = input_pauli_layer[register]\n",
    "\n",
    "            print(\"current operation is: \", register, input_gate, cur_pauli)\n",
    "\n",
    "            # check if current operation is in dict already\n",
    "            if (input_gate, cur_pauli) in all_operations:\n",
    "                # if so, increment the count\n",
    "                curr_row_dict[(input_gate, cur_pauli)] += 1\n",
    "            # if it is an identity or a barrier, we don't care about it and it won't be in our dict so ignore\n",
    "            elif input_gate == \"ID\" or input_gate == \"I\" or input_gate == \"BARRIER\":\n",
    "                continue\n",
    "            # if it is a CNOT, we need to increment the count of the control and target.\n",
    "            # NOT IMPLEMENTED YET\n",
    "            elif input_gate == \"CX\" or input_gate == \"CNOT\":\n",
    "                print(\"skipped \", input_gate, \" operation\")\n",
    "            else: \n",
    "                print(\"failed here with \", input_gate, cur_pauli)\n",
    "\n",
    "    \n",
    "    print(curr_row_dict.values())\n",
    "    return curr_row_dict.values()\n",
    "        \n",
    "\n",
    "generate_row_A()"
   ]
  },
  {
   "cell_type": "code",
   "execution_count": 86,
   "metadata": {},
   "outputs": [
    {
     "ename": "NameError",
     "evalue": "name 'generate_row_A' is not defined",
     "output_type": "error",
     "traceback": [
      "\u001b[0;31m---------------------------------------------------------------------------\u001b[0m",
      "\u001b[0;31mNameError\u001b[0m                                 Traceback (most recent call last)",
      "\u001b[1;32m/Users/devg/ACES/step3&4_notebook.ipynb Cell 11\u001b[0m line \u001b[0;36m1\n\u001b[1;32m     <a href='vscode-notebook-cell:/Users/devg/ACES/step3%264_notebook.ipynb#X11sZmlsZQ%3D%3D?line=11'>12</a>\u001b[0m             A \u001b[39m=\u001b[39m A_star\n\u001b[1;32m     <a href='vscode-notebook-cell:/Users/devg/ACES/step3%264_notebook.ipynb#X11sZmlsZQ%3D%3D?line=12'>13</a>\u001b[0m     \u001b[39mreturn\u001b[39;00m A\n\u001b[0;32m---> <a href='vscode-notebook-cell:/Users/devg/ACES/step3%264_notebook.ipynb#X11sZmlsZQ%3D%3D?line=14'>15</a>\u001b[0m \u001b[39mprint\u001b[39m(generate_A(\u001b[39m5\u001b[39;49m))\n",
      "\u001b[1;32m/Users/devg/ACES/step3&4_notebook.ipynb Cell 11\u001b[0m line \u001b[0;36m9\n\u001b[1;32m      <a href='vscode-notebook-cell:/Users/devg/ACES/step3%264_notebook.ipynb#X11sZmlsZQ%3D%3D?line=6'>7</a>\u001b[0m A \u001b[39m=\u001b[39m np\u001b[39m.\u001b[39mzeros((length, length))\n\u001b[1;32m      <a href='vscode-notebook-cell:/Users/devg/ACES/step3%264_notebook.ipynb#X11sZmlsZQ%3D%3D?line=7'>8</a>\u001b[0m \u001b[39mwhile\u001b[39;00m np\u001b[39m.\u001b[39mlinalg\u001b[39m.\u001b[39mmatrix_rank(A) \u001b[39m<\u001b[39m A\u001b[39m.\u001b[39mshape[\u001b[39m1\u001b[39m]:\n\u001b[0;32m----> <a href='vscode-notebook-cell:/Users/devg/ACES/step3%264_notebook.ipynb#X11sZmlsZQ%3D%3D?line=8'>9</a>\u001b[0m     new_row \u001b[39m=\u001b[39m generate_row_A()\n\u001b[1;32m     <a href='vscode-notebook-cell:/Users/devg/ACES/step3%264_notebook.ipynb#X11sZmlsZQ%3D%3D?line=9'>10</a>\u001b[0m     A_star \u001b[39m=\u001b[39m np\u001b[39m.\u001b[39mvstack([A, new_row])\n\u001b[1;32m     <a href='vscode-notebook-cell:/Users/devg/ACES/step3%264_notebook.ipynb#X11sZmlsZQ%3D%3D?line=10'>11</a>\u001b[0m     \u001b[39mif\u001b[39;00m np\u001b[39m.\u001b[39mlinalg\u001b[39m.\u001b[39mmatrix_rank(A_star) \u001b[39m>\u001b[39m np\u001b[39m.\u001b[39mlinalg\u001b[39m.\u001b[39mmatrix_rank(A):\n",
      "\u001b[0;31mNameError\u001b[0m: name 'generate_row_A' is not defined"
     ]
    }
   ],
   "source": [
    "def generate_A(length=5):\n",
    "    '''This function generates the A matrix by randomly generating each row, checking if it increases the rank and then continuing onwards\n",
    "    Inputs: numrow - The number of rows in the A matrix.\n",
    "            numcol - The number of columns in the A matrix.\n",
    "    Outputs: A - The A matrix.'''\n",
    "\n",
    "    A = np.zeros((length, length))\n",
    "    while np.linalg.matrix_rank(A) < A.shape[1]:\n",
    "        new_row = generate_row_A()\n",
    "        A_star = np.vstack([A, new_row])\n",
    "        if np.linalg.matrix_rank(A_star) > np.linalg.matrix_rank(A):\n",
    "            A = A_star\n",
    "    return A\n",
    "\n",
    "print(generate_A(5))\n"
   ]
  }
 ],
 "metadata": {
  "kernelspec": {
   "display_name": "Python 3",
   "language": "python",
   "name": "python3"
  },
  "language_info": {
   "codemirror_mode": {
    "name": "ipython",
    "version": 3
   },
   "file_extension": ".py",
   "mimetype": "text/x-python",
   "name": "python",
   "nbconvert_exporter": "python",
   "pygments_lexer": "ipython3",
   "version": "3.11.4"
  }
 },
 "nbformat": 4,
 "nbformat_minor": 2
}
