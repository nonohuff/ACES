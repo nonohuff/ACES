{
 "cells": [
  {
   "cell_type": "code",
   "execution_count": null,
   "metadata": {},
   "outputs": [],
   "source": [
    "import numpy as np\n",
    "import matplotlib.pyplot as plt\n",
    "import qiskit as qk\n",
    "import random\n",
    "from collections import Counter\n",
    "from collections import OrderedDict\n",
    "# from ipynb.fs.full.dev_notebook import stringToQiskitSingleGate\n",
    "\n",
    "from generator import generateCliffordCircuit"
   ]
  },
  {
   "cell_type": "code",
   "execution_count": 3,
   "metadata": {},
   "outputs": [],
   "source": [
    "def stringToQiskitSingleGate(gateString, qiskitCir, whichQubit):\n",
    "    if gateString == 'I':\n",
    "        qiskitCir.id(whichQubit)\n",
    "    elif gateString == 'X':\n",
    "        qiskitCir.x(whichQubit)\n",
    "    elif gateString == 'Y':\n",
    "        qiskitCir.y(whichQubit)\n",
    "    elif gateString == 'Z':\n",
    "        qiskitCir.z(whichQubit)\n",
    "    elif gateString == 'H':\n",
    "        qiskitCir.h(whichQubit)\n",
    "    elif gateString == 'S':\n",
    "        qiskitCir.s(whichQubit)\n",
    "        \n",
    "def transpileListToQiskitCircuit(cir):\n",
    "    depth = len(cir)\n",
    "    width = len(cir[0])\n",
    "    qiskitCir = qk.QuantumCircuit(width)\n",
    "    for d in range(width):\n",
    "        if d % 2 == 0:\n",
    "            for w in range(width):\n",
    "                singleGate = cir[d][w]\n",
    "                stringToQiskitSingleGate(singleGate, qiskitCir, w)\n",
    "            if d != width - 1:\n",
    "                qiskitCir.barrier()\n",
    "        else:\n",
    "            c = cir[d].index('CNOT_C')\n",
    "            t = cir[d].index('CNOT_T')\n",
    "            qiskitCir.cx(c, t)\n",
    "            if d != width - 1:\n",
    "                qiskitCir.barrier()\n",
    "    return qiskitCir"
   ]
  },
  {
   "cell_type": "code",
   "execution_count": 4,
   "metadata": {},
   "outputs": [
    {
     "name": "stdout",
     "output_type": "stream",
     "text": [
      "[['Z', 'Z', 'I', 'H', 'X'], ['CNOT_T', 'I', 'I', 'CNOT_C', 'I'], ['X', 'I', 'H', 'I', 'Z'], ['I', 'I', 'I', 'CNOT_T', 'CNOT_C'], ['X', 'S', 'H', 'H', 'H']]\n",
      "     ┌───┐ ░ ┌───┐ ░ ┌───┐ ░       ░ ┌───┐\n",
      "q_0: ┤ Z ├─░─┤ X ├─░─┤ X ├─░───────░─┤ X ├\n",
      "     ├───┤ ░ └─┬─┘ ░ ├───┤ ░       ░ ├───┤\n",
      "q_1: ┤ Z ├─░───┼───░─┤ I ├─░───────░─┤ S ├\n",
      "     ├───┤ ░   │   ░ ├───┤ ░       ░ ├───┤\n",
      "q_2: ┤ I ├─░───┼───░─┤ H ├─░───────░─┤ H ├\n",
      "     ├───┤ ░   │   ░ ├───┤ ░ ┌───┐ ░ ├───┤\n",
      "q_3: ┤ H ├─░───■───░─┤ I ├─░─┤ X ├─░─┤ H ├\n",
      "     ├───┤ ░       ░ ├───┤ ░ └─┬─┘ ░ ├───┤\n",
      "q_4: ┤ X ├─░───────░─┤ Z ├─░───■───░─┤ H ├\n",
      "     └───┘ ░       ░ └───┘ ░       ░ └───┘\n"
     ]
    }
   ],
   "source": [
    "width = 5 # num_qubits\n",
    "depth = 5 # number of layers in the circuit (easy + hard)\n",
    "singleGateSet = ['X', 'H', 'Z', 'I', 'S']\n",
    "doubleGateSet = ['CNOT_C', 'CNOT_T']\n",
    "twirlingGateSet = ['X','Y' 'Z', 'I']\n",
    "\n",
    "circuit = generateCliffordCircuit(width, depth, singleGateSet, doubleGateSet)\n",
    "qiskitCircuit = transpileListToQiskitCircuit(circuit)\n",
    "print(circuit)\n",
    "if depth < 10:\n",
    "    print(qiskitCircuit)"
   ]
  },
  {
   "cell_type": "code",
   "execution_count": 5,
   "metadata": {},
   "outputs": [],
   "source": [
    "def Clifford_Permute(cliff,pauli):\n",
    "    '''This function permutes the pauli operators according to the clifford group, so it computes \n",
    "    P' = C P C^T, where C is a clifford operator and P is a pauli operator.\n",
    "    Inputs: cliff - A Qiskit Circuit, Clifford, or Gate object.\n",
    "            pauli - A Qiskit Pauli object.\n",
    "    Outputs: new_pauli - A Qiskit Pauli object.'''\n",
    "\n",
    "    return pauli.evolve(cliff,frame=\"s\")"
   ]
  },
  {
   "cell_type": "code",
   "execution_count": 6,
   "metadata": {},
   "outputs": [
    {
     "data": {
      "text/plain": [
       "Pauli('YYXYX')"
      ]
     },
     "execution_count": 6,
     "metadata": {},
     "output_type": "execute_result"
    }
   ],
   "source": [
    "Clifford_Permute(qiskitCircuit, qk.quantum_info.Pauli('X'*width))"
   ]
  },
  {
   "cell_type": "code",
   "execution_count": 68,
   "metadata": {},
   "outputs": [
    {
     "name": "stdout",
     "output_type": "stream",
     "text": [
      "reached here 2\n",
      "reached here 2\n",
      "reached here 2\n",
      "reached here 2\n",
      "reached here 2\n",
      "OrderedDict([(('X', 'X'), 0), (('X', 'Y'), 0), (('X', 'Z'), 0), (('X', 'I'), 0), (('H', 'X'), 0), (('H', 'Y'), 0), (('H', 'Z'), 0), (('H', 'I'), 0), (('Z', 'X'), 0), (('Z', 'Y'), 0), (('Z', 'Z'), 0), (('Z', 'I'), 0), (('I', 'X'), 0), (('I', 'Y'), 0), (('I', 'Z'), 0), (('I', 'I'), 0), (('S', 'X'), 0), (('S', 'Y'), 0), (('S', 'Z'), 0), (('S', 'I'), 0)])\n"
     ]
    }
   ],
   "source": [
    "def params_list(operation_set, pauli_set=[\"X\",\"Y\",\"Z\",\"I\"]):\n",
    "    '''This function generates a dictionary of parameters for the given operation set.\n",
    "    Inputs: operation_set - A list of operations.\n",
    "            pauli_set - A list of pauli operators.\n",
    "    Outputs: params - A dictionary of parameters, with each set to 0.'''\n",
    "\n",
    "    params = OrderedDict()\n",
    "    for operation in operation_set:\n",
    "        if operation == \"CNOT_C\" or operation == \"CNOT_T\":\n",
    "            print(\"reached here\")\n",
    "            for pauli1 in pauli_set:\n",
    "                for pauli2 in pauli_set:\n",
    "                    pauli = pauli1+pauli2\n",
    "                    params[(\"CNOT\", pauli)] = 0\n",
    "        else:\n",
    "            print(\"reached here 2\")\n",
    "            for pauli in pauli_set:\n",
    "                params[(operation, pauli)] = 0\n",
    "    return params\n",
    "\n",
    "print(params_list(singleGateSet))"
   ]
  },
  {
   "cell_type": "code",
   "execution_count": 69,
   "metadata": {},
   "outputs": [],
   "source": [
    "def remove_negatives(pauli):\n",
    "    '''This function takes a pauli operator and removes the negative sign from it.'''\n",
    "\n",
    "    if pauli.to_label()[0] == \"-\":\n",
    "        return qk.quantum_info.Pauli(pauli.to_label()[1:])\n",
    "    else:\n",
    "        return pauli"
   ]
  },
  {
   "cell_type": "code",
   "execution_count": 71,
   "metadata": {},
   "outputs": [
    {
     "name": "stdout",
     "output_type": "stream",
     "text": [
      "reached here 2\n",
      "reached here 2\n",
      "reached here 2\n",
      "reached here 2\n",
      "reached here 2\n",
      "skipped  BARRIER  operation\n",
      "OrderedDict([(('X', 'X'), 0), (('X', 'Y'), 0), (('X', 'Z'), 0), (('X', 'I'), 0), (('H', 'X'), 0), (('H', 'Y'), 1), (('H', 'Z'), 0), (('H', 'I'), 0), (('Z', 'X'), 1), (('Z', 'Y'), 1), (('Z', 'Z'), 0), (('Z', 'I'), 0), (('I', 'X'), 0), (('I', 'Y'), 0), (('I', 'Z'), 0), (('I', 'I'), 0), (('S', 'X'), 1), (('S', 'Y'), 1), (('S', 'Z'), 0), (('S', 'I'), 0)])\n"
     ]
    }
   ],
   "source": [
    "def pauli_hist(circuit, pauli_initial, params_list=params_list(singleGateSet)):\n",
    "    '''This function computes the histogram of pauli operators after the circuit has been applied.\n",
    "    Inputs: circuit - A Qiskit Circuit, Clifford, or Gate object.\n",
    "            pauli_initial - A Qiskit Pauli object.\n",
    "            params_list - A dictionary of parameters for the circuit.\n",
    "    Outputs: pauli_counts - A dictionary of pauli operators and their counts.'''\n",
    "\n",
    "    pauli = pauli_initial\n",
    "\n",
    "    for op_instructions in circuit.data:\n",
    "        if op_instructions.operation.name.upper() == \"ID\" or op_instructions.operation.name.upper() == \"I\" or op_instructions.operation.name.upper() == \"BARRIER\":\n",
    "            print(\"skipped \", op_instructions.operation.name.upper(), \" operation\")\n",
    "            break\n",
    "        elif op_instructions.operation.name.upper() == \"CX\" or op_instructions.operation.name.upper() == \"CNOT\":\n",
    "            params_list[(\"CNOT_C\", pauli.to_label()[0])] += 1\n",
    "            params_list[(\"CNOT_T\", pauli.to_label()[1])] += 1\n",
    "            pauli = qk.quantum_info.Pauli(pauli.to_label()[1] + pauli.to_label()[0] + pauli.to_label()[2:])\n",
    "        else:\n",
    "            pauli = remove_negatives(pauli)\n",
    "            params_list[(op_instructions.operation.name.upper(), pauli.to_label())] += 1\n",
    "            pauli = Clifford_Permute(op_instructions.operation, pauli)\n",
    "\n",
    "    return params_list\n",
    "\n",
    "print(pauli_hist(qiskitCircuit, qk.quantum_info.Pauli('X')))"
   ]
  },
  {
   "cell_type": "code",
   "execution_count": 72,
   "metadata": {},
   "outputs": [
    {
     "name": "stdout",
     "output_type": "stream",
     "text": [
      "XIXXI\n"
     ]
    }
   ],
   "source": [
    "def generate_first_layer(length, pauli_set=[\"X\",\"Y\",\"Z\",\"I\"]):\n",
    "    first_layer = \"\"\n",
    "    for ele in np.random.choice(pauli_set, length):\n",
    "        first_layer += ele\n",
    "    return first_layer.upper()\n",
    "\n",
    "print(generate_first_layer(5))"
   ]
  },
  {
   "cell_type": "code",
   "execution_count": 78,
   "metadata": {},
   "outputs": [
    {
     "name": "stdout",
     "output_type": "stream",
     "text": [
      "     ┌───┐ ░       ░ ┌───┐ ░       ░ ┌───┐\n",
      "q_0: ┤ X ├─░───────░─┤ X ├─░───────░─┤ S ├\n",
      "     ├───┤ ░ ┌───┐ ░ ├───┤ ░       ░ ├───┤\n",
      "q_1: ┤ H ├─░─┤ X ├─░─┤ X ├─░───────░─┤ I ├\n",
      "     ├───┤ ░ └─┬─┘ ░ ├───┤ ░       ░ ├───┤\n",
      "q_2: ┤ X ├─░───■───░─┤ X ├─░───────░─┤ S ├\n",
      "     ├───┤ ░       ░ ├───┤ ░       ░ ├───┤\n",
      "q_3: ┤ X ├─░───────░─┤ Z ├─░───■───░─┤ I ├\n",
      "     ├───┤ ░       ░ ├───┤ ░ ┌─┴─┐ ░ ├───┤\n",
      "q_4: ┤ Z ├─░───────░─┤ Z ├─░─┤ X ├─░─┤ I ├\n",
      "     └───┘ ░       ░ └───┘ ░ └───┘ ░ └───┘\n"
     ]
    },
    {
     "ename": "KeyError",
     "evalue": "('X', 'IXIIZ')",
     "output_type": "error",
     "traceback": [
      "\u001b[0;31m---------------------------------------------------------------------------\u001b[0m",
      "\u001b[0;31mKeyError\u001b[0m                                  Traceback (most recent call last)",
      "\u001b[1;32m/Users/devg/ACES/step3&4_notebook.ipynb Cell 10\u001b[0m line \u001b[0;36m1\n\u001b[1;32m      <a href='vscode-notebook-cell:/Users/devg/ACES/step3%264_notebook.ipynb#X12sZmlsZQ%3D%3D?line=7'>8</a>\u001b[0m \u001b[39mprint\u001b[39m(qiskitCircuit)\n\u001b[1;32m      <a href='vscode-notebook-cell:/Users/devg/ACES/step3%264_notebook.ipynb#X12sZmlsZQ%3D%3D?line=8'>9</a>\u001b[0m stringfirstlayer \u001b[39m=\u001b[39m generate_first_layer(qiskitCircuit\u001b[39m.\u001b[39mnum_qubits)\n\u001b[0;32m---> <a href='vscode-notebook-cell:/Users/devg/ACES/step3%264_notebook.ipynb#X12sZmlsZQ%3D%3D?line=9'>10</a>\u001b[0m first_row \u001b[39m=\u001b[39m pauli_hist(qiskitCircuit, qk\u001b[39m.\u001b[39;49mquantum_info\u001b[39m.\u001b[39;49mPauli(stringfirstlayer))\n",
      "\u001b[1;32m/Users/devg/ACES/step3&4_notebook.ipynb Cell 10\u001b[0m line \u001b[0;36m2\n\u001b[1;32m     <a href='vscode-notebook-cell:/Users/devg/ACES/step3%264_notebook.ipynb#X12sZmlsZQ%3D%3D?line=17'>18</a>\u001b[0m     \u001b[39melse\u001b[39;00m:\n\u001b[1;32m     <a href='vscode-notebook-cell:/Users/devg/ACES/step3%264_notebook.ipynb#X12sZmlsZQ%3D%3D?line=18'>19</a>\u001b[0m         pauli \u001b[39m=\u001b[39m remove_negatives(pauli)\n\u001b[0;32m---> <a href='vscode-notebook-cell:/Users/devg/ACES/step3%264_notebook.ipynb#X12sZmlsZQ%3D%3D?line=19'>20</a>\u001b[0m         params_list[(op_instructions\u001b[39m.\u001b[39;49moperation\u001b[39m.\u001b[39;49mname\u001b[39m.\u001b[39;49mupper(), pauli\u001b[39m.\u001b[39;49mto_label())] \u001b[39m+\u001b[39m\u001b[39m=\u001b[39m \u001b[39m1\u001b[39m\n\u001b[1;32m     <a href='vscode-notebook-cell:/Users/devg/ACES/step3%264_notebook.ipynb#X12sZmlsZQ%3D%3D?line=20'>21</a>\u001b[0m         pauli \u001b[39m=\u001b[39m Clifford_Permute(op_instructions\u001b[39m.\u001b[39moperation, pauli)\n\u001b[1;32m     <a href='vscode-notebook-cell:/Users/devg/ACES/step3%264_notebook.ipynb#X12sZmlsZQ%3D%3D?line=22'>23</a>\u001b[0m \u001b[39mreturn\u001b[39;00m params_list\n",
      "\u001b[0;31mKeyError\u001b[0m: ('X', 'IXIIZ')"
     ]
    }
   ],
   "source": [
    "width = 5 # num_qubits\n",
    "depth = 5 # number of layers in the circuit (easy + hard)\n",
    "singleGateSet = ['X', 'H', 'Z', 'I', 'S']\n",
    "doubleGateSet = ['CNOT_C', 'CNOT_T']\n",
    "twirlingGateSet = ['X','Y' 'Z', 'I']\n",
    "\n",
    "qiskitCircuit = transpileListToQiskitCircuit(generateCliffordCircuit(width, depth, singleGateSet, doubleGateSet))\n",
    "print(qiskitCircuit)\n",
    "stringfirstlayer = generate_first_layer(qiskitCircuit.num_qubits)\n",
    "first_row = pauli_hist(qiskitCircuit, qk.quantum_info.Pauli(stringfirstlayer))"
   ]
  },
  {
   "cell_type": "code",
   "execution_count": null,
   "metadata": {},
   "outputs": [],
   "source": [
    "def generate_row():\n",
    "    '''This function generates a row of the circuit, which is a dictionary of pauli operators and their counts.'''\n",
    "\n",
    "    row = OrderedDict()\n",
    "    for key in first_row:\n",
    "        row[key] = np.random.randint(0, 4)\n",
    "    return row"
   ]
  },
  {
   "cell_type": "code",
   "execution_count": 86,
   "metadata": {},
   "outputs": [
    {
     "ename": "NameError",
     "evalue": "name 'generate_row_A' is not defined",
     "output_type": "error",
     "traceback": [
      "\u001b[0;31m---------------------------------------------------------------------------\u001b[0m",
      "\u001b[0;31mNameError\u001b[0m                                 Traceback (most recent call last)",
      "\u001b[1;32m/Users/devg/ACES/step3&4_notebook.ipynb Cell 11\u001b[0m line \u001b[0;36m1\n\u001b[1;32m     <a href='vscode-notebook-cell:/Users/devg/ACES/step3%264_notebook.ipynb#X11sZmlsZQ%3D%3D?line=11'>12</a>\u001b[0m             A \u001b[39m=\u001b[39m A_star\n\u001b[1;32m     <a href='vscode-notebook-cell:/Users/devg/ACES/step3%264_notebook.ipynb#X11sZmlsZQ%3D%3D?line=12'>13</a>\u001b[0m     \u001b[39mreturn\u001b[39;00m A\n\u001b[0;32m---> <a href='vscode-notebook-cell:/Users/devg/ACES/step3%264_notebook.ipynb#X11sZmlsZQ%3D%3D?line=14'>15</a>\u001b[0m \u001b[39mprint\u001b[39m(generate_A(\u001b[39m5\u001b[39;49m))\n",
      "\u001b[1;32m/Users/devg/ACES/step3&4_notebook.ipynb Cell 11\u001b[0m line \u001b[0;36m9\n\u001b[1;32m      <a href='vscode-notebook-cell:/Users/devg/ACES/step3%264_notebook.ipynb#X11sZmlsZQ%3D%3D?line=6'>7</a>\u001b[0m A \u001b[39m=\u001b[39m np\u001b[39m.\u001b[39mzeros((length, length))\n\u001b[1;32m      <a href='vscode-notebook-cell:/Users/devg/ACES/step3%264_notebook.ipynb#X11sZmlsZQ%3D%3D?line=7'>8</a>\u001b[0m \u001b[39mwhile\u001b[39;00m np\u001b[39m.\u001b[39mlinalg\u001b[39m.\u001b[39mmatrix_rank(A) \u001b[39m<\u001b[39m A\u001b[39m.\u001b[39mshape[\u001b[39m1\u001b[39m]:\n\u001b[0;32m----> <a href='vscode-notebook-cell:/Users/devg/ACES/step3%264_notebook.ipynb#X11sZmlsZQ%3D%3D?line=8'>9</a>\u001b[0m     new_row \u001b[39m=\u001b[39m generate_row_A()\n\u001b[1;32m     <a href='vscode-notebook-cell:/Users/devg/ACES/step3%264_notebook.ipynb#X11sZmlsZQ%3D%3D?line=9'>10</a>\u001b[0m     A_star \u001b[39m=\u001b[39m np\u001b[39m.\u001b[39mvstack([A, new_row])\n\u001b[1;32m     <a href='vscode-notebook-cell:/Users/devg/ACES/step3%264_notebook.ipynb#X11sZmlsZQ%3D%3D?line=10'>11</a>\u001b[0m     \u001b[39mif\u001b[39;00m np\u001b[39m.\u001b[39mlinalg\u001b[39m.\u001b[39mmatrix_rank(A_star) \u001b[39m>\u001b[39m np\u001b[39m.\u001b[39mlinalg\u001b[39m.\u001b[39mmatrix_rank(A):\n",
      "\u001b[0;31mNameError\u001b[0m: name 'generate_row_A' is not defined"
     ]
    }
   ],
   "source": [
    "def generate_A(length=5):\n",
    "    '''This function generates the A matrix by randomly generating each row, checking if it increases the rank and then continuing onwards\n",
    "    Inputs: numrow - The number of rows in the A matrix.\n",
    "            numcol - The number of columns in the A matrix.\n",
    "    Outputs: A - The A matrix.'''\n",
    "\n",
    "    A = np.zeros((length, length))\n",
    "    while np.linalg.matrix_rank(A) < A.shape[1]:\n",
    "        new_row = generate_row_A()\n",
    "        A_star = np.vstack([A, new_row])\n",
    "        if np.linalg.matrix_rank(A_star) > np.linalg.matrix_rank(A):\n",
    "            A = A_star\n",
    "    return A\n",
    "\n",
    "print(generate_A(5))\n"
   ]
  }
 ],
 "metadata": {
  "kernelspec": {
   "display_name": "Python 3",
   "language": "python",
   "name": "python3"
  },
  "language_info": {
   "codemirror_mode": {
    "name": "ipython",
    "version": 3
   },
   "file_extension": ".py",
   "mimetype": "text/x-python",
   "name": "python",
   "nbconvert_exporter": "python",
   "pygments_lexer": "ipython3",
   "version": "3.11.4"
  }
 },
 "nbformat": 4,
 "nbformat_minor": 2
}
