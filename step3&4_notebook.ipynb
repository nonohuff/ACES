{
 "cells": [
  {
   "cell_type": "code",
   "execution_count": 3,
   "metadata": {},
   "outputs": [],
   "source": [
    "import numpy as np\n",
    "import matplotlib.pyplot as plt\n",
    "import qiskit as qk\n",
    "import random\n",
    "from collections import Counter\n",
    "\n",
    "from generator import generateCliffordCircuit"
   ]
  },
  {
   "cell_type": "code",
   "execution_count": 4,
   "metadata": {},
   "outputs": [],
   "source": [
    "def stringToQiskitSingleGate(gateString, qiskitCir, whichQubit):\n",
    "    if gateString == 'I':\n",
    "        qiskitCir.id(whichQubit)\n",
    "    elif gateString == 'X':\n",
    "        qiskitCir.x(whichQubit)\n",
    "    elif gateString == 'Y':\n",
    "        qiskitCir.y(whichQubit)\n",
    "    elif gateString == 'Z':\n",
    "        qiskitCir.z(whichQubit)\n",
    "    elif gateString == 'H':\n",
    "        qiskitCir.h(whichQubit)\n",
    "    elif gateString == 'S':\n",
    "        qiskitCir.s(whichQubit)\n",
    "        \n",
    "def transpileListToQiskitCircuit(cir):\n",
    "    depth = len(cir)\n",
    "    width = len(cir[0])\n",
    "    qiskitCir = qk.QuantumCircuit(width)\n",
    "    for d in range(width):\n",
    "        if d % 2 == 0:\n",
    "            for w in range(width):\n",
    "                singleGate = cir[d][w]\n",
    "                stringToQiskitSingleGate(singleGate, qiskitCir, w)\n",
    "            if d != width - 1:\n",
    "                qiskitCir.barrier()\n",
    "        else:\n",
    "            c = cir[d].index('CNOT_C')\n",
    "            t = cir[d].index('CNOT_T')\n",
    "            qiskitCir.cx(c, t)\n",
    "            if d != width - 1:\n",
    "                qiskitCir.barrier()\n",
    "    return qiskitCir"
   ]
  },
  {
   "cell_type": "code",
   "execution_count": 5,
   "metadata": {},
   "outputs": [
    {
     "name": "stdout",
     "output_type": "stream",
     "text": [
      "[['Z', 'I', 'I', 'Z', 'Z'], ['CNOT_T', 'I', 'I', 'I', 'CNOT_C'], ['S', 'X', 'S', 'H', 'H'], ['I', 'CNOT_C', 'CNOT_T', 'I', 'I'], ['H', 'Z', 'S', 'I', 'Z']]\n",
      "     ┌───┐ ░ ┌───┐ ░ ┌───┐ ░       ░ ┌───┐\n",
      "q_0: ┤ Z ├─░─┤ X ├─░─┤ S ├─░───────░─┤ H ├\n",
      "     ├───┤ ░ └─┬─┘ ░ ├───┤ ░       ░ ├───┤\n",
      "q_1: ┤ I ├─░───┼───░─┤ X ├─░───■───░─┤ Z ├\n",
      "     ├───┤ ░   │   ░ ├───┤ ░ ┌─┴─┐ ░ ├───┤\n",
      "q_2: ┤ I ├─░───┼───░─┤ S ├─░─┤ X ├─░─┤ S ├\n",
      "     ├───┤ ░   │   ░ ├───┤ ░ └───┘ ░ ├───┤\n",
      "q_3: ┤ Z ├─░───┼───░─┤ H ├─░───────░─┤ I ├\n",
      "     ├───┤ ░   │   ░ ├───┤ ░       ░ ├───┤\n",
      "q_4: ┤ Z ├─░───■───░─┤ H ├─░───────░─┤ Z ├\n",
      "     └───┘ ░       ░ └───┘ ░       ░ └───┘\n"
     ]
    }
   ],
   "source": [
    "width = 5 # num_qubits\n",
    "depth = 5 # number of layers in the circuit (easy + hard)\n",
    "singleGateSet = ['X', 'H', 'Z', 'I', 'S']\n",
    "doubleGateSet = ['CNOT_C', 'CNOT_T']\n",
    "twirlingGateSet = ['X','Y' 'Z', 'I']\n",
    "\n",
    "circuit = generateCliffordCircuit(width, depth, singleGateSet, doubleGateSet)\n",
    "qiskitCircuit = transpileListToQiskitCircuit(circuit)\n",
    "print(circuit)\n",
    "if depth < 10:\n",
    "    print(qiskitCircuit)"
   ]
  },
  {
   "cell_type": "code",
   "execution_count": 6,
   "metadata": {},
   "outputs": [],
   "source": [
    "def Clifford_Permute(cliff,pauli):\n",
    "    '''This function permutes the pauli operators according to the clifford group, so it computes \n",
    "    P' = C P C^T, where C is a clifford operator and P is a pauli operator.\n",
    "    Inputs: cliff - A Qiskit Circuit, Clifford, or Gate object.\n",
    "            pauli - A Qiskit Pauli object.\n",
    "    Outputs: new_pauli - A Qiskit Pauli object.'''\n",
    "\n",
    "    return pauli.evolve(cliff,frame=\"s\")"
   ]
  },
  {
   "cell_type": "code",
   "execution_count": 7,
   "metadata": {},
   "outputs": [
    {
     "data": {
      "text/plain": [
       "Pauli('ZZZYI')"
      ]
     },
     "execution_count": 7,
     "metadata": {},
     "output_type": "execute_result"
    }
   ],
   "source": [
    "Clifford_Permute(qiskitCircuit, qk.quantum_info.Pauli('X'*width))"
   ]
  },
  {
   "cell_type": "code",
   "execution_count": 12,
   "metadata": {},
   "outputs": [],
   "source": [
    "def build_A_2(num_rows=10, num_columns=10, curr_pauli ='X'):\n",
    "    '''This function builds the A matrix for the linear system of equations, Ax=b, where x is the vector of \n",
    "    pauli expectation values. The A matrix is built by applying the clifford group to the pauli operators.\n",
    "    Inputs: num_rows - The number of rows in the A matrix.\n",
    "            num_columns - The number of columns in the A matrix.\n",
    "            curr_clifford - The clifford to apply to the pauli operators.\n",
    "    Outputs: A - A numpy array representing the A matrix.'''\n",
    "    A = np.zeros((num_rows,num_columns),dtype=np.complex128)\n",
    "    for i in range(num_rows):\n",
    "        for j in range(num_columns):\n",
    "            pauli = qk.quantum_info.Pauli('I'*width)\n",
    "            for k in range(width):\n",
    "                if j & (1 << k):\n",
    "                    pauli = pauli.tensor(qk.quantum_info.Pauli('Z'))\n",
    "                else:\n",
    "                    pauli = pauli.tensor(qk.quantum_info.Pauli('X'))\n",
    "            A[i,j] = Clifford_Permute(curr_pauli,pauli).to_matrix()[0,0]\n",
    "        curr_pauli = qk.quantum_info.random_clifford(width).to_matrix()\n",
    "    return A"
   ]
  },
  {
   "cell_type": "code",
   "execution_count": 13,
   "metadata": {},
   "outputs": [
    {
     "ename": "QiskitError",
     "evalue": "'Incorrect number of qubits for Clifford circuit (1 != 10).'",
     "output_type": "error",
     "traceback": [
      "\u001b[0;31m---------------------------------------------------------------------------\u001b[0m",
      "\u001b[0;31mQiskitError\u001b[0m                               Traceback (most recent call last)",
      "\u001b[1;32m/Users/devg/ACES/step3&4_notebook.ipynb Cell 8\u001b[0m line \u001b[0;36m1\n\u001b[0;32m----> <a href='vscode-notebook-cell:/Users/devg/ACES/step3%264_notebook.ipynb#X11sZmlsZQ%3D%3D?line=0'>1</a>\u001b[0m build_A_2()\n",
      "\u001b[1;32m/Users/devg/ACES/step3&4_notebook.ipynb Cell 8\u001b[0m line \u001b[0;36m1\n\u001b[1;32m      <a href='vscode-notebook-cell:/Users/devg/ACES/step3%264_notebook.ipynb#X11sZmlsZQ%3D%3D?line=8'>9</a>\u001b[0m             \u001b[39melse\u001b[39;00m:\n\u001b[1;32m     <a href='vscode-notebook-cell:/Users/devg/ACES/step3%264_notebook.ipynb#X11sZmlsZQ%3D%3D?line=9'>10</a>\u001b[0m                 pauli \u001b[39m=\u001b[39m pauli\u001b[39m.\u001b[39mtensor(qk\u001b[39m.\u001b[39mquantum_info\u001b[39m.\u001b[39mPauli(\u001b[39m'\u001b[39m\u001b[39mX\u001b[39m\u001b[39m'\u001b[39m))\n\u001b[0;32m---> <a href='vscode-notebook-cell:/Users/devg/ACES/step3%264_notebook.ipynb#X11sZmlsZQ%3D%3D?line=10'>11</a>\u001b[0m         A[i,j] \u001b[39m=\u001b[39m Clifford_Permute(curr_pauli,pauli)\u001b[39m.\u001b[39mto_matrix()[\u001b[39m0\u001b[39m,\u001b[39m0\u001b[39m]\n\u001b[1;32m     <a href='vscode-notebook-cell:/Users/devg/ACES/step3%264_notebook.ipynb#X11sZmlsZQ%3D%3D?line=11'>12</a>\u001b[0m     curr_pauli \u001b[39m=\u001b[39m qk\u001b[39m.\u001b[39mquantum_info\u001b[39m.\u001b[39mrandom_clifford(width)\u001b[39m.\u001b[39mto_matrix()\n\u001b[1;32m     <a href='vscode-notebook-cell:/Users/devg/ACES/step3%264_notebook.ipynb#X11sZmlsZQ%3D%3D?line=12'>13</a>\u001b[0m \u001b[39mreturn\u001b[39;00m A\n",
      "\u001b[1;32m/Users/devg/ACES/step3&4_notebook.ipynb Cell 8\u001b[0m line \u001b[0;36m8\n\u001b[1;32m      <a href='vscode-notebook-cell:/Users/devg/ACES/step3%264_notebook.ipynb#X11sZmlsZQ%3D%3D?line=0'>1</a>\u001b[0m \u001b[39mdef\u001b[39;00m \u001b[39mClifford_Permute\u001b[39m(cliff,pauli):\n\u001b[1;32m      <a href='vscode-notebook-cell:/Users/devg/ACES/step3%264_notebook.ipynb#X11sZmlsZQ%3D%3D?line=1'>2</a>\u001b[0m \u001b[39m    \u001b[39m\u001b[39m'''This function permutes the pauli operators according to the clifford group, so it computes \u001b[39;00m\n\u001b[1;32m      <a href='vscode-notebook-cell:/Users/devg/ACES/step3%264_notebook.ipynb#X11sZmlsZQ%3D%3D?line=2'>3</a>\u001b[0m \u001b[39m    P' = C P C^T, where C is a clifford operator and P is a pauli operator.\u001b[39;00m\n\u001b[1;32m      <a href='vscode-notebook-cell:/Users/devg/ACES/step3%264_notebook.ipynb#X11sZmlsZQ%3D%3D?line=3'>4</a>\u001b[0m \u001b[39m    Inputs: cliff - A Qiskit Circuit, Clifford, or Gate object.\u001b[39;00m\n\u001b[1;32m      <a href='vscode-notebook-cell:/Users/devg/ACES/step3%264_notebook.ipynb#X11sZmlsZQ%3D%3D?line=4'>5</a>\u001b[0m \u001b[39m            pauli - A Qiskit Pauli object.\u001b[39;00m\n\u001b[1;32m      <a href='vscode-notebook-cell:/Users/devg/ACES/step3%264_notebook.ipynb#X11sZmlsZQ%3D%3D?line=5'>6</a>\u001b[0m \u001b[39m    Outputs: new_pauli - A Qiskit Pauli object.'''\u001b[39;00m\n\u001b[0;32m----> <a href='vscode-notebook-cell:/Users/devg/ACES/step3%264_notebook.ipynb#X11sZmlsZQ%3D%3D?line=7'>8</a>\u001b[0m     \u001b[39mreturn\u001b[39;00m pauli\u001b[39m.\u001b[39;49mevolve(cliff,frame\u001b[39m=\u001b[39;49m\u001b[39m\"\u001b[39;49m\u001b[39ms\u001b[39;49m\u001b[39m\"\u001b[39;49m)\n",
      "File \u001b[0;32m/Library/Frameworks/Python.framework/Versions/3.11/lib/python3.11/site-packages/qiskit/quantum_info/operators/symplectic/pauli.py:596\u001b[0m, in \u001b[0;36mPauli.evolve\u001b[0;34m(self, other, qargs, frame)\u001b[0m\n\u001b[1;32m    592\u001b[0m \u001b[39mif\u001b[39;00m \u001b[39mnot\u001b[39;00m \u001b[39misinstance\u001b[39m(other, (Pauli, Instruction, QuantumCircuit, Clifford)):\n\u001b[1;32m    593\u001b[0m     \u001b[39m# Convert to a Pauli\u001b[39;00m\n\u001b[1;32m    594\u001b[0m     other \u001b[39m=\u001b[39m Pauli(other)\n\u001b[0;32m--> 596\u001b[0m \u001b[39mreturn\u001b[39;00m Pauli(\u001b[39msuper\u001b[39;49m()\u001b[39m.\u001b[39;49mevolve(other, qargs\u001b[39m=\u001b[39;49mqargs, frame\u001b[39m=\u001b[39;49mframe))\n",
      "File \u001b[0;32m/Library/Frameworks/Python.framework/Versions/3.11/lib/python3.11/site-packages/qiskit/quantum_info/operators/symplectic/base_pauli.py:270\u001b[0m, in \u001b[0;36mBasePauli.evolve\u001b[0;34m(self, other, qargs, frame)\u001b[0m\n\u001b[1;32m    264\u001b[0m     \u001b[39mraise\u001b[39;00m QiskitError(\n\u001b[1;32m    265\u001b[0m         \u001b[39m\"\u001b[39m\u001b[39mIncorrect number of qubits for Clifford circuit (\u001b[39m\u001b[39m{}\u001b[39;00m\u001b[39m != \u001b[39m\u001b[39m{}\u001b[39;00m\u001b[39m).\u001b[39m\u001b[39m\"\u001b[39m\u001b[39m.\u001b[39mformat(\n\u001b[1;32m    266\u001b[0m             other\u001b[39m.\u001b[39mnum_qubits, \u001b[39mlen\u001b[39m(qargs)\n\u001b[1;32m    267\u001b[0m         )\n\u001b[1;32m    268\u001b[0m     )\n\u001b[1;32m    269\u001b[0m \u001b[39mif\u001b[39;00m qargs \u001b[39mis\u001b[39;00m \u001b[39mNone\u001b[39;00m \u001b[39mand\u001b[39;00m \u001b[39mself\u001b[39m\u001b[39m.\u001b[39mnum_qubits \u001b[39m!=\u001b[39m other\u001b[39m.\u001b[39mnum_qubits:\n\u001b[0;32m--> 270\u001b[0m     \u001b[39mraise\u001b[39;00m QiskitError(\n\u001b[1;32m    271\u001b[0m         \u001b[39m\"\u001b[39m\u001b[39mIncorrect number of qubits for Clifford circuit (\u001b[39m\u001b[39m{}\u001b[39;00m\u001b[39m != \u001b[39m\u001b[39m{}\u001b[39;00m\u001b[39m).\u001b[39m\u001b[39m\"\u001b[39m\u001b[39m.\u001b[39mformat(\n\u001b[1;32m    272\u001b[0m             other\u001b[39m.\u001b[39mnum_qubits, \u001b[39mself\u001b[39m\u001b[39m.\u001b[39mnum_qubits\n\u001b[1;32m    273\u001b[0m         )\n\u001b[1;32m    274\u001b[0m     )\n\u001b[1;32m    276\u001b[0m \u001b[39m# Evolve via Pauli\u001b[39;00m\n\u001b[1;32m    277\u001b[0m \u001b[39mif\u001b[39;00m \u001b[39misinstance\u001b[39m(other, BasePauli):\n",
      "\u001b[0;31mQiskitError\u001b[0m: 'Incorrect number of qubits for Clifford circuit (1 != 10).'"
     ]
    }
   ],
   "source": [
    "build_A_2()"
   ]
  }
 ],
 "metadata": {
  "kernelspec": {
   "display_name": "Python 3",
   "language": "python",
   "name": "python3"
  },
  "language_info": {
   "codemirror_mode": {
    "name": "ipython",
    "version": 3
   },
   "file_extension": ".py",
   "mimetype": "text/x-python",
   "name": "python",
   "nbconvert_exporter": "python",
   "pygments_lexer": "ipython3",
   "version": "3.11.4"
  }
 },
 "nbformat": 4,
 "nbformat_minor": 2
}
