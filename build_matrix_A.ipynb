{
 "cells": [
  {
   "cell_type": "markdown",
   "metadata": {},
   "source": [
    "This code generates the matrix A, which represents how often the circuit produces each gate, which is helpful to us when ensembling. "
   ]
  },
  {
   "cell_type": "code",
   "execution_count": 28,
   "metadata": {},
   "outputs": [],
   "source": [
    "# import relevant libraries. \n",
    "import numpy as np\n",
    "import qiskit as qk\n",
    "from collections import Counter\n",
    "from collections import OrderedDict\n",
    "\n",
    "from generator import generateCliffordCircuit"
   ]
  },
  {
   "cell_type": "code",
   "execution_count": 29,
   "metadata": {},
   "outputs": [],
   "source": [
    "# Define our parameters\n",
    "\n",
    "width = 5 # num_qubits\n",
    "depth = 5 # number of layers in the circuit (easy + hard)\n",
    "singleGateSet = ['X', 'H', 'Z', 'S']\n",
    "doubleGateSet = ['CNOT_C', 'CNOT_T']\n",
    "twirlingGateSet = ['X','Y' 'Z', 'I']"
   ]
  },
  {
   "cell_type": "code",
   "execution_count": 30,
   "metadata": {},
   "outputs": [],
   "source": [
    "def stringToQiskitSingleGate(gateString, qiskitCir, whichQubit):\n",
    "    if gateString == 'I':\n",
    "        qiskitCir.id(whichQubit)\n",
    "    elif gateString == 'X':\n",
    "        qiskitCir.x(whichQubit)\n",
    "    elif gateString == 'Y':\n",
    "        qiskitCir.y(whichQubit)\n",
    "    elif gateString == 'Z':\n",
    "        qiskitCir.z(whichQubit)\n",
    "    elif gateString == 'H':\n",
    "        qiskitCir.h(whichQubit)\n",
    "    elif gateString == 'S':\n",
    "        qiskitCir.s(whichQubit)\n",
    "        \n",
    "def transpileListToQiskitCircuit(cir):\n",
    "    depth = len(cir)\n",
    "    width = len(cir[0])\n",
    "    qiskitCir = qk.QuantumCircuit(width)\n",
    "    for d in range(width):\n",
    "        if d % 2 == 0:\n",
    "            for w in range(width):\n",
    "                singleGate = cir[d][w]\n",
    "                stringToQiskitSingleGate(singleGate, qiskitCir, w)\n",
    "            if d != width - 1:\n",
    "                qiskitCir.barrier()\n",
    "        else:\n",
    "            c = cir[d].index('CNOT_C')\n",
    "            t = cir[d].index('CNOT_T')\n",
    "            qiskitCir.cx(c, t)\n",
    "            if d != width - 1:\n",
    "                qiskitCir.barrier()\n",
    "    return qiskitCir"
   ]
  },
  {
   "cell_type": "code",
   "execution_count": 31,
   "metadata": {},
   "outputs": [],
   "source": [
    "def split_circuit_by_barrier(circuit):\n",
    "    qasm = circuit.qasm()\n",
    "    prelude = []\n",
    "    circuits = [[]]\n",
    "    for line in qasm.splitlines():\n",
    "        if any([line.startswith(t) for t in ['OPENQASM', 'include', 'qreg', 'creg']]):\n",
    "            prelude.append(line)\n",
    "        elif line.startswith('barrier'):\n",
    "            circuits.append([])\n",
    "        else:\n",
    "            circuits[-1].append(line)\n",
    "    circuits_with_prelude = [prelude+circuit for circuit in circuits]\n",
    "    for circuit_with_prelude in circuits_with_prelude:\n",
    "        yield qk.QuantumCircuit.from_qasm_str('\\n'.join(circuit_with_prelude))"
   ]
  },
  {
   "cell_type": "code",
   "execution_count": 32,
   "metadata": {},
   "outputs": [],
   "source": [
    "def Clifford_Permute(cliff,pauli):\n",
    "    '''This function permutes the pauli operators according to the clifford group, so it computes \n",
    "    P' = C P C^T, where C is a clifford operator and P is a pauli operator.\n",
    "    Inputs: cliff - A Qiskit Circuit, Clifford, or Gate object.\n",
    "            pauli - A Qiskit Pauli object.\n",
    "    Outputs: new_pauli - A Qiskit Pauli object.'''\n",
    "\n",
    "    return pauli.evolve(cliff,frame=\"s\")\n",
    "\n",
    "# circuit = transpileListToQiskitCircuit(generateCliffordCircuit(2, 2, ['X', 'H', 'Z', 'S'], ['CNOT_C', 'CNOT_T']))\n",
    "# for layer in split_circuit_by_barrier(circuit):\n",
    "#     print(\"XX\")\n",
    "#     print(layer)\n",
    "#     perm = Clifford_Permute(\n",
    "#     layer, \n",
    "#     qk.quantum_info.Pauli('X'*2)\n",
    "#     )\n",
    "#     print(perm)"
   ]
  },
  {
   "cell_type": "code",
   "execution_count": 33,
   "metadata": {},
   "outputs": [
    {
     "name": "stdout",
     "output_type": "stream",
     "text": [
      "OrderedDict([(('X', 'X'), 0), (('X', 'Y'), 0), (('X', 'Z'), 0), (('H', 'X'), 0), (('H', 'Y'), 0), (('H', 'Z'), 0), (('Z', 'X'), 0), (('Z', 'Y'), 0), (('Z', 'Z'), 0), (('S', 'X'), 0), (('S', 'Y'), 0), (('S', 'Z'), 0), (('CNOT', 'XX'), 0), (('CNOT', 'XY'), 0), (('CNOT', 'XZ'), 0), (('CNOT', 'XI'), 0), (('CNOT', 'YX'), 0), (('CNOT', 'YY'), 0), (('CNOT', 'YZ'), 0), (('CNOT', 'YI'), 0), (('CNOT', 'ZX'), 0), (('CNOT', 'ZY'), 0), (('CNOT', 'ZZ'), 0), (('CNOT', 'ZI'), 0), (('CNOT', 'IX'), 0), (('CNOT', 'IY'), 0), (('CNOT', 'IZ'), 0)])\n",
      "27\n"
     ]
    }
   ],
   "source": [
    "def params_list(operation_set, pauli_set=[\"X\",\"Y\",\"Z\",\"I\"]):\n",
    "    '''This function generates a dictionary of parameters for the given operation set.\n",
    "    Inputs: operation_set - A list of operations.\n",
    "            pauli_set - A list of pauli operators.\n",
    "    Outputs: params - A dictionary of parameters, with each set to 0.'''\n",
    "\n",
    "    # imporant to use OrderedDict so that the order of the parameters is always the same\n",
    "    params = OrderedDict()\n",
    "\n",
    "    for operation in operation_set:\n",
    "        # don't care about the identity\n",
    "        if operation == \"I\":\n",
    "            continue\n",
    "\n",
    "        # for CNOT, we need to loop over all pairs of paulis\n",
    "        elif operation == \"CNOT_C\" or operation == \"CNOT_T\" or operation == \"CX\":\n",
    "            for pauli1 in pauli_set:\n",
    "                for pauli2 in pauli_set:\n",
    "                    # if we have the pauli \"II\", then skip\n",
    "                    if pauli1 == \"I\" and pauli2 == \"I\":\n",
    "                        continue\n",
    "                    pauli = pauli1+pauli2\n",
    "                    params[(\"CNOT\", pauli)] = 0\n",
    "\n",
    "        # for single qubit gates, we only need to loop over the paulis, and add the pauli and operation to dict\n",
    "        else:\n",
    "            for pauli in pauli_set:\n",
    "                if pauli == \"I\":\n",
    "                    continue\n",
    "                params[(operation, pauli)] = 0\n",
    "    return params\n",
    "\n",
    "print(params_list(singleGateSet+doubleGateSet))\n",
    "print(len(list(params_list(singleGateSet+doubleGateSet).keys())))"
   ]
  },
  {
   "cell_type": "code",
   "execution_count": 34,
   "metadata": {},
   "outputs": [
    {
     "name": "stdout",
     "output_type": "stream",
     "text": [
      "ZYIZX\n"
     ]
    }
   ],
   "source": [
    "def generate_first_layer(length, pauli_set=[\"X\",\"Y\",\"Z\",\"I\"]):\n",
    "    first_layer = \"\"\n",
    "    for ele in np.random.choice(pauli_set, length):\n",
    "        first_layer += ele\n",
    "    return first_layer.upper()\n",
    "\n",
    "print(generate_first_layer(5))"
   ]
  },
  {
   "cell_type": "code",
   "execution_count": 35,
   "metadata": {},
   "outputs": [],
   "source": [
    "def generate_row_A(circuit, input_pauli, params_dict=params_list(singleGateSet+doubleGateSet)):\n",
    "    '''This function generates a row of the circuit, which is the values of a dictionary of pauli operators and their counts.'''\n",
    "    # print(random_circuit)\n",
    "\n",
    "    if type(input_pauli) == str:\n",
    "        input_pauli_str = ''.join(char for char in input_pauli if char.isalpha()) # removes the phase from the Pauli string if present\n",
    "    elif type(input_pauli) == qk.quantum_info.Pauli:\n",
    "        input_pauli_str = ''.join(char for char in input_pauli.to_label() if char.isalpha()) # converts the Pauli to a string w/o phase\n",
    "\n",
    "    # get from circuit the 1) input pauli string, 2) empty dictionary, and 3) list of all possible operations to check against: \n",
    "    pauli_str = input_pauli_str\n",
    "    curr_row_dict = params_dict.copy()\n",
    "    all_operations = curr_row_dict.keys()\n",
    "    i_count = 0\n",
    "    # iterate each gate in each layer of the circuit \n",
    "    for layer in split_circuit_by_barrier(circuit):\n",
    "        for gate in layer:\n",
    "            # get the register of the current gate\n",
    "            register = circuit.find_bit(gate.qubits[0]).index\n",
    "\n",
    "            # get the gate's operator and the input pauli\n",
    "            input_gate = gate.operation.name.upper()\n",
    "            cur_pauli = pauli_str[register]\n",
    "            \n",
    "            # store current operation in the dictionary\n",
    "            if (input_gate, cur_pauli) in all_operations:\n",
    "                curr_row_dict[(input_gate, cur_pauli)] += 1\n",
    "\n",
    "            # if its a cnot, there's a different format of the pauli operator\n",
    "            elif input_gate == 'CX' or input_gate == 'CNOT':\n",
    "                cur_pauli = pauli_str[layer.data[0][1][0].index] + pauli_str[layer.data[0][1][1].index]\n",
    "\n",
    "                # don't consider II for the cnot gate\n",
    "                if cur_pauli == \"II\":\n",
    "                    continue \n",
    "                curr_row_dict[('CNOT', cur_pauli)] += 1\n",
    "                continue\n",
    "\n",
    "            # if it is an identity or barrier gate, skip it\n",
    "            elif input_gate == 'ID' or input_gate == 'I' or input_gate == 'BARRIER':\n",
    "                i_count += 1\n",
    "                continue\n",
    "\n",
    "        # use predefined function to update the pauli layer\n",
    "        pauli = Clifford_Permute(layer, qk.quantum_info.Pauli(pauli_str))\n",
    "        pauli_str = ''.join(char for char in pauli.to_label() if char.isalpha())\n",
    "\n",
    "    return curr_row_dict.values()\n"
   ]
  },
  {
   "cell_type": "code",
   "execution_count": 36,
   "metadata": {},
   "outputs": [],
   "source": [
    "def generate_A(width, depth, params_dict=params_list(singleGateSet+doubleGateSet)):\n",
    "    '''This function generates the A matrix by randomly generating each row, checking if it increases the rank and then continuing onwards\n",
    "    Inputs: numrow - The number of rows in the A matrix.\n",
    "            numcol - The number of columns in the A matrix.\n",
    "    Outputs: A - The A matrix.'''\n",
    "\n",
    "    A = []\n",
    "    counter = 0\n",
    "    while np.linalg.matrix_rank(A) < len(list(params_dict.keys())):\n",
    "\n",
    "        # generate the random circuit\n",
    "        random_circuit = transpileListToQiskitCircuit(generateCliffordCircuit(width, depth, singleGateSet, doubleGateSet))\n",
    "\n",
    "        # generate input string of type \"XYIYX\"\n",
    "        input_pauli_str = generate_first_layer(random_circuit.num_qubits)\n",
    "\n",
    "        # generate a row of A\n",
    "        new_row = list(generate_row_A(random_circuit, input_pauli_str, params_dict))\n",
    "\n",
    "        # check if the row increases the rank of A, then append it to A\n",
    "        A_star = A.copy()\n",
    "        A_star.append(new_row)\n",
    "        if np.linalg.matrix_rank(np.array(A_star)) > np.linalg.matrix_rank(np.array(A)):\n",
    "            A = A_star\n",
    "        else:\n",
    "            # otherwise mark that it didn't work and try again\n",
    "            counter += 1\n",
    "        if counter > 100:\n",
    "            break\n",
    "\n",
    "    return np.array(A)"
   ]
  },
  {
   "cell_type": "code",
   "execution_count": 37,
   "metadata": {},
   "outputs": [
    {
     "name": "stdout",
     "output_type": "stream",
     "text": [
      "[[1 1 0 4 0 1 2 0 1 1 1 1 1 0 0 0 0 0 0 0 0 0 0 0 1 0 0]\n",
      " [2 0 1 1 2 0 4 0 0 0 2 1 0 0 1 0 0 1 0 0 0 0 0 0 0 0 0]\n",
      " [1 0 0 1 0 1 1 3 0 3 1 1 0 0 1 0 0 0 0 0 1 0 0 0 0 0 0]\n",
      " [0 2 0 0 2 0 0 1 1 0 1 0 0 0 0 0 0 1 0 0 0 0 0 0 0 1 0]\n",
      " [1 2 1 1 1 0 1 1 0 1 1 0 0 0 0 0 1 0 0 1 0 0 0 0 0 0 0]\n",
      " [1 3 5 0 1 0 0 3 0 1 1 0 0 0 0 0 0 2 0 0 0 0 0 0 0 0 0]\n",
      " [1 0 2 1 2 1 1 0 0 1 0 1 1 0 0 0 0 0 0 0 0 0 1 0 0 0 0]\n",
      " [1 0 1 0 0 1 0 0 1 2 0 1 0 0 0 1 0 0 0 0 0 0 0 0 0 0 0]\n",
      " [2 2 0 1 1 1 0 1 2 0 3 2 0 0 1 0 0 0 0 0 0 1 0 0 0 0 0]\n",
      " [1 0 0 1 0 0 2 3 1 1 4 1 0 0 0 0 0 1 0 1 0 0 0 0 0 0 0]\n",
      " [0 1 0 1 0 0 2 1 0 1 0 1 0 0 0 0 0 0 0 0 0 0 0 0 0 1 1]\n",
      " [0 2 1 2 1 0 1 4 1 0 1 1 0 0 0 0 1 0 0 0 0 0 0 0 0 1 0]\n",
      " [1 0 2 2 0 3 1 0 1 1 0 0 0 0 0 0 0 0 0 0 1 0 0 0 0 0 1]\n",
      " [1 1 1 2 1 0 0 1 0 0 1 1 0 0 0 0 0 0 0 0 0 0 0 0 0 0 2]\n",
      " [0 0 1 0 0 1 1 0 7 1 0 3 0 0 2 0 0 0 0 0 0 0 0 0 0 0 0]\n",
      " [2 0 2 2 0 1 1 0 1 2 1 3 0 0 0 0 0 0 0 0 0 0 2 0 0 0 0]\n",
      " [1 0 0 1 1 3 2 0 1 1 0 0 0 0 0 0 1 0 0 0 0 0 0 0 0 0 1]\n",
      " [1 0 1 3 3 1 0 0 2 0 0 1 0 1 0 0 0 0 0 0 0 0 0 1 0 0 0]\n",
      " [4 1 0 1 3 1 1 0 1 0 1 0 1 0 0 0 0 0 0 0 0 0 0 1 0 0 0]\n",
      " [1 1 2 0 1 2 0 0 1 1 1 3 0 0 0 0 1 0 0 0 0 0 1 0 0 0 0]\n",
      " [1 1 0 2 0 1 1 1 3 1 0 2 1 0 1 0 0 0 0 0 0 0 0 0 0 0 0]\n",
      " [1 2 1 1 0 0 1 0 0 2 2 0 0 0 0 1 0 0 0 0 0 0 0 1 0 0 0]\n",
      " [0 0 1 1 2 0 1 0 1 1 1 2 1 0 0 0 0 0 0 0 0 0 0 1 0 0 0]\n",
      " [0 2 1 3 2 1 0 1 0 0 1 0 0 0 0 0 0 1 1 0 0 0 0 0 0 0 0]\n",
      " [0 0 0 2 1 0 0 3 2 1 4 2 0 0 1 0 0 1 0 0 0 0 0 0 0 0 0]\n",
      " [0 0 1 1 1 1 1 0 1 0 1 1 0 0 0 0 0 0 0 0 0 0 0 1 0 1 0]\n",
      " [2 2 0 1 0 1 2 0 2 0 3 1 1 0 0 0 1 0 0 0 0 0 0 0 0 0 0]]\n"
     ]
    },
    {
     "name": "stderr",
     "output_type": "stream",
     "text": [
      "/var/folders/9r/sw7rn4810sjddctl8q8nlcy80000gn/T/ipykernel_76344/1739050197.py:31: DeprecationWarning: The property ``qiskit.circuit.bit.Bit.index`` is deprecated as of qiskit-terra 0.17. It will be removed no earlier than 3 months after the release date. Instead, use :meth:`~qiskit.circuit.quantumcircuit.QuantumCircuit.find_bit` to find all the containing registers within a circuit and the index of the bit within the circuit.\n",
      "  cur_pauli = pauli_str[layer.data[0][1][0].index] + pauli_str[layer.data[0][1][1].index]\n"
     ]
    }
   ],
   "source": [
    "A = generate_A(width = 5, depth = 5)\n",
    "print(A)"
   ]
  },
  {
   "cell_type": "code",
   "execution_count": 41,
   "metadata": {},
   "outputs": [
    {
     "name": "stdout",
     "output_type": "stream",
     "text": [
      "[1 1 1 1 1 1 1 1 1 1 1 1 1 1 1 1 1 1 1 1 1 1 1 1 1 1 1]\n",
      "[0.83068683 0.84992771 0.74789986 0.53295264 0.08500202 0.26972253\n",
      " 0.47754461 0.47000092 0.081465   0.31157842 0.09210469 0.43800354\n",
      " 0.31460931 0.86870936 0.43132078 0.43215923 0.17466062 0.0537837\n",
      " 0.97142666 0.90994725 0.20840693 0.12455647 0.59271688 0.15328953\n",
      " 0.71284891 0.01379303 0.58243006]\n"
     ]
    }
   ],
   "source": [
    "print(np.random.binomial(n=1, p=0.9, size=[A.shape[0]]))\n",
    "print(np.random.rand(A.shape[0]))"
   ]
  },
  {
   "cell_type": "code",
   "execution_count": 42,
   "metadata": {},
   "outputs": [
    {
     "data": {
      "text/plain": [
       "array([2.45577515e-01, 3.15035335e+01, 1.70950682e+00, 1.05191997e+00,\n",
       "       1.26035751e+01, 1.90125744e+01, 3.91304407e+00, 8.89969404e-01,\n",
       "       8.50325096e-01, 7.62059867e+00, 9.32590374e+00, 1.53025022e+00,\n",
       "       3.83719860e-03, 2.06774554e-02, 1.42063256e-02, 5.06709219e-05,\n",
       "       1.52714147e-05, 6.11489823e-05, 3.24274554e-04, 2.05185330e-02,\n",
       "       1.97951723e-04, 2.51283281e-07, 2.47125032e-03, 1.61923391e-03,\n",
       "       5.05029126e-04, 7.77988095e-03, 1.77180866e-02])"
      ]
     },
     "execution_count": 42,
     "metadata": {},
     "output_type": "execute_result"
    }
   ],
   "source": [
    "from . import amatrixsolver\n",
    "\n",
    "random_vector = np.random.rand(A.shape[0])\n",
    "amatrixsolver.Amatrixsolve(A, random_vector)"
   ]
  }
 ],
 "metadata": {
  "kernelspec": {
   "display_name": "Python 3",
   "language": "python",
   "name": "python3"
  },
  "language_info": {
   "codemirror_mode": {
    "name": "ipython",
    "version": 3
   },
   "file_extension": ".py",
   "mimetype": "text/x-python",
   "name": "python",
   "nbconvert_exporter": "python",
   "pygments_lexer": "ipython3",
   "version": "3.11.4"
  }
 },
 "nbformat": 4,
 "nbformat_minor": 2
}
