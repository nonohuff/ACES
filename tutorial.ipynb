{
 "cells": [
  {
   "cell_type": "code",
   "execution_count": 38,
   "metadata": {},
   "outputs": [],
   "source": [
    "import numpy as np\n",
    "import matplotlib.pyplot as plt\n",
    "import qiskit as qk\n",
    "from qiskit import QuantumCircuit, Aer, transpile, assemble\n",
    "from qiskit.visualization import plot_histogram\n",
    "import random\n",
    "from collections import Counter\n",
    "\n",
    "from generator import generateCliffordCircuit\n",
    "\n",
    "from runner import *"
   ]
  },
  {
   "cell_type": "markdown",
   "metadata": {},
   "source": [
    "To implement the ACES protocol, our test circuits of concern are Clifford Circuits with one layer of single qubit gates (the \"easy\" layer) interleaved with a layer containing a single multi-qubit gate (the \"hard\" layer). The gate set that a user specifies will consist of the gates they want to characterize the error of. For our implementation we use {X,H,Z,I,S,CNOT} as our gate set. Below, we generate a random Clifford circuit with a layer of single qubit gates and a layer of multi-qubit gates. [https://arxiv.org/pdf/1009.3639, https://arxiv.org/pdf/1109.6887]"
   ]
  },
  {
   "cell_type": "code",
   "execution_count": 39,
   "metadata": {},
   "outputs": [
    {
     "name": "stdout",
     "output_type": "stream",
     "text": [
      "[['S', 'X', 'X', 'I', 'X'], ['I', 'I', 'I', 'CNOT_C', 'CNOT_T'], ['I', 'Z', 'Z', 'S', 'I'], ['CNOT_T', 'I', 'CNOT_C', 'I', 'I'], ['S', 'I', 'S', 'X', 'H']]\n",
      "     ┌───┐ ░       ░ ┌───┐ ░ ┌───┐ ░ ┌───┐\n",
      "q_0: ┤ S ├─░───────░─┤ I ├─░─┤ X ├─░─┤ S ├\n",
      "     ├───┤ ░       ░ ├───┤ ░ └─┬─┘ ░ ├───┤\n",
      "q_1: ┤ X ├─░───────░─┤ Z ├─░───┼───░─┤ I ├\n",
      "     ├───┤ ░       ░ ├───┤ ░   │   ░ ├───┤\n",
      "q_2: ┤ X ├─░───────░─┤ Z ├─░───■───░─┤ S ├\n",
      "     ├───┤ ░       ░ ├───┤ ░       ░ ├───┤\n",
      "q_3: ┤ I ├─░───■───░─┤ S ├─░───────░─┤ X ├\n",
      "     ├───┤ ░ ┌─┴─┐ ░ ├───┤ ░       ░ ├───┤\n",
      "q_4: ┤ X ├─░─┤ X ├─░─┤ I ├─░───────░─┤ H ├\n",
      "     └───┘ ░ └───┘ ░ └───┘ ░       ░ └───┘\n"
     ]
    }
   ],
   "source": [
    "width = 5 # num_qubits\n",
    "depth = 5 # number of layers in the circuit (easy + hard)\n",
    "singleGateSet = ['X', 'H', 'Z', 'I', 'S']\n",
    "doubleGateSet = ['CNOT_C', 'CNOT_T']\n",
    "twirlingGateSet = ['X','Y' 'Z', 'I']\n",
    "\n",
    "circuit = generateCliffordCircuit(width, depth, singleGateSet, doubleGateSet)\n",
    "qiskitCircuit = transpileListToQiskitCircuit(circuit)\n",
    "print(circuit)\n",
    "if depth < 10:\n",
    "    print(qiskitCircuit)"
   ]
  },
  {
   "cell_type": "markdown",
   "metadata": {},
   "source": [
    "Next, we will G-twirl the circuit. This is the generalization of Pauli-twirling, which twirls every Clifford gate in the circuit instead of just the \"hard\" layers, and was first introduced in the ACES protocol. Below we G-twirl the circuit we just made. We first randomly choose a layer of Paulis to append before the current layer, then calculate The pauli $P' = G*P*G^{\\dag}$ for each gate, $G$, in the layer."
   ]
  },
  {
   "cell_type": "code",
   "execution_count": 40,
   "metadata": {},
   "outputs": [
    {
     "data": {
      "text/html": [
       "<pre style=\"word-wrap: normal;white-space: pre;background: #fff0;line-height: 1.1;font-family: &quot;Courier New&quot;,Courier,monospace\">     ┌───────────────┐┌───┐┌───────────────┐ ░ ┌───────────────┐     »\n",
       "q_0: ┤0              ├┤ S ├┤0              ├─░─┤0              ├─────»\n",
       "     │               │├───┤│               │ ░ │               │     »\n",
       "q_1: ┤1              ├┤ X ├┤1              ├─░─┤1              ├─────»\n",
       "     │               │├───┤│               │ ░ │               │     »\n",
       "q_2: ┤2 Pauli(ZYIZZ) ├┤ X ├┤2 Pauli(ZYIZZ) ├─░─┤2 Pauli(YYIXY) ├─────»\n",
       "     │               │├───┤│               │ ░ │               │     »\n",
       "q_3: ┤3              ├┤ I ├┤3              ├─░─┤3              ├──■──»\n",
       "     │               │├───┤│               │ ░ │               │┌─┴─┐»\n",
       "q_4: ┤4              ├┤ X ├┤4              ├─░─┤4              ├┤ X ├»\n",
       "     └───────────────┘└───┘└───────────────┘ ░ └───────────────┘└───┘»\n",
       "«     ┌─────────┐ ░ ┌───────────────┐┌───┐┌─────────┐ ░ ┌───────────────┐┌───┐»\n",
       "«q_0: ┤0        ├─░─┤0              ├┤ I ├┤0        ├─░─┤0              ├┤ X ├»\n",
       "«     │         │ ░ │               │├───┤│         │ ░ │               │└─┬─┘»\n",
       "«q_1: ┤1        ├─░─┤1              ├┤ Z ├┤1        ├─░─┤1              ├──┼──»\n",
       "«     │         │ ░ │               │├───┤│         │ ░ │               │  │  »\n",
       "«q_2: ┤2 -ZXIXY ├─░─┤2 Pauli(YYIIX) ├┤ Z ├┤2 -YXIIX ├─░─┤2 Pauli(XIXXI) ├──■──»\n",
       "«     │         │ ░ │               │├───┤│         │ ░ │               │     »\n",
       "«q_3: ┤3        ├─░─┤3              ├┤ S ├┤3        ├─░─┤3              ├─────»\n",
       "«     │         │ ░ │               │├───┤│         │ ░ │               │     »\n",
       "«q_4: ┤4        ├─░─┤4              ├┤ I ├┤4        ├─░─┤4              ├─────»\n",
       "«     └─────────┘ ░ └───────────────┘└───┘└─────────┘ ░ └───────────────┘     »\n",
       "«     ┌───────────────┐ ░ ┌───────────────┐┌───┐┌─────────┐\n",
       "«q_0: ┤0              ├─░─┤0              ├┤ S ├┤0        ├\n",
       "«     │               │ ░ │               │├───┤│         │\n",
       "«q_1: ┤1              ├─░─┤1              ├┤ I ├┤1        ├\n",
       "«     │               │ ░ │               │├───┤│         │\n",
       "«q_2: ┤2 Pauli(XIXXX) ├─░─┤2 Pauli(XIYIZ) ├┤ S ├┤2 -ZIXIZ ├\n",
       "«     │               │ ░ │               │├───┤│         │\n",
       "«q_3: ┤3              ├─░─┤3              ├┤ X ├┤3        ├\n",
       "«     │               │ ░ │               │├───┤│         │\n",
       "«q_4: ┤4              ├─░─┤4              ├┤ H ├┤4        ├\n",
       "«     └───────────────┘ ░ └───────────────┘└───┘└─────────┘</pre>"
      ],
      "text/plain": [
       "     ┌───────────────┐┌───┐┌───────────────┐ ░ ┌───────────────┐     »\n",
       "q_0: ┤0              ├┤ S ├┤0              ├─░─┤0              ├─────»\n",
       "     │               │├───┤│               │ ░ │               │     »\n",
       "q_1: ┤1              ├┤ X ├┤1              ├─░─┤1              ├─────»\n",
       "     │               │├───┤│               │ ░ │               │     »\n",
       "q_2: ┤2 Pauli(ZYIZZ) ├┤ X ├┤2 Pauli(ZYIZZ) ├─░─┤2 Pauli(YYIXY) ├─────»\n",
       "     │               │├───┤│               │ ░ │               │     »\n",
       "q_3: ┤3              ├┤ I ├┤3              ├─░─┤3              ├──■──»\n",
       "     │               │├───┤│               │ ░ │               │┌─┴─┐»\n",
       "q_4: ┤4              ├┤ X ├┤4              ├─░─┤4              ├┤ X ├»\n",
       "     └───────────────┘└───┘└───────────────┘ ░ └───────────────┘└───┘»\n",
       "«     ┌─────────┐ ░ ┌───────────────┐┌───┐┌─────────┐ ░ ┌───────────────┐┌───┐»\n",
       "«q_0: ┤0        ├─░─┤0              ├┤ I ├┤0        ├─░─┤0              ├┤ X ├»\n",
       "«     │         │ ░ │               │├───┤│         │ ░ │               │└─┬─┘»\n",
       "«q_1: ┤1        ├─░─┤1              ├┤ Z ├┤1        ├─░─┤1              ├──┼──»\n",
       "«     │         │ ░ │               │├───┤│         │ ░ │               │  │  »\n",
       "«q_2: ┤2 -ZXIXY ├─░─┤2 Pauli(YYIIX) ├┤ Z ├┤2 -YXIIX ├─░─┤2 Pauli(XIXXI) ├──■──»\n",
       "«     │         │ ░ │               │├───┤│         │ ░ │               │     »\n",
       "«q_3: ┤3        ├─░─┤3              ├┤ S ├┤3        ├─░─┤3              ├─────»\n",
       "«     │         │ ░ │               │├───┤│         │ ░ │               │     »\n",
       "«q_4: ┤4        ├─░─┤4              ├┤ I ├┤4        ├─░─┤4              ├─────»\n",
       "«     └─────────┘ ░ └───────────────┘└───┘└─────────┘ ░ └───────────────┘     »\n",
       "«     ┌───────────────┐ ░ ┌───────────────┐┌───┐┌─────────┐\n",
       "«q_0: ┤0              ├─░─┤0              ├┤ S ├┤0        ├\n",
       "«     │               │ ░ │               │├───┤│         │\n",
       "«q_1: ┤1              ├─░─┤1              ├┤ I ├┤1        ├\n",
       "«     │               │ ░ │               │├───┤│         │\n",
       "«q_2: ┤2 Pauli(XIXXX) ├─░─┤2 Pauli(XIYIZ) ├┤ S ├┤2 -ZIXIZ ├\n",
       "«     │               │ ░ │               │├───┤│         │\n",
       "«q_3: ┤3              ├─░─┤3              ├┤ X ├┤3        ├\n",
       "«     │               │ ░ │               │├───┤│         │\n",
       "«q_4: ┤4              ├─░─┤4              ├┤ H ├┤4        ├\n",
       "«     └───────────────┘ ░ └───────────────┘└───┘└─────────┘"
      ]
     },
     "execution_count": 40,
     "metadata": {},
     "output_type": "execute_result"
    }
   ],
   "source": [
    "G_twirling(qiskitCircuit).draw()"
   ]
  },
  {
   "cell_type": "markdown",
   "metadata": {},
   "source": [
    "We then make an ensemble of twirled circuits. Note, each circuit in this ensemble implements the same unitary as $PGP'=PG(GPG^{\\dag})=PG(G^{\\dag}PG)=G$"
   ]
  },
  {
   "cell_type": "code",
   "execution_count": 41,
   "metadata": {},
   "outputs": [],
   "source": [
    "circuit_ensemble = [G_twirling(qiskitCircuit) for _ in range(10)]"
   ]
  },
  {
   "cell_type": "markdown",
   "metadata": {},
   "source": [
    "To implement the measurement procedue on these circuits which will yield an estimator for the total circuit error, we create a prepartion circuit which prepares the input state in either the $|\\psi+\\rangle$ or $|\\psi-\\rangle$ state of the input Pauli, P. Then we compute $P'=GPG^{\\dag}$ and build a measurement circuit which measures in the $|\\psi'+\\rangle$ or $|\\psi'-\\rangle$, the eigen basis of $P'$."
   ]
  },
  {
   "cell_type": "code",
   "execution_count": 42,
   "metadata": {},
   "outputs": [
    {
     "name": "stdout",
     "output_type": "stream",
     "text": [
      "prep_circuit\n",
      "     ┌───┐┌───┐┌───┐\n",
      "q_0: ┤ X ├┤ H ├┤ S ├\n",
      "     ├───┤├───┤├───┤\n",
      "q_1: ┤ X ├┤ H ├┤ S ├\n",
      "     └───┘└───┘└───┘\n",
      "q_2: ───────────────\n",
      "     ┌───┐          \n",
      "q_3: ┤ X ├──────────\n",
      "     ├───┤          \n",
      "q_4: ┤ H ├──────────\n",
      "     └───┘          \n",
      "measure_circuit\n",
      "     ┌─────┐┌───┐┌─┐   \n",
      "q_0: ┤ Sdg ├┤ H ├┤M├───\n",
      "     ├─────┤├───┤└╥┘┌─┐\n",
      "q_1: ┤ Sdg ├┤ H ├─╫─┤M├\n",
      "     └─────┘└───┘ ║ └╥┘\n",
      "q_2: ─────────────╫──╫─\n",
      "       ┌─┐        ║  ║ \n",
      "q_3: ──┤M├────────╫──╫─\n",
      "       └╥┘   ┌─┐  ║  ║ \n",
      "q_4: ───╫────┤M├──╫──╫─\n",
      "        ║    └╥┘  ║  ║ \n",
      "c: 4/═══╩═════╩═══╩══╩═\n",
      "        2     3   0  1 \n"
     ]
    }
   ],
   "source": [
    "input_pauli = \"YYIZX\"\n",
    "b,c = prep_circuit(input_pauli)\n",
    "print(\"prep_circuit\")\n",
    "print(b)\n",
    "a = measure_circuit(Clifford_Permute(qiskitCircuit,input_pauli))\n",
    "print(\"measure_circuit\")\n",
    "print(a)"
   ]
  },
  {
   "cell_type": "markdown",
   "metadata": {},
   "source": [
    "$\\Lambda_{C,P}$ estimation proceeds by randomly sampling a circuit, $C$, from the ensemble, then randomly preparing either $|\\psi+\\rangle$ or $|\\psi-\\rangle$ and measuring in the $P'$ basis. After many successive iterations, we can build an unbiased estimator for the total circuit error, $\\Lambda_{C,P}$,which is \n",
    "$$\\Lambda_{C,P}^{est} = |\\langle \\psi'+|U_C|\\psi+\\rangle|^2 - |\\langle \\psi'-|U_C|\\psi+\\rangle|^2 - \\langle \\psi'+|U_C|\\psi-\\rangle|^2 + \\langle \\psi'-|U_C|\\psi-\\rangle|^2$$"
   ]
  },
  {
   "cell_type": "markdown",
   "metadata": {},
   "source": [
    "For a circuit without error, we should see $\\Lambda_{C,P}^{est} = \\pm 1$, as we have $C(P_{in})=\\Lambda_{C,P}P'$. We show below that our function properly estimates the total circuit error for a circuit with no error."
   ]
  },
  {
   "cell_type": "code",
   "execution_count": 43,
   "metadata": {},
   "outputs": [
    {
     "name": "stdout",
     "output_type": "stream",
     "text": [
      "1.0\n"
     ]
    }
   ],
   "source": [
    "out = est_Lambda(input_pauli,[G_twirling(qiskitCircuit) for _ in range(10)],1000)\n",
    "print(out)"
   ]
  },
  {
   "cell_type": "markdown",
   "metadata": {},
   "source": [
    "In fact, our lambda estimator works as expected for all gates in our gate set."
   ]
  },
  {
   "cell_type": "code",
   "execution_count": 44,
   "metadata": {},
   "outputs": [
    {
     "name": "stdout",
     "output_type": "stream",
     "text": [
      "('Input Puali: X', 'Gate: X', 'Output Pauli: X')\n",
      "1.0\n",
      "('Input Puali: X', 'Gate: H', 'Output Pauli: Z')\n",
      "1.0\n",
      "('Input Puali: X', 'Gate: Z', 'Output Pauli: -X')\n",
      "-1.0\n",
      "('Input Puali: X', 'Gate: I', 'Output Pauli: X')\n",
      "1.0\n",
      "('Input Puali: X', 'Gate: S', 'Output Pauli: Y')\n",
      "1.0\n",
      "('Input Puali: Y', 'Gate: X', 'Output Pauli: -Y')\n",
      "-1.0\n",
      "('Input Puali: Y', 'Gate: H', 'Output Pauli: -Y')\n",
      "-1.0\n",
      "('Input Puali: Y', 'Gate: Z', 'Output Pauli: -Y')\n",
      "-1.0\n",
      "('Input Puali: Y', 'Gate: I', 'Output Pauli: Y')\n",
      "1.0\n"
     ]
    },
    {
     "name": "stdout",
     "output_type": "stream",
     "text": [
      "('Input Puali: Y', 'Gate: S', 'Output Pauli: -X')\n",
      "-1.0\n",
      "('Input Puali: Z', 'Gate: X', 'Output Pauli: -Z')\n",
      "-1.0\n",
      "('Input Puali: Z', 'Gate: H', 'Output Pauli: X')\n",
      "1.0\n",
      "('Input Puali: Z', 'Gate: Z', 'Output Pauli: Z')\n",
      "1.0\n",
      "('Input Puali: Z', 'Gate: I', 'Output Pauli: Z')\n",
      "1.0\n",
      "('Input Puali: Z', 'Gate: S', 'Output Pauli: Z')\n",
      "1.0\n",
      "15\n"
     ]
    }
   ],
   "source": [
    "d = {}\n",
    "for inp in [\"X\",\"Y\",\"Z\"]:\n",
    "    for g in singleGateSet:\n",
    "        a = qk.QuantumCircuit(1)\n",
    "        if g == \"X\":\n",
    "            a.x(0)\n",
    "        elif g == \"Y\":\n",
    "            a.y(0)\n",
    "        elif g == \"Z\":\n",
    "            a.z(0)\n",
    "        elif g == \"H\":\n",
    "            a.h(0)\n",
    "        elif g == \"S\":\n",
    "            a.s(0)\n",
    "        elif g == \"I\":\n",
    "            a.id(0)\n",
    "        key = (\"Input Puali: \" + str(inp),\"Gate: \"+str(g),\"Output Pauli: \" + str(Clifford_Permute(a,inp)))\n",
    "        d[key] = est_Lambda(inp,[a],1000)\n",
    "        print(key)\n",
    "        print(d[key])\n",
    "\n",
    "print(len(d))"
   ]
  },
  {
   "cell_type": "code",
   "execution_count": 45,
   "metadata": {},
   "outputs": [
    {
     "name": "stdout",
     "output_type": "stream",
     "text": [
      "('Input Puali: XX', 'Gate: CNOT(0,1)', 'Output Pauli: IX')\n",
      "1.0\n",
      "('Input Puali: XX', 'Gate: CNOT(1,0)', 'Output Pauli: XI')\n",
      "1.0\n",
      "('Input Puali: XY', 'Gate: CNOT(0,1)', 'Output Pauli: ZY')\n",
      "1.0\n"
     ]
    },
    {
     "name": "stdout",
     "output_type": "stream",
     "text": [
      "('Input Puali: XY', 'Gate: CNOT(1,0)', 'Output Pauli: YI')\n",
      "1.0\n",
      "('Input Puali: XZ', 'Gate: CNOT(0,1)', 'Output Pauli: -YY')\n",
      "-1.0\n",
      "('Input Puali: XZ', 'Gate: CNOT(1,0)', 'Output Pauli: ZX')\n",
      "1.0\n",
      "('Input Puali: XI', 'Gate: CNOT(0,1)', 'Output Pauli: XX')\n",
      "1.0\n",
      "('Input Puali: XI', 'Gate: CNOT(1,0)', 'Output Pauli: IX')\n",
      "1.0\n",
      "('Input Puali: YX', 'Gate: CNOT(0,1)', 'Output Pauli: IY')\n",
      "1.0\n",
      "('Input Puali: YX', 'Gate: CNOT(1,0)', 'Output Pauli: YZ')\n",
      "1.0\n",
      "('Input Puali: YY', 'Gate: CNOT(0,1)', 'Output Pauli: -ZX')\n",
      "-1.0\n",
      "('Input Puali: YY', 'Gate: CNOT(1,0)', 'Output Pauli: -XZ')\n",
      "-1.0\n",
      "('Input Puali: YZ', 'Gate: CNOT(0,1)', 'Output Pauli: YX')\n",
      "1.0\n",
      "('Input Puali: YZ', 'Gate: CNOT(1,0)', 'Output Pauli: IY')\n",
      "1.0\n",
      "('Input Puali: YI', 'Gate: CNOT(0,1)', 'Output Pauli: XY')\n",
      "1.0\n",
      "('Input Puali: YI', 'Gate: CNOT(1,0)', 'Output Pauli: ZY')\n",
      "1.0\n",
      "('Input Puali: ZX', 'Gate: CNOT(0,1)', 'Output Pauli: XZ')\n",
      "1.0\n",
      "('Input Puali: ZX', 'Gate: CNOT(1,0)', 'Output Pauli: -YY')\n",
      "-1.0\n",
      "('Input Puali: ZY', 'Gate: CNOT(0,1)', 'Output Pauli: YI')\n",
      "1.0\n",
      "('Input Puali: ZY', 'Gate: CNOT(1,0)', 'Output Pauli: XY')\n",
      "1.0\n",
      "('Input Puali: ZZ', 'Gate: CNOT(0,1)', 'Output Pauli: ZI')\n",
      "1.0\n",
      "('Input Puali: ZZ', 'Gate: CNOT(1,0)', 'Output Pauli: IZ')\n",
      "1.0\n",
      "('Input Puali: ZI', 'Gate: CNOT(0,1)', 'Output Pauli: IZ')\n",
      "1.0\n",
      "('Input Puali: ZI', 'Gate: CNOT(1,0)', 'Output Pauli: ZZ')\n",
      "1.0\n",
      "('Input Puali: IX', 'Gate: CNOT(0,1)', 'Output Pauli: XI')\n",
      "1.0\n",
      "('Input Puali: IX', 'Gate: CNOT(1,0)', 'Output Pauli: XX')\n",
      "1.0\n",
      "('Input Puali: IY', 'Gate: CNOT(0,1)', 'Output Pauli: YZ')\n",
      "1.0\n",
      "('Input Puali: IY', 'Gate: CNOT(1,0)', 'Output Pauli: YX')\n",
      "1.0\n",
      "('Input Puali: IZ', 'Gate: CNOT(0,1)', 'Output Pauli: ZZ')\n",
      "1.0\n",
      "('Input Puali: IZ', 'Gate: CNOT(1,0)', 'Output Pauli: ZI')\n",
      "1.0\n",
      "30\n"
     ]
    }
   ],
   "source": [
    "import itertools\n",
    "\n",
    "combinations = list(itertools.product([\"X\",\"Y\",\"Z\",\"I\"], repeat=2))\n",
    "combinations = [''.join(tuple_of_strings) for tuple_of_strings in combinations]\n",
    "combinations.remove(\"II\")\n",
    "\n",
    "d = {}\n",
    "for inp in combinations:\n",
    "    for i in [0,1]:\n",
    "        a = qk.QuantumCircuit(2)\n",
    "        if i == 0:  \n",
    "            a.cx(0,1)\n",
    "            g = \"CNOT(0,1)\"\n",
    "        elif i == 1:\n",
    "            a.cx(1,0)\n",
    "            g = \"CNOT(1,0)\"\n",
    "        key = (\"Input Puali: \" + str(inp),\"Gate: \"+str(g),\"Output Pauli: \" + str(Clifford_Permute(a,inp)))\n",
    "        d[key] = est_Lambda(inp,[a],1000)\n",
    "        print(key)\n",
    "        print(d[key])\n",
    "print(len(d))"
   ]
  },
  {
   "cell_type": "markdown",
   "metadata": {},
   "source": [
    "Then we introduce noise to our circuit."
   ]
  },
  {
   "cell_type": "code",
   "execution_count": 46,
   "metadata": {},
   "outputs": [
    {
     "name": "stdout",
     "output_type": "stream",
     "text": [
      "     ┌───┐ ░ ┌───┐ ░       ░       ░ ┌───┐ ░ ┌───┐ ░ ┌───┐ ░ ┌───┐ ░ ┌───┐ ░ »\n",
      "q_0: ┤ S ├─░─┤ I ├─░───────░───────░─┤ I ├─░─┤ Y ├─░─┤ X ├─░─┤ I ├─░─┤ S ├─░─»\n",
      "     ├───┤ ░ ├───┤ ░       ░       ░ ├───┤ ░ ├───┤ ░ └─┬─┘ ░ └───┘ ░ ├───┤ ░ »\n",
      "q_1: ┤ X ├─░─┤ I ├─░───────░───────░─┤ Z ├─░─┤ I ├─░───┼───░───────░─┤ I ├─░─»\n",
      "     ├───┤ ░ ├───┤ ░       ░       ░ ├───┤ ░ ├───┤ ░   │   ░ ┌───┐ ░ ├───┤ ░ »\n",
      "q_2: ┤ X ├─░─┤ X ├─░───────░───────░─┤ Z ├─░─┤ I ├─░───■───░─┤ X ├─░─┤ S ├─░─»\n",
      "     ├───┤ ░ ├───┤ ░       ░ ┌───┐ ░ ├───┤ ░ ├───┤ ░       ░ └───┘ ░ ├───┤ ░ »\n",
      "q_3: ┤ I ├─░─┤ I ├─░───■───░─┤ I ├─░─┤ S ├─░─┤ Y ├─░───────░───────░─┤ X ├─░─»\n",
      "     ├───┤ ░ ├───┤ ░ ┌─┴─┐ ░ ├───┤ ░ ├───┤ ░ ├───┤ ░       ░       ░ ├───┤ ░ »\n",
      "q_4: ┤ X ├─░─┤ Z ├─░─┤ X ├─░─┤ Z ├─░─┤ I ├─░─┤ Z ├─░───────░───────░─┤ H ├─░─»\n",
      "     └───┘ ░ └───┘ ░ └───┘ ░ └───┘ ░ └───┘ ░ └───┘ ░       ░       ░ └───┘ ░ »\n",
      "«     ┌───┐\n",
      "«q_0: ┤ I ├\n",
      "«     ├───┤\n",
      "«q_1: ┤ I ├\n",
      "«     ├───┤\n",
      "«q_2: ┤ Z ├\n",
      "«     ├───┤\n",
      "«q_3: ┤ I ├\n",
      "«     ├───┤\n",
      "«q_4: ┤ I ├\n",
      "«     └───┘\n",
      "     ┌───────────────┐┌───┐┌───┐┌─────────┐ ░ ┌───────────────┐          »\n",
      "q_0: ┤0              ├┤ S ├┤ I ├┤0        ├─░─┤0              ├──────────»\n",
      "     │               │├───┤├───┤│         │ ░ │               │          »\n",
      "q_1: ┤1              ├┤ X ├┤ I ├┤1        ├─░─┤1              ├──────────»\n",
      "     │               │├───┤├───┤│         │ ░ │               │          »\n",
      "q_2: ┤2 Pauli(YXIXX) ├┤ X ├┤ X ├┤2 -YXIXY ├─░─┤2 Pauli(ZYIYZ) ├──────────»\n",
      "     │               │├───┤├───┤│         │ ░ │               │     ┌───┐»\n",
      "q_3: ┤3              ├┤ I ├┤ I ├┤3        ├─░─┤3              ├──■──┤ I ├»\n",
      "     │               │├───┤├───┤│         │ ░ │               │┌─┴─┐├───┤»\n",
      "q_4: ┤4              ├┤ X ├┤ Z ├┤4        ├─░─┤4              ├┤ X ├┤ Z ├»\n",
      "     └───────────────┘└───┘└───┘└─────────┘ ░ └───────────────┘└───┘└───┘»\n",
      "«     ┌───────────────┐ ░ ┌───────────────┐┌───┐┌───┐┌───────────────┐ ░ »\n",
      "«q_0: ┤0              ├─░─┤0              ├┤ I ├┤ Y ├┤0              ├─░─»\n",
      "«     │               │ ░ │               │├───┤├───┤│               │ ░ »\n",
      "«q_1: ┤1              ├─░─┤1              ├┤ Z ├┤ I ├┤1              ├─░─»\n",
      "«     │               │ ░ │               │├───┤├───┤│               │ ░ »\n",
      "«q_2: ┤2 Pauli(YXIYZ) ├─░─┤2 Pauli(ZIXYI) ├┤ Z ├┤ I ├┤2 Pauli(ZIXYI) ├─░─»\n",
      "«     │               │ ░ │               │├───┤├───┤│               │ ░ »\n",
      "«q_3: ┤3              ├─░─┤3              ├┤ S ├┤ Y ├┤3              ├─░─»\n",
      "«     │               │ ░ │               │├───┤├───┤│               │ ░ »\n",
      "«q_4: ┤4              ├─░─┤4              ├┤ I ├┤ Z ├┤4              ├─░─»\n",
      "«     └───────────────┘ ░ └───────────────┘└───┘└───┘└───────────────┘ ░ »\n",
      "«     ┌───────────────┐┌───┐┌───┐┌───────────────┐ ░ ┌───────────────┐┌───┐»\n",
      "«q_0: ┤0              ├┤ X ├┤ I ├┤0              ├─░─┤0              ├┤ S ├»\n",
      "«     │               │└─┬─┘└───┘│               │ ░ │               │├───┤»\n",
      "«q_1: ┤1              ├──┼───────┤1              ├─░─┤1              ├┤ I ├»\n",
      "«     │               │  │  ┌───┐│               │ ░ │               │├───┤»\n",
      "«q_2: ┤2 Pauli(IXYXI) ├──■──┤ X ├┤2 Pauli(IXYXX) ├─░─┤2 Pauli(XZXZZ) ├┤ S ├»\n",
      "«     │               │     └───┘│               │ ░ │               │├───┤»\n",
      "«q_3: ┤3              ├──────────┤3              ├─░─┤3              ├┤ X ├»\n",
      "«     │               │          │               │ ░ │               │├───┤»\n",
      "«q_4: ┤4              ├──────────┤4              ├─░─┤4              ├┤ H ├»\n",
      "«     └───────────────┘          └───────────────┘ ░ └───────────────┘└───┘»\n",
      "«     ┌───┐┌─────────┐\n",
      "«q_0: ┤ I ├┤0        ├\n",
      "«     ├───┤│         │\n",
      "«q_1: ┤ I ├┤1        ├\n",
      "«     ├───┤│         │\n",
      "«q_2: ┤ Z ├┤2 -ZZYZZ ├\n",
      "«     ├───┤│         │\n",
      "«q_3: ┤ I ├┤3        ├\n",
      "«     ├───┤│         │\n",
      "«q_4: ┤ I ├┤4        ├\n",
      "«     └───┘└─────────┘\n"
     ]
    }
   ],
   "source": [
    "# error probabilities\n",
    "px = 0.05  # adjust the probability as needed\n",
    "py = 0.10  # adjust the probability as needed\n",
    "pz = 0.20  # adjust the probability as needed\n",
    "qiskitCircuitNoisy = transpileListToQiskitCircuit(circuit, noise=True, px=px, py=py, pz=pz)\n",
    "print(qiskitCircuitNoisy)\n",
    "print(G_twirling_noisy(qiskitCircuitNoisy))"
   ]
  },
  {
   "cell_type": "markdown",
   "metadata": {},
   "source": [
    "You can see above an example of random noise being introduced after every gate."
   ]
  },
  {
   "cell_type": "code",
   "execution_count": 47,
   "metadata": {},
   "outputs": [
    {
     "name": "stdout",
     "output_type": "stream",
     "text": [
      "-1.0\n"
     ]
    }
   ],
   "source": [
    "circuit = generateCliffordCircuit(width, depth, singleGateSet, doubleGateSet)\n",
    "qiskitCircuitNoisy = transpileListToQiskitCircuit(circuit, noise=True, px=px, py=py, pz=pz)\n",
    "noisy_circuit_ensemble = [G_twirling_noisy(qiskitCircuitNoisy) for _ in range(10)]\n",
    "print(est_Lambda(input_pauli,noisy_circuit_ensemble,1000))"
   ]
  },
  {
   "cell_type": "markdown",
   "metadata": {},
   "source": [
    "We can generate the A matrix and solve for the $\\lambda$ values for each gate and calculate their corresponding error rates with the below code."
   ]
  },
  {
   "cell_type": "code",
   "execution_count": null,
   "metadata": {},
   "outputs": [],
   "source": [
    "# generate A matrix\n",
    "A = generate_A(width=width, depth=depth)\n",
    "\n",
    "Lam_vec = [est_Lambda(input_pauli,noisy_circuit_ensemble,1000) for row in A] # needs implementing\n",
    "\n",
    "# return error vector\n",
    "lambda_vector = Amatrixsolve(A, Lam_vec)\n",
    "print(\"LAMBDA VECTOR: \", lambda_vector)\n",
    "error_vector = error(lambda_vector)"
   ]
  }
 ],
 "metadata": {
  "kernelspec": {
   "display_name": "ACES",
   "language": "python",
   "name": "python3"
  },
  "language_info": {
   "codemirror_mode": {
    "name": "ipython",
    "version": 3
   },
   "file_extension": ".py",
   "mimetype": "text/x-python",
   "name": "python",
   "nbconvert_exporter": "python",
   "pygments_lexer": "ipython3",
   "version": "3.11.5"
  }
 },
 "nbformat": 4,
 "nbformat_minor": 2
}
