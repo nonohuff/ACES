{
 "cells": [
  {
   "cell_type": "code",
   "execution_count": 24,
   "metadata": {},
   "outputs": [],
   "source": [
    "import numpy as np\n",
    "import matplotlib.pyplot as plt\n",
    "import qiskit as qk\n",
    "from qiskit import QuantumCircuit, Aer, transpile, assemble\n",
    "from qiskit.visualization import plot_histogram\n",
    "import random\n",
    "from collections import Counter\n",
    "\n",
    "from generator import generateCliffordCircuit\n",
    "# from execution.transpiler import transpileListToQiskitCircuit"
   ]
  },
  {
   "cell_type": "code",
   "execution_count": 25,
   "metadata": {},
   "outputs": [],
   "source": [
    "def stringToQiskitSingleGate(gateString, qiskitCir, whichQubit):\n",
    "    if gateString == 'I':\n",
    "        qiskitCir.id(whichQubit)\n",
    "    elif gateString == 'X':\n",
    "        qiskitCir.x(whichQubit)\n",
    "    elif gateString == 'Y':\n",
    "        qiskitCir.y(whichQubit)\n",
    "    elif gateString == 'Z':\n",
    "        qiskitCir.z(whichQubit)\n",
    "    elif gateString == 'H':\n",
    "        qiskitCir.h(whichQubit)\n",
    "    elif gateString == 'S':\n",
    "        qiskitCir.s(whichQubit)\n",
    "        \n",
    "def transpileListToQiskitCircuit(cir):\n",
    "    depth = len(cir)\n",
    "    width = len(cir[0])\n",
    "    qiskitCir = qk.QuantumCircuit(width)\n",
    "    for d in range(width):\n",
    "        if d % 2 == 0:\n",
    "            for w in range(width):\n",
    "                singleGate = cir[d][w]\n",
    "                stringToQiskitSingleGate(singleGate, qiskitCir, w)\n",
    "            if d != width - 1:\n",
    "                qiskitCir.barrier()\n",
    "        else:\n",
    "            c = cir[d].index('CNOT_C')\n",
    "            t = cir[d].index('CNOT_T')\n",
    "            qiskitCir.cx(c, t)\n",
    "            if d != width - 1:\n",
    "                qiskitCir.barrier()\n",
    "    return qiskitCir"
   ]
  },
  {
   "cell_type": "code",
   "execution_count": 26,
   "metadata": {},
   "outputs": [
    {
     "name": "stdout",
     "output_type": "stream",
     "text": [
      "[['X', 'I', 'S', 'X', 'I'], ['I', 'CNOT_T', 'I', 'I', 'CNOT_C'], ['S', 'X', 'I', 'S', 'Z'], ['I', 'I', 'CNOT_T', 'CNOT_C', 'I'], ['S', 'S', 'I', 'S', 'Z']]\n",
      "     ┌───┐ ░       ░ ┌───┐ ░       ░ ┌───┐\n",
      "q_0: ┤ X ├─░───────░─┤ S ├─░───────░─┤ S ├\n",
      "     ├───┤ ░ ┌───┐ ░ ├───┤ ░       ░ ├───┤\n",
      "q_1: ┤ I ├─░─┤ X ├─░─┤ X ├─░───────░─┤ S ├\n",
      "     ├───┤ ░ └─┬─┘ ░ ├───┤ ░ ┌───┐ ░ ├───┤\n",
      "q_2: ┤ S ├─░───┼───░─┤ I ├─░─┤ X ├─░─┤ I ├\n",
      "     ├───┤ ░   │   ░ ├───┤ ░ └─┬─┘ ░ ├───┤\n",
      "q_3: ┤ X ├─░───┼───░─┤ S ├─░───■───░─┤ S ├\n",
      "     ├───┤ ░   │   ░ ├───┤ ░       ░ ├───┤\n",
      "q_4: ┤ I ├─░───■───░─┤ Z ├─░───────░─┤ Z ├\n",
      "     └───┘ ░       ░ └───┘ ░       ░ └───┘\n"
     ]
    }
   ],
   "source": [
    "width = 5 # num_qubits\n",
    "depth = 5 # number of layers in the circuit (easy + hard)\n",
    "singleGateSet = ['X', 'H', 'Z', 'I', 'S']\n",
    "doubleGateSet = ['CNOT_C', 'CNOT_T']\n",
    "twirlingGateSet = ['X','Y' 'Z', 'I']\n",
    "\n",
    "circuit = generateCliffordCircuit(width, depth, singleGateSet, doubleGateSet)\n",
    "qiskitCircuit = transpileListToQiskitCircuit(circuit)\n",
    "print(circuit)\n",
    "if depth < 10:\n",
    "    print(qiskitCircuit)"
   ]
  },
  {
   "cell_type": "code",
   "execution_count": 27,
   "metadata": {},
   "outputs": [],
   "source": [
    "def Clifford_Permute(cliff,pauli):\n",
    "    '''This function permutes the pauli operators according to the clifford group, so it computes \n",
    "    P' = C P C^T, where C is a clifford operator and P is a pauli operator.\n",
    "    Inputs: cliff - A Qiskit Circuit, Clifford, or Gate object.\n",
    "            pauli - A Qiskit Pauli object.\n",
    "    Outputs: new_pauli - A Qiskit Pauli object.'''\n",
    "\n",
    "    if type(pauli) == qk.quantum_info.Pauli:\n",
    "        p = pauli\n",
    "    elif type(pauli) == str:\n",
    "        p = qk.quantum_info.Pauli(pauli)\n",
    "\n",
    "    return p.evolve(cliff,frame=\"s\")\n"
   ]
  },
  {
   "cell_type": "code",
   "execution_count": null,
   "metadata": {},
   "outputs": [],
   "source": []
  },
  {
   "cell_type": "code",
   "execution_count": null,
   "metadata": {},
   "outputs": [],
   "source": [
    "def Clifford_Permute(cliff,pauli):\n",
    "    '''This function permutes the pauli operators according to the clifford group, so it computes \n",
    "    P' = C P C^dag, where C is a clifford operator and P is a pauli operator.\n",
    "    Inputs: cliff - A Qiskit Circuit, Clifford, or Gate object.\n",
    "            pauli - A Qiskit Pauli object.\n",
    "    Outputs: new_pauli - A Qiskit Pauli object.'''\n",
    "\n",
    "    if type(pauli) == qk.quantum_info.Pauli:\n",
    "        p = pauli\n",
    "    elif type(pauli) == str:\n",
    "        p = qk.quantum_info.Pauli(pauli)\n",
    "\n",
    "    for \n",
    "\n",
    "    return p.evolve(cliff,frame=\"s\")"
   ]
  },
  {
   "cell_type": "code",
   "execution_count": 28,
   "metadata": {},
   "outputs": [
    {
     "data": {
      "text/plain": [
       "Pauli('XYZIX')"
      ]
     },
     "execution_count": 28,
     "metadata": {},
     "output_type": "execute_result"
    }
   ],
   "source": [
    "Clifford_Permute(qiskitCircuit, qk.quantum_info.Pauli('X'*width))"
   ]
  },
  {
   "cell_type": "code",
   "execution_count": 29,
   "metadata": {},
   "outputs": [],
   "source": [
    "def split_circuit_by_barrier(circuit):\n",
    "    qasm = circuit.qasm()\n",
    "    prelude = []\n",
    "    circuits = [[]]\n",
    "    for line in qasm.splitlines():\n",
    "        if any([line.startswith(t) for t in ['OPENQASM', 'include', 'qreg', 'creg']]):\n",
    "            prelude.append(line)\n",
    "        elif line.startswith('barrier'):\n",
    "            circuits.append([])\n",
    "        else:\n",
    "            circuits[-1].append(line)\n",
    "    circuits_with_prelude = [prelude+circuit for circuit in circuits]\n",
    "    for circuit_with_prelude in circuits_with_prelude:\n",
    "        yield qk.QuantumCircuit.from_qasm_str('\\n'.join(circuit_with_prelude))\n",
    "\n",
    "# for subcircuit in (split_circuit_by_barrier(qiskitCircuit)):\n",
    "#     print(subcircuit)"
   ]
  },
  {
   "cell_type": "code",
   "execution_count": 30,
   "metadata": {},
   "outputs": [],
   "source": [
    "def G_twirling(circuit):\n",
    "    '''This function performs G-twirling on a circuit. It randomly chooses a Pauli from {X,Y,Z,I} and prepends it before a layer, then appends P'=CPC^T after the layer.}\n",
    "    Inputs: circuit - A Qiskit Circuit object.\n",
    "    Outputs: new_circuit - A Qiskit Circuit object.'''\n",
    "    num_qubits = circuit.num_qubits\n",
    "    new_circuit = qk.QuantumCircuit(num_qubits)\n",
    "    for index, subcircuit in enumerate(split_circuit_by_barrier(circuit)):\n",
    "        # if len(subcircuit.data) == 1:\n",
    "        #     operated_qubits = [subcircuit.find_bit(q).index for q in subcircuit.data[0].qubits]\n",
    "        # else:\n",
    "        #     operated_qubits = list(range(num_qubits))\n",
    "        pauli_str = ''.join(random.choice([\"X\",\"Y\",\"Z\",\"I\"]) for _ in range(num_qubits))\n",
    "        pauli = qk.quantum_info.Pauli(pauli_str)\n",
    "        new_circuit = new_circuit.compose(pauli,qubits=range(num_qubits))\n",
    "        new_circuit = new_circuit.compose(subcircuit,qubits=range(num_qubits))\n",
    "        new_circuit = new_circuit.compose(Clifford_Permute(subcircuit,pauli).to_instruction(),qubits = range(num_qubits))\n",
    "        if index != len(list(split_circuit_by_barrier(circuit)))-1:\n",
    "            new_circuit.barrier()\n",
    "    return new_circuit\n"
   ]
  },
  {
   "cell_type": "code",
   "execution_count": 31,
   "metadata": {},
   "outputs": [
    {
     "data": {
      "text/html": [
       "<pre style=\"word-wrap: normal;white-space: pre;background: #fff0;line-height: 1.1;font-family: &quot;Courier New&quot;,Courier,monospace\">     ┌───────────────┐┌───┐┌─────────┐ ░ ┌───────────────┐     »\n",
       "q_0: ┤0              ├┤ X ├┤0        ├─░─┤0              ├─────»\n",
       "     │               │├───┤│         │ ░ │               │┌───┐»\n",
       "q_1: ┤1              ├┤ I ├┤1        ├─░─┤1              ├┤ X ├»\n",
       "     │               │├───┤│         │ ░ │               │└─┬─┘»\n",
       "q_2: ┤2 Pauli(IXZYZ) ├┤ S ├┤2 -IXZYZ ├─░─┤2 Pauli(ZZZIY) ├──┼──»\n",
       "     │               │├───┤│         │ ░ │               │  │  »\n",
       "q_3: ┤3              ├┤ X ├┤3        ├─░─┤3              ├──┼──»\n",
       "     │               │├───┤│         │ ░ │               │  │  »\n",
       "q_4: ┤4              ├┤ I ├┤4        ├─░─┤4              ├──■──»\n",
       "     └───────────────┘└───┘└─────────┘ ░ └───────────────┘     »\n",
       "«     ┌───────────────┐ ░ ┌───────────────┐┌───┐┌─────────┐ ░ ┌───────────────┐»\n",
       "«q_0: ┤0              ├─░─┤0              ├┤ S ├┤0        ├─░─┤0              ├»\n",
       "«     │               │ ░ │               │├───┤│         │ ░ │               │»\n",
       "«q_1: ┤1              ├─░─┤1              ├┤ X ├┤1        ├─░─┤1              ├»\n",
       "«     │               │ ░ │               │├───┤│         │ ░ │               │»\n",
       "«q_2: ┤2 Pauli(ZZZIY) ├─░─┤2 Pauli(ZYIII) ├┤ I ├┤2 -ZXIII ├─░─┤2 Pauli(ZZXZY) ├»\n",
       "«     │               │ ░ │               │├───┤│         │ ░ │               │»\n",
       "«q_3: ┤3              ├─░─┤3              ├┤ S ├┤3        ├─░─┤3              ├»\n",
       "«     │               │ ░ │               │├───┤│         │ ░ │               │»\n",
       "«q_4: ┤4              ├─░─┤4              ├┤ Z ├┤4        ├─░─┤4              ├»\n",
       "«     └───────────────┘ ░ └───────────────┘└───┘└─────────┘ ░ └───────────────┘»\n",
       "«          ┌───────────────┐ ░ ┌───────────────┐┌───┐┌─────────┐\n",
       "«q_0: ─────┤0              ├─░─┤0              ├┤ S ├┤0        ├\n",
       "«          │               │ ░ │               │├───┤│         │\n",
       "«q_1: ─────┤1              ├─░─┤1              ├┤ S ├┤1        ├\n",
       "«     ┌───┐│               │ ░ │               │├───┤│         │\n",
       "«q_2: ┤ X ├┤2 Pauli(ZZXZY) ├─░─┤2 Pauli(ZYIXI) ├┤ I ├┤2 -ZXIYI ├\n",
       "«     └─┬─┘│               │ ░ │               │├───┤│         │\n",
       "«q_3: ──■──┤3              ├─░─┤3              ├┤ S ├┤3        ├\n",
       "«          │               │ ░ │               │├───┤│         │\n",
       "«q_4: ─────┤4              ├─░─┤4              ├┤ Z ├┤4        ├\n",
       "«          └───────────────┘ ░ └───────────────┘└───┘└─────────┘</pre>"
      ],
      "text/plain": [
       "     ┌───────────────┐┌───┐┌─────────┐ ░ ┌───────────────┐     »\n",
       "q_0: ┤0              ├┤ X ├┤0        ├─░─┤0              ├─────»\n",
       "     │               │├───┤│         │ ░ │               │┌───┐»\n",
       "q_1: ┤1              ├┤ I ├┤1        ├─░─┤1              ├┤ X ├»\n",
       "     │               │├───┤│         │ ░ │               │└─┬─┘»\n",
       "q_2: ┤2 Pauli(IXZYZ) ├┤ S ├┤2 -IXZYZ ├─░─┤2 Pauli(ZZZIY) ├──┼──»\n",
       "     │               │├───┤│         │ ░ │               │  │  »\n",
       "q_3: ┤3              ├┤ X ├┤3        ├─░─┤3              ├──┼──»\n",
       "     │               │├───┤│         │ ░ │               │  │  »\n",
       "q_4: ┤4              ├┤ I ├┤4        ├─░─┤4              ├──■──»\n",
       "     └───────────────┘└───┘└─────────┘ ░ └───────────────┘     »\n",
       "«     ┌───────────────┐ ░ ┌───────────────┐┌───┐┌─────────┐ ░ ┌───────────────┐»\n",
       "«q_0: ┤0              ├─░─┤0              ├┤ S ├┤0        ├─░─┤0              ├»\n",
       "«     │               │ ░ │               │├───┤│         │ ░ │               │»\n",
       "«q_1: ┤1              ├─░─┤1              ├┤ X ├┤1        ├─░─┤1              ├»\n",
       "«     │               │ ░ │               │├───┤│         │ ░ │               │»\n",
       "«q_2: ┤2 Pauli(ZZZIY) ├─░─┤2 Pauli(ZYIII) ├┤ I ├┤2 -ZXIII ├─░─┤2 Pauli(ZZXZY) ├»\n",
       "«     │               │ ░ │               │├───┤│         │ ░ │               │»\n",
       "«q_3: ┤3              ├─░─┤3              ├┤ S ├┤3        ├─░─┤3              ├»\n",
       "«     │               │ ░ │               │├───┤│         │ ░ │               │»\n",
       "«q_4: ┤4              ├─░─┤4              ├┤ Z ├┤4        ├─░─┤4              ├»\n",
       "«     └───────────────┘ ░ └───────────────┘└───┘└─────────┘ ░ └───────────────┘»\n",
       "«          ┌───────────────┐ ░ ┌───────────────┐┌───┐┌─────────┐\n",
       "«q_0: ─────┤0              ├─░─┤0              ├┤ S ├┤0        ├\n",
       "«          │               │ ░ │               │├───┤│         │\n",
       "«q_1: ─────┤1              ├─░─┤1              ├┤ S ├┤1        ├\n",
       "«     ┌───┐│               │ ░ │               │├───┤│         │\n",
       "«q_2: ┤ X ├┤2 Pauli(ZZXZY) ├─░─┤2 Pauli(ZYIXI) ├┤ I ├┤2 -ZXIYI ├\n",
       "«     └─┬─┘│               │ ░ │               │├───┤│         │\n",
       "«q_3: ──■──┤3              ├─░─┤3              ├┤ S ├┤3        ├\n",
       "«          │               │ ░ │               │├───┤│         │\n",
       "«q_4: ─────┤4              ├─░─┤4              ├┤ Z ├┤4        ├\n",
       "«          └───────────────┘ ░ └───────────────┘└───┘└─────────┘"
      ]
     },
     "execution_count": 31,
     "metadata": {},
     "output_type": "execute_result"
    }
   ],
   "source": [
    "G_twirling(qiskitCircuit).draw()"
   ]
  },
  {
   "cell_type": "code",
   "execution_count": 32,
   "metadata": {},
   "outputs": [],
   "source": [
    "circuit_ensemble = [G_twirling(qiskitCircuit) for _ in range(10)]\n",
    "# for circ in circuit_ensemble:\n",
    "#     print(circ)"
   ]
  },
  {
   "cell_type": "code",
   "execution_count": 33,
   "metadata": {},
   "outputs": [],
   "source": [
    "def random_choices_with_counts(items, n):\n",
    "    \"\"\"\n",
    "    Randomly choose with replacement n items from a list and return a dictionary\n",
    "    with the counts of each chosen item.\n",
    "    \n",
    "    Parameters:\n",
    "        items (list): List of items to choose from.\n",
    "        n (int): Number of items to choose.\n",
    "    \n",
    "    Returns:\n",
    "        dict: Dictionary with the counts of each chosen item.\n",
    "    \"\"\"\n",
    "    chosen_items = random.choices(items, k=n)\n",
    "    counts = Counter(chosen_items)\n",
    "    return dict(counts)"
   ]
  },
  {
   "cell_type": "code",
   "execution_count": 34,
   "metadata": {},
   "outputs": [],
   "source": [
    "def find_circuit_from_name(circuit_list,target_name):\n",
    "    # Find the circuit with the given name\n",
    "    found_circuit = None\n",
    "    for circuit in circuit_list:\n",
    "        if circuit.name == target_name:\n",
    "            found_circuit = circuit\n",
    "            break\n",
    "\n",
    "    # Check if the circuit was found\n",
    "    if found_circuit is not None:\n",
    "        # print(f\"Circuit with name '{target_name}' found:\")\n",
    "        # print(found_circuit)\n",
    "        return found_circuit\n",
    "    else:\n",
    "        print(f\"No circuit with name '{target_name}' found.\")\n",
    "        return found_circuit"
   ]
  },
  {
   "cell_type": "code",
   "execution_count": 35,
   "metadata": {},
   "outputs": [
    {
     "name": "stdout",
     "output_type": "stream",
     "text": [
      "                   \n",
      "q_0: ──────────────\n",
      "     ┌────────────┐\n",
      "q_1: ┤0           ├\n",
      "     │            │\n",
      "q_2: ┤  Pauli(XX) ├\n",
      "     │            │\n",
      "q_3: ┤1           ├\n",
      "     └────────────┘\n",
      "q_4: ──────────────\n",
      "                   \n"
     ]
    }
   ],
   "source": [
    "me = qk.QuantumCircuit(5)\n",
    "me.pauli(pauli_string = \"XX\",qubits = [1,3])\n",
    "print(me)"
   ]
  },
  {
   "cell_type": "code",
   "execution_count": 36,
   "metadata": {},
   "outputs": [
    {
     "data": {
      "text/plain": [
       "<qiskit.circuit.quantumcircuit.QuantumCircuit at 0x7fe642a35490>"
      ]
     },
     "execution_count": 36,
     "metadata": {},
     "output_type": "execute_result"
    }
   ],
   "source": [
    "num_experiments = 1000\n",
    "freq_dict = random_choices_with_counts([circ.name for circ in circuit_ensemble],num_experiments)\n",
    "find_circuit_from_name(circuit_ensemble,list(freq_dict.keys())[0])"
   ]
  },
  {
   "cell_type": "code",
   "execution_count": 37,
   "metadata": {},
   "outputs": [],
   "source": [
    "def prep_circuit(input_pauli):\n",
    "    '''This function prepares the input state for eigenvalue sampling. It takes in a Pauli operator to be input into the circuit and outputs a circuit that prepares the state |psi+> or |psi-> from the input |0>^n, \n",
    "    where |psi+> and |psi-> are the eigenstates of the input Pauli operator.\n",
    "    Inputs: input_pauli - A Qiskit Pauli object or a string representing a Pauli operator.\n",
    "    Outputs: prep_circ - A Qiskit Circuit object which will prepare the state |psi+> or |psi-> from |0>^n, where |psi+> and |psi-> are the eigenstates of the input Pauli operator.\n",
    "    '''\n",
    "    # mapping for preparation circuit. The idea of the prep circuit is that we append it before the circuit to eigenvalue samp\n",
    "    # i.e. input the state where all qubits are zero 1000...0> into the prep circuit and then input it's ouput into the circu\n",
    "    # |0> -> ...\n",
    "    # H -> |+>\n",
    "    # XH -> |->\n",
    "    # HS -> |+i>\n",
    "    # XHS -> |-i>\n",
    "    # I -> |0> (no change)\n",
    "    # X -> |1>\n",
    "    if type(input_pauli) == str:\n",
    "        input_pauli_string = ''.join(char for char in input_pauli if char.isalpha()) # removes the phase from the Pauli string if present\n",
    "    elif type(input_pauli) == qk.quantum_info.Pauli:\n",
    "        input_pauli_string = ''.join(char for char in input_pauli.to_label() if char.isalpha()) # converts the Pauli to a string w/o phase\n",
    "\n",
    "    nontriv_indices = [index for index, char in enumerate(input_pauli_string) if char != 'I'] # finds the indices of the nontrivial Pauli gates\n",
    "\n",
    "    prep_circ = qk.QuantumCircuit(len(input_pauli_string))\n",
    "    p_eigenstate = [random.choice(range(2)) for i in nontriv_indices] # randomly chooses |psi+> (0) or |psi-> (1)\n",
    "    \n",
    "    for index, qubit in enumerate(nontriv_indices):\n",
    "        pauli_gate =  input_pauli_string[qubit]\n",
    "        if pauli_gate == \"X\": # if the input Pauli is X\n",
    "            if p_eigenstate[index] == 0: # if the randomly chosen eigenvector is |+>\n",
    "                prep_circ.h(qubit)\n",
    "            elif p_eigenstate[index] == 1: # if the randomly chosen eigenvector is |->\n",
    "                prep_circ.x(qubit)\n",
    "                prep_circ.h(qubit)\n",
    "        elif pauli_gate == \"Y\": # if the input Pauli is Y\n",
    "            if p_eigenstate[index] == 0: # if the randomly chosen eigenvector is l+i>\n",
    "                prep_circ.h(qubit)\n",
    "                prep_circ.s(qubit)\n",
    "            elif p_eigenstate[index] == 1: # if the randomly chosen eigenvector is |-i>\n",
    "                prep_circ.x(qubit)\n",
    "                prep_circ.h(qubit)\n",
    "                prep_circ.s(qubit)\n",
    "        elif pauli_gate == \"Z\": # if the input Pauli is Z\n",
    "            # we don't need to append anything if the chosen eigenstate is 10>, since the input will already be in that state\n",
    "            if p_eigenstate[index] == 1: # if the randomly chosen eigenvector is\n",
    "                prep_circ.x(qubit)\n",
    "\n",
    "    p_in_eigenstate = sum(p_eigenstate) % 2\n",
    "    return prep_circ, p_in_eigenstate"
   ]
  },
  {
   "cell_type": "code",
   "execution_count": 38,
   "metadata": {},
   "outputs": [],
   "source": [
    "def measure_circuit(final_pauli):\n",
    "    if type(final_pauli) == str:\n",
    "        final_pauli_string = ''.join(char for char in final_pauli if char.isalpha()) # removes the phase from the Pauli string if present\n",
    "    elif type(final_pauli) == qk.quantum_info.Pauli:\n",
    "        final_pauli_string = ''.join(char for char in final_pauli.to_label() if char.isalpha()) # converts the Pauli to a string w/o phase\n",
    "\n",
    "    nontriv_indices = [index for index, char in enumerate(final_pauli_string) if char != 'I'] # finds the indices of the nontrivial Pauli gates\n",
    "    nontriv_gates = [final_pauli_string[index] for index in nontriv_indices]\n",
    "\n",
    "    measurement_circ = qk.QuantumCircuit(len(final_pauli_string),len(nontriv_indices))\n",
    "    # On the measurement circ, we need to dagger the transforms used to prepare the prep circ to measure in the bases given by P'\n",
    "    for index, g in enumerate(nontriv_gates):\n",
    "        # print(index)\n",
    "        if g == \"X\":\n",
    "            measurement_circ.h(nontriv_indices[index]) # rotate into X basis\n",
    "            measurement_circ.measure(nontriv_indices[index],index) # then measure\n",
    "        elif g == \"Y\":\n",
    "            measurement_circ.sdg(nontriv_indices[index])\n",
    "            measurement_circ.h(nontriv_indices[index]) # S**-1 H rotates into Y basis\n",
    "            measurement_circ.measure(nontriv_indices[index],index) # then measure\n",
    "        elif g == \"Z\":\n",
    "            measurement_circ.measure(nontriv_indices[index],index) # measure\n",
    "\n",
    "    return measurement_circ"
   ]
  },
  {
   "cell_type": "code",
   "execution_count": 39,
   "metadata": {},
   "outputs": [
    {
     "name": "stdout",
     "output_type": "stream",
     "text": [
      "     ┌───┐┌───┐     \n",
      "q_0: ┤ X ├┤ H ├─────\n",
      "     ├───┤├───┤┌───┐\n",
      "q_1: ┤ X ├┤ H ├┤ S ├\n",
      "     └───┘└───┘└───┘\n",
      "q_2: ───────────────\n",
      "                    \n",
      "q_3: ───────────────\n",
      "     ┌───┐┌───┐     \n",
      "q_4: ┤ X ├┤ H ├─────\n",
      "     └───┘└───┘     \n",
      "      ┌───┐      ┌─┐      \n",
      "q_0: ─┤ H ├──────┤M├──────\n",
      "     ┌┴───┴┐┌───┐└╥┘   ┌─┐\n",
      "q_1: ┤ Sdg ├┤ H ├─╫────┤M├\n",
      "     └─────┘└───┘ ║    └╥┘\n",
      "q_2: ─────────────╫─────╫─\n",
      "       ┌─┐        ║     ║ \n",
      "q_3: ──┤M├────────╫─────╫─\n",
      "       └╥┘  ┌───┐ ║ ┌─┐ ║ \n",
      "q_4: ───╫───┤ H ├─╫─┤M├─╫─\n",
      "        ║   └───┘ ║ └╥┘ ║ \n",
      "c: 4/═══╩═════════╩══╩══╩═\n",
      "        2         0  3  1 \n",
      "Number of Classical Bits:  4\n"
     ]
    }
   ],
   "source": [
    "st = \"XYIZX\"\n",
    "b,c = prep_circuit(st)\n",
    "print(b)\n",
    "a = measure_circuit(st)\n",
    "print(a)\n",
    "print(\"Number of Classical Bits: \",a.num_clbits)"
   ]
  },
  {
   "cell_type": "code",
   "execution_count": 40,
   "metadata": {},
   "outputs": [],
   "source": [
    "def est_Lambda(input_pauli,circuit_ensemble,num_experiments):\n",
    "\n",
    "    if type(input_pauli) == str:\n",
    "        input_pauli_string = ''.join(char for char in input_pauli if char.isalpha()) # removes the phase from the Pauli string if present\n",
    "    elif type(input_pauli) == qk.quantum_info.Pauli:\n",
    "        input_pauli_string = ''.join(char for char in input_pauli.to_label() if char.isalpha()) # converts the Pauli to a string w/o phase\n",
    "\n",
    "    freq_dict = random_choices_with_counts([circ.name for circ in circuit_ensemble],num_experiments)\n",
    "\n",
    "    eigenresults_dict = {(\"+\",\"+\"):0,(\"+\",\"-\"):0,(\"-\",\"+\"):0,(\"-\",\"-\"):0}\n",
    "    for circ_name in freq_dict:\n",
    "        circ = find_circuit_from_name(circuit_ensemble,circ_name)\n",
    "        num_shots = freq_dict[circ_name]\n",
    "        start_in_plus = random.randint(1, num_shots)\n",
    "        starter = [start_in_plus, num_shots - start_in_plus]\n",
    "        \n",
    "        p_in_eigenstate = 100\n",
    "        for i in [0,1]:\n",
    "            while p_in_eigenstate != i:\n",
    "                prep_circ,p_in_eigenstate = prep_circuit(input_pauli_string)\n",
    "        \n",
    "            if p_in_eigenstate == 0:\n",
    "                p_eigenstate = \"+\"\n",
    "            elif p_in_eigenstate == 1:\n",
    "                p_eigenstate = \"-\"\n",
    "            \n",
    "            prep_circ.barrier()\n",
    "\n",
    "            measure_circ = measure_circuit(Clifford_Permute(circ,input_pauli_string))\n",
    "\n",
    "            temp_circuit = prep_circ.compose(circ)\n",
    "            temp_circuit.barrier()\n",
    "            full_circuit = temp_circuit.compose(measure_circ)\n",
    "            # print(full_circuit)\n",
    "        \n",
    "            # Simulate the circuit with the stabilizer simulator\n",
    "            simulator = Aer.get_backend('aer_simulator', method='stabilizer')\n",
    "            result = qk.execute(full_circuit, backend = simulator, shots = starter[i]).result()\n",
    "            counts = result.get_counts()\n",
    "\n",
    "            for r in counts:\n",
    "                parity = sum(int(x) for x in r if x.isdigit()) % 2\n",
    "                if parity == 0:\n",
    "                    pp_eigenstate = \"+\"\n",
    "                elif parity == 1:\n",
    "                    pp_eigenstate= \"-\"\n",
    "\n",
    "                if (p_eigenstate,pp_eigenstate) not in eigenresults_dict:\n",
    "                    eigenresults_dict[(p_eigenstate,pp_eigenstate)] = counts[r]\n",
    "                else:\n",
    "                    eigenresults_dict[(p_eigenstate,pp_eigenstate)] += counts[r]\n",
    "\n",
    "    print(sum(eigenresults_dict.values()))\n",
    "    # Lambda_est = ((eigenresults_dict[(\"+\",\"+\")] - eigenresults_dict[(\"+\",\"-\")])/(eigenresults_dict[(\"+\",\"+\")] + eigenresults_dict[(\"+\",\"-\")]) - (eigenresults_dict[(\"-\",\"+\")] - eigenresults_dict[(\"-\",\"-\")])/(eigenresults_dict[(\"-\",\"+\")] + eigenresults_dict[(\"-\",\"-\")]))\n",
    "    Lambda_est = ((eigenresults_dict[(\"+\",\"+\")] - eigenresults_dict[(\"+\",\"-\")]) - (eigenresults_dict[(\"-\",\"+\")] - eigenresults_dict[(\"-\",\"-\")]))/sum(eigenresults_dict.values())\n",
    "\n",
    "    return Lambda_est"
   ]
  },
  {
   "cell_type": "code",
   "execution_count": 41,
   "metadata": {},
   "outputs": [
    {
     "name": "stdout",
     "output_type": "stream",
     "text": [
      "1000\n",
      "0.012\n"
     ]
    }
   ],
   "source": [
    "out = est_Lambda(st,[qiskitCircuit],1000)\n",
    "print(out)"
   ]
  },
  {
   "cell_type": "code",
   "execution_count": 42,
   "metadata": {},
   "outputs": [
    {
     "data": {
      "text/plain": [
       "Pauli('YYXXX')"
      ]
     },
     "execution_count": 42,
     "metadata": {},
     "output_type": "execute_result"
    }
   ],
   "source": [
    "Clifford_Permute(qiskitCircuit, st)"
   ]
  },
  {
   "cell_type": "code",
   "execution_count": 43,
   "metadata": {},
   "outputs": [
    {
     "name": "stdout",
     "output_type": "stream",
     "text": [
      "     ┌───┐┌───┐ ░ ┌───┐ ░       ░ ┌───┐ ░       ░ ┌───┐ ░ ┌─────┐┌───┐      ┌─┐»\n",
      "q_0: ┤ X ├┤ H ├─░─┤ X ├─░───────░─┤ S ├─░───────░─┤ S ├─░─┤ Sdg ├┤ H ├──────┤M├»\n",
      "     ├───┤├───┤ ░ ├───┤ ░ ┌───┐ ░ ├───┤ ░       ░ ├───┤ ░ ├─────┤├───┤      └╥┘»\n",
      "q_1: ┤ H ├┤ S ├─░─┤ I ├─░─┤ X ├─░─┤ X ├─░───────░─┤ S ├─░─┤ Sdg ├┤ H ├───────╫─»\n",
      "     └───┘└───┘ ░ ├───┤ ░ └─┬─┘ ░ ├───┤ ░ ┌───┐ ░ ├───┤ ░ └┬───┬┘└┬─┬┘       ║ »\n",
      "q_2: ───────────░─┤ S ├─░───┼───░─┤ I ├─░─┤ X ├─░─┤ I ├─░──┤ H ├──┤M├────────╫─»\n",
      "                ░ ├───┤ ░   │   ░ ├───┤ ░ └─┬─┘ ░ ├───┤ ░  ├───┤  └╥┘ ┌─┐    ║ »\n",
      "q_3: ───────────░─┤ X ├─░───┼───░─┤ S ├─░───■───░─┤ S ├─░──┤ H ├───╫──┤M├────╫─»\n",
      "     ┌───┐      ░ ├───┤ ░   │   ░ ├───┤ ░       ░ ├───┤ ░  ├───┤   ║  └╥┘┌─┐ ║ »\n",
      "q_4: ┤ H ├──────░─┤ I ├─░───■───░─┤ Z ├─░───────░─┤ Z ├─░──┤ H ├───╫───╫─┤M├─╫─»\n",
      "     └───┘      ░ └───┘ ░       ░ └───┘ ░       ░ └───┘ ░  └───┘   ║   ║ └╥┘ ║ »\n",
      "c: 5/══════════════════════════════════════════════════════════════╩═══╩══╩══╩═»\n",
      "                                                                   2   3  4  0 »\n",
      "«        \n",
      "«q_0: ───\n",
      "«     ┌─┐\n",
      "«q_1: ┤M├\n",
      "«     └╥┘\n",
      "«q_2: ─╫─\n",
      "«      ║ \n",
      "«q_3: ─╫─\n",
      "«      ║ \n",
      "«q_4: ─╫─\n",
      "«      ║ \n",
      "«c: 5/═╩═\n",
      "«      1 \n",
      "Number of Classical Bits:  5\n",
      "1\n",
      "{'11011': 4, '01000': 12, '01100': 10, '01101': 6, '11111': 4, '00100': 6, '00000': 4, '01001': 1, '11010': 5, '00101': 7, '10011': 5, '10010': 8, '10111': 8, '00001': 6, '10110': 8, '11110': 6}\n",
      "Result(backend_name='aer_simulator', backend_version='0.13.1', qobj_id='', job_id='ae9d4943-80c3-4898-acb8-e4fc3eeeb6f0', success=True, results=[ExperimentResult(shots=100, success=True, meas_level=2, data=ExperimentResultData(counts={'0x1b': 4, '0x8': 12, '0xc': 10, '0xd': 6, '0x1f': 4, '0x4': 6, '0x0': 4, '0x9': 1, '0x1a': 5, '0x5': 7, '0x13': 5, '0x12': 8, '0x17': 8, '0x1': 6, '0x16': 8, '0x1e': 6}), header=QobjExperimentHeader(creg_sizes=[['c', 5]], global_phase=0.0, memory_slots=5, n_qubits=5, name='circuit-1690', qreg_sizes=[['q', 5]], metadata={}), status=DONE, seed_simulator=3233130988, metadata={'time_taken': 0.000696218, 'num_bind_params': 1, 'parallel_state_update': 8, 'parallel_shots': 1, 'required_memory_mb': 0, 'input_qubit_map': [[4, 4], [3, 3], [2, 2], [1, 1], [0, 0]], 'method': 'stabilizer', 'device': 'CPU', 'num_qubits': 5, 'sample_measure_time': 0.000200178, 'active_input_qubits': [0, 1, 2, 3, 4], 'num_clbits': 5, 'remapped_qubits': False, 'runtime_parameter_bind': False, 'max_memory_mb': 7817, 'noise': 'ideal', 'measure_sampling': True, 'batched_shots_optimization': False, 'fusion': {'enabled': False}}, time_taken=0.000696218)], date=2023-12-01T04:18:16.298762, status=COMPLETED, header=None, metadata={'time_taken_parameter_binding': 3.856e-05, 'time_taken_execute': 0.000776276, 'omp_enabled': True, 'max_gpu_memory_mb': 0, 'max_memory_mb': 7817, 'parallel_experiments': 1}, time_taken=0.002897024154663086)\n"
     ]
    }
   ],
   "source": [
    "count_dict = {0:0,1:0}\n",
    "for i in range(1):\n",
    "    full_circuit = qk.QuantumCircuit(qiskitCircuit.num_qubits)\n",
    "    full_circuit.initialize(0)\n",
    "    \n",
    "    prep_circ,p_in_eigenstate = prep_circuit(st)\n",
    "    prep_circ.barrier()\n",
    "    count_dict[p_in_eigenstate] += 1\n",
    "    measure_circ = measure_circuit(Clifford_Permute(qiskitCircuit,st))\n",
    "\n",
    "    temp_circuit = prep_circ.compose(qiskitCircuit)\n",
    "    temp_circuit.barrier()\n",
    "    # print(temp_circuit)\n",
    "    full_circuit = temp_circuit.compose(measure_circ)\n",
    "    print(full_circuit)\n",
    "    print(\"Number of Classical Bits: \", full_circuit.num_clbits)\n",
    "\n",
    "    simulator = Aer.get_backend('aer_simulator', method='stabilizer')\n",
    "    result = qk.execute(full_circuit, backend = simulator, shots = 100).result()\n",
    "    counts = result.get_counts()\n",
    "    \n",
    "    print(p_in_eigenstate)\n",
    "    print(counts)\n",
    "    print(result)"
   ]
  },
  {
   "cell_type": "code",
   "execution_count": 44,
   "metadata": {},
   "outputs": [
    {
     "name": "stdout",
     "output_type": "stream",
     "text": [
      "     ┌───┐┌───┐ ░ ┌───┐ ░       ░ ┌───┐ ░       ░ ┌───┐ ░ ┌─────┐┌───┐      ┌─┐»\n",
      "q_0: ┤ X ├┤ H ├─░─┤ X ├─░───────░─┤ S ├─░───────░─┤ S ├─░─┤ Sdg ├┤ H ├──────┤M├»\n",
      "     ├───┤├───┤ ░ ├───┤ ░ ┌───┐ ░ ├───┤ ░       ░ ├───┤ ░ ├─────┤├───┤      └╥┘»\n",
      "q_1: ┤ H ├┤ S ├─░─┤ I ├─░─┤ X ├─░─┤ X ├─░───────░─┤ S ├─░─┤ Sdg ├┤ H ├───────╫─»\n",
      "     └───┘└───┘ ░ ├───┤ ░ └─┬─┘ ░ ├───┤ ░ ┌───┐ ░ ├───┤ ░ └┬───┬┘└┬─┬┘       ║ »\n",
      "q_2: ───────────░─┤ S ├─░───┼───░─┤ I ├─░─┤ X ├─░─┤ I ├─░──┤ H ├──┤M├────────╫─»\n",
      "                ░ ├───┤ ░   │   ░ ├───┤ ░ └─┬─┘ ░ ├───┤ ░  ├───┤  └╥┘ ┌─┐    ║ »\n",
      "q_3: ───────────░─┤ X ├─░───┼───░─┤ S ├─░───■───░─┤ S ├─░──┤ H ├───╫──┤M├────╫─»\n",
      "     ┌───┐      ░ ├───┤ ░   │   ░ ├───┤ ░       ░ ├───┤ ░  ├───┤   ║  └╥┘┌─┐ ║ »\n",
      "q_4: ┤ H ├──────░─┤ I ├─░───■───░─┤ Z ├─░───────░─┤ Z ├─░──┤ H ├───╫───╫─┤M├─╫─»\n",
      "     └───┘      ░ └───┘ ░       ░ └───┘ ░       ░ └───┘ ░  └───┘   ║   ║ └╥┘ ║ »\n",
      "c: 5/══════════════════════════════════════════════════════════════╩═══╩══╩══╩═»\n",
      "                                                                   2   3  4  0 »\n",
      "«        \n",
      "«q_0: ───\n",
      "«     ┌─┐\n",
      "«q_1: ┤M├\n",
      "«     └╥┘\n",
      "«q_2: ─╫─\n",
      "«      ║ \n",
      "«q_3: ─╫─\n",
      "«      ║ \n",
      "«q_4: ─╫─\n",
      "«      ║ \n",
      "«c: 5/═╩═\n",
      "«      1 \n",
      "     ┌───┐┌───┐ ░ ┌───┐ ░       ░ ┌───┐ ░       ░ ┌───┐┌─────┐┌───┐      ┌─┐   \n",
      "q_0: ┤ X ├┤ H ├─░─┤ X ├─░───────░─┤ S ├─░───────░─┤ S ├┤ Sdg ├┤ H ├──────┤M├───\n",
      "     ├───┤├───┤ ░ ├───┤ ░ ┌───┐ ░ ├───┤ ░       ░ ├───┤├─────┤├───┤      └╥┘┌─┐\n",
      "q_1: ┤ H ├┤ S ├─░─┤ I ├─░─┤ X ├─░─┤ X ├─░───────░─┤ S ├┤ Sdg ├┤ H ├───────╫─┤M├\n",
      "     └───┘└───┘ ░ ├───┤ ░ └─┬─┘ ░ ├───┤ ░ ┌───┐ ░ ├───┤└┬───┬┘└┬─┬┘       ║ └╥┘\n",
      "q_2: ───────────░─┤ S ├─░───┼───░─┤ I ├─░─┤ X ├─░─┤ I ├─┤ H ├──┤M├────────╫──╫─\n",
      "                ░ ├───┤ ░   │   ░ ├───┤ ░ └─┬─┘ ░ ├───┤ ├───┤  └╥┘ ┌─┐    ║  ║ \n",
      "q_3: ───────────░─┤ X ├─░───┼───░─┤ S ├─░───■───░─┤ S ├─┤ H ├───╫──┤M├────╫──╫─\n",
      "     ┌───┐      ░ ├───┤ ░   │   ░ ├───┤ ░       ░ ├───┤ ├───┤   ║  └╥┘┌─┐ ║  ║ \n",
      "q_4: ┤ H ├──────░─┤ I ├─░───■───░─┤ Z ├─░───────░─┤ Z ├─┤ H ├───╫───╫─┤M├─╫──╫─\n",
      "     └───┘      ░ └───┘ ░       ░ └───┘ ░       ░ └───┘ └───┘   ║   ║ └╥┘ ║  ║ \n",
      "c: 5/═══════════════════════════════════════════════════════════╩═══╩══╩══╩══╩═\n",
      "                                                                2   3  4  0  1 \n"
     ]
    }
   ],
   "source": [
    "print(full_circuit)\n",
    "# prep_circ.barrier()\n",
    "me = prep_circ.compose(qiskitCircuit)\n",
    "print(me.compose(measure_circ))"
   ]
  },
  {
   "cell_type": "code",
   "execution_count": 45,
   "metadata": {},
   "outputs": [
    {
     "name": "stdout",
     "output_type": "stream",
     "text": [
      "The unitaries of all circuits are equal.\n"
     ]
    }
   ],
   "source": [
    "def get_unitary(circuit):\n",
    "    simulator = Aer.get_backend('unitary_simulator')\n",
    "    t_circuit = transpile(circuit, simulator)\n",
    "    qobj = assemble(t_circuit)\n",
    "    result = simulator.run(qobj)\n",
    "    return result.get_unitary(circuit, decimals=3)\n",
    "\n",
    "# Get unitary matrices for each circuit\n",
    "unitaries = [Clifford_Permute(circuit,qk.quantum_info.Pauli(\"XYIZX\")) for circuit in circuit_ensemble]\n",
    "\n",
    "# Check if all unitaries are equal\n",
    "are_equal = all(np.allclose(unitaries[0], unitary) for unitary in unitaries[1:])\n",
    "\n",
    "if are_equal:\n",
    "    print(\"The unitaries of all circuits are equal.\")\n",
    "else:\n",
    "    print(\"The unitaries of the circuits are not equal.\")"
   ]
  },
  {
   "cell_type": "code",
   "execution_count": 64,
   "metadata": {},
   "outputs": [
    {
     "name": "stdout",
     "output_type": "stream",
     "text": [
      "     ┌───┐ ░      \n",
      "q_0: ┤ I ├─░───■──\n",
      "     ├───┤ ░ ┌─┴─┐\n",
      "q_1: ┤ I ├─░─┤ X ├\n",
      "     └───┘ ░ └───┘\n",
      "     ┌───┐     \n",
      "q_0: ┤ I ├──■──\n",
      "     ├───┤┌─┴─┐\n",
      "q_1: ┤ I ├┤ X ├\n",
      "     └───┘└───┘\n"
     ]
    }
   ],
   "source": [
    "circuit = generateCliffordCircuit(2, 2, singleGateSet, doubleGateSet)\n",
    "meme = transpileListToQiskitCircuit(circuit)\n",
    "print(meme)\n",
    "from qiskit.transpiler.passes import RemoveBarriers\n",
    "rb = RemoveBarriers()\n",
    "meme2 = rb(meme)\n",
    "print(meme2)"
   ]
  },
  {
   "cell_type": "code",
   "execution_count": 77,
   "metadata": {},
   "outputs": [
    {
     "name": "stdout",
     "output_type": "stream",
     "text": [
      "     ┌───┐ ░ ┌───┐\n",
      "q_0: ┤ X ├─░─┤ X ├\n",
      "     ├───┤ ░ └─┬─┘\n",
      "q_1: ┤ Z ├─░───■──\n",
      "     └───┘ ░      \n",
      "-YI\n",
      "1000\n",
      "-0.022\n"
     ]
    }
   ],
   "source": [
    "circuit = generateCliffordCircuit(2, 2, singleGateSet, doubleGateSet)\n",
    "meme = transpileListToQiskitCircuit(circuit)\n",
    "print(meme)\n",
    "p_str = \"YX\"\n",
    "print(Clifford_Permute(meme, p_str).to_label())\n",
    "v = est_Lambda(p_str,[meme],1000)\n",
    "print(v)"
   ]
  },
  {
   "cell_type": "code",
   "execution_count": 119,
   "metadata": {},
   "outputs": [
    {
     "name": "stdout",
     "output_type": "stream",
     "text": [
      "     ┌───┐\n",
      "q_0: ┤ X ├\n",
      "     ├───┤\n",
      "q_1: ┤ H ├\n",
      "     └───┘\n",
      "-YX\n",
      "1000\n",
      "0.002\n"
     ]
    }
   ],
   "source": [
    "circuit = generateCliffordCircuit(2, 2, singleGateSet, doubleGateSet)\n",
    "meme = transpileListToQiskitCircuit(circuit)\n",
    "layers = [x for x in split_circuit_by_barrier(meme)]\n",
    "print(layers[0])\n",
    "print(Clifford_Permute(layers[0], p_str))\n",
    "v = est_Lambda(p_str,[layers[0]],1000)\n",
    "print(v)"
   ]
  },
  {
   "cell_type": "code",
   "execution_count": 133,
   "metadata": {},
   "outputs": [
    {
     "name": "stdout",
     "output_type": "stream",
     "text": [
      "-Y\n",
      "Z\n"
     ]
    }
   ],
   "source": [
    "a = qk.QuantumCircuit(1)\n",
    "a.x(0)\n",
    "print(Clifford_Permute(a,\"Y\"))\n",
    "\n",
    "a = qk.QuantumCircuit(1)\n",
    "a.h(0)\n",
    "print(Clifford_Permute(a,\"X\"))"
   ]
  },
  {
   "cell_type": "code",
   "execution_count": 131,
   "metadata": {},
   "outputs": [
    {
     "data": {
      "text/plain": [
       "Pauli('-YX')"
      ]
     },
     "execution_count": 131,
     "metadata": {},
     "output_type": "execute_result"
    }
   ],
   "source": [
    "a = qk.QuantumCircuit(2)\n",
    "a.x(0)\n",
    "a.h(1)\n",
    "a.draw()\n",
    "p = qk.quantum_info.Pauli(\"YX\")\n",
    "p.evolve(a, qargs =[0,1], frame=\"s\")"
   ]
  },
  {
   "cell_type": "code",
   "execution_count": 134,
   "metadata": {},
   "outputs": [
    {
     "data": {
      "text/plain": [
       "['X', 'H', 'Z', 'I', 'S']"
      ]
     },
     "execution_count": 134,
     "metadata": {},
     "output_type": "execute_result"
    }
   ],
   "source": [
    "singleGateSet"
   ]
  },
  {
   "cell_type": "code",
   "execution_count": 141,
   "metadata": {},
   "outputs": [
    {
     "name": "stdout",
     "output_type": "stream",
     "text": [
      "-Z\n",
      "1000\n",
      "-1.0\n",
      "\n",
      "X\n",
      "1000\n",
      "-1.0\n",
      "\n",
      "Z\n",
      "1000\n",
      "-1.0\n",
      "\n",
      "Z\n",
      "1000\n",
      "1.0\n",
      "\n",
      "Z\n",
      "1000\n",
      "-1.0\n",
      "\n"
     ]
    }
   ],
   "source": [
    "for g in singleGateSet:\n",
    "    a = qk.QuantumCircuit(1)\n",
    "    if g == \"X\":\n",
    "        a.x(0)\n",
    "    elif g == \"Y\":\n",
    "        a.y(0)\n",
    "    elif g == \"Z\":\n",
    "        a.z(0)\n",
    "    elif g == \"H\":\n",
    "        a.h(0)\n",
    "    elif g == \"S\":\n",
    "        a.s(0)\n",
    "    elif g == \"I\":\n",
    "        a.id(0)\n",
    "    print(Clifford_Permute(a,\"Z\"))\n",
    "    print(est_Lambda(\"Y\",[a],1000))\n",
    "    print()"
   ]
  }
 ],
 "metadata": {
  "kernelspec": {
   "display_name": "Horizon_Quantum",
   "language": "python",
   "name": "python3"
  },
  "language_info": {
   "codemirror_mode": {
    "name": "ipython",
    "version": 3
   },
   "file_extension": ".py",
   "mimetype": "text/x-python",
   "name": "python",
   "nbconvert_exporter": "python",
   "pygments_lexer": "ipython3",
   "version": "3.11.5"
  }
 },
 "nbformat": 4,
 "nbformat_minor": 2
}
