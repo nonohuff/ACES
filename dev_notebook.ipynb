{
 "cells": [
  {
   "cell_type": "code",
   "execution_count": 88,
   "metadata": {},
   "outputs": [],
   "source": [
    "import numpy as np\n",
    "import matplotlib.pyplot as plt\n",
    "import qiskit as qk\n",
    "from qiskit import QuantumCircuit, Aer, transpile, assemble\n",
    "from qiskit.visualization import plot_histogram\n",
    "import random\n",
    "from collections import Counter\n",
    "\n",
    "from generator import generateCliffordCircuit\n",
    "# from execution.transpiler import transpileListToQiskitCircuit"
   ]
  },
  {
   "cell_type": "code",
   "execution_count": 3,
   "metadata": {},
   "outputs": [],
   "source": [
    "def stringToQiskitSingleGate(gateString, qiskitCir, whichQubit):\n",
    "    if gateString == 'I':\n",
    "        qiskitCir.id(whichQubit)\n",
    "    elif gateString == 'X':\n",
    "        qiskitCir.x(whichQubit)\n",
    "    elif gateString == 'Y':\n",
    "        qiskitCir.y(whichQubit)\n",
    "    elif gateString == 'Z':\n",
    "        qiskitCir.z(whichQubit)\n",
    "    elif gateString == 'H':\n",
    "        qiskitCir.h(whichQubit)\n",
    "    elif gateString == 'S':\n",
    "        qiskitCir.s(whichQubit)\n",
    "        \n",
    "def transpileListToQiskitCircuit(cir):\n",
    "    depth = len(cir)\n",
    "    width = len(cir[0])\n",
    "    qiskitCir = qk.QuantumCircuit(width)\n",
    "    for d in range(width):\n",
    "        if d % 2 == 0:\n",
    "            for w in range(width):\n",
    "                singleGate = cir[d][w]\n",
    "                stringToQiskitSingleGate(singleGate, qiskitCir, w)\n",
    "            if d != width - 1:\n",
    "                qiskitCir.barrier()\n",
    "        else:\n",
    "            c = cir[d].index('CNOT_C')\n",
    "            t = cir[d].index('CNOT_T')\n",
    "            qiskitCir.cx(c, t)\n",
    "            if d != width - 1:\n",
    "                qiskitCir.barrier()\n",
    "    return qiskitCir"
   ]
  },
  {
   "cell_type": "code",
   "execution_count": 4,
   "metadata": {},
   "outputs": [
    {
     "name": "stdout",
     "output_type": "stream",
     "text": [
      "[['Z', 'H', 'X', 'Z', 'I'], ['CNOT_C', 'I', 'CNOT_T', 'I', 'I'], ['H', 'X', 'S', 'X', 'H'], ['I', 'I', 'CNOT_C', 'CNOT_T', 'I'], ['H', 'H', 'I', 'H', 'Z']]\n",
      "     ┌───┐ ░       ░ ┌───┐ ░       ░ ┌───┐\n",
      "q_0: ┤ Z ├─░───■───░─┤ H ├─░───────░─┤ H ├\n",
      "     ├───┤ ░   │   ░ ├───┤ ░       ░ ├───┤\n",
      "q_1: ┤ H ├─░───┼───░─┤ X ├─░───────░─┤ H ├\n",
      "     ├───┤ ░ ┌─┴─┐ ░ ├───┤ ░       ░ ├───┤\n",
      "q_2: ┤ X ├─░─┤ X ├─░─┤ S ├─░───■───░─┤ I ├\n",
      "     ├───┤ ░ └───┘ ░ ├───┤ ░ ┌─┴─┐ ░ ├───┤\n",
      "q_3: ┤ Z ├─░───────░─┤ X ├─░─┤ X ├─░─┤ H ├\n",
      "     ├───┤ ░       ░ ├───┤ ░ └───┘ ░ ├───┤\n",
      "q_4: ┤ I ├─░───────░─┤ H ├─░───────░─┤ Z ├\n",
      "     └───┘ ░       ░ └───┘ ░       ░ └───┘\n"
     ]
    }
   ],
   "source": [
    "width = 5 # num_qubits\n",
    "depth = 5 # number of layers in the circuit (easy + hard)\n",
    "singleGateSet = ['X', 'H', 'Z', 'I', 'S']\n",
    "doubleGateSet = ['CNOT_C', 'CNOT_T']\n",
    "twirlingGateSet = ['X','Y' 'Z', 'I']\n",
    "\n",
    "circuit = generateCliffordCircuit(width, depth, singleGateSet, doubleGateSet)\n",
    "qiskitCircuit = transpileListToQiskitCircuit(circuit)\n",
    "print(circuit)\n",
    "if depth < 10:\n",
    "    print(qiskitCircuit)"
   ]
  },
  {
   "cell_type": "code",
   "execution_count": 5,
   "metadata": {},
   "outputs": [],
   "source": [
    "def Clifford_Permute(cliff,pauli):\n",
    "    '''This function permutes the pauli operators according to the clifford group, so it computes \n",
    "    P' = C P C^T, where C is a clifford operator and P is a pauli operator.\n",
    "    Inputs: cliff - A Qiskit Circuit, Clifford, or Gate object.\n",
    "            pauli - A Qiskit Pauli object.\n",
    "    Outputs: new_pauli - A Qiskit Pauli object.'''\n",
    "\n",
    "    return pauli.evolve(cliff,frame=\"s\")\n"
   ]
  },
  {
   "cell_type": "code",
   "execution_count": 6,
   "metadata": {},
   "outputs": [
    {
     "data": {
      "text/plain": [
       "Pauli('-ZZIXX')"
      ]
     },
     "execution_count": 6,
     "metadata": {},
     "output_type": "execute_result"
    }
   ],
   "source": [
    "Clifford_Permute(qiskitCircuit, qk.quantum_info.Pauli('X'*width))"
   ]
  },
  {
   "cell_type": "code",
   "execution_count": 7,
   "metadata": {},
   "outputs": [],
   "source": [
    "def split_circuit_by_barrier(circuit):\n",
    "    qasm = circuit.qasm()\n",
    "    prelude = []\n",
    "    circuits = [[]]\n",
    "    for line in qasm.splitlines():\n",
    "        if any([line.startswith(t) for t in ['OPENQASM', 'include', 'qreg', 'creg']]):\n",
    "            prelude.append(line)\n",
    "        elif line.startswith('barrier'):\n",
    "            circuits.append([])\n",
    "        else:\n",
    "            circuits[-1].append(line)\n",
    "    circuits_with_prelude = [prelude+circuit for circuit in circuits]\n",
    "    for circuit_with_prelude in circuits_with_prelude:\n",
    "        yield qk.QuantumCircuit.from_qasm_str('\\n'.join(circuit_with_prelude))\n",
    "\n",
    "# for subcircuit in (split_circuit_by_barrier(qiskitCircuit)):\n",
    "#     print(subcircuit)"
   ]
  },
  {
   "cell_type": "code",
   "execution_count": 8,
   "metadata": {},
   "outputs": [],
   "source": [
    "def G_twirling(circuit):\n",
    "    '''This function performs G-twirling on a circuit. It randomly chooses a Pauli from {X,Y,Z,I} and prepends it before a layer, then appends P'=CPC^T after the layer.}\n",
    "    Inputs: circuit - A Qiskit Circuit object.\n",
    "    Outputs: new_circuit - A Qiskit Circuit object.'''\n",
    "    num_qubits = circuit.num_qubits\n",
    "    new_circuit = qk.QuantumCircuit(num_qubits)\n",
    "    for index, subcircuit in enumerate(split_circuit_by_barrier(circuit)):\n",
    "        # if len(subcircuit.data) == 1:\n",
    "        #     operated_qubits = [subcircuit.find_bit(q).index for q in subcircuit.data[0].qubits]\n",
    "        # else:\n",
    "        #     operated_qubits = list(range(num_qubits))\n",
    "        pauli_str = ''.join(random.choice([\"X\",\"Y\",\"Z\",\"I\"]) for _ in range(num_qubits))\n",
    "        pauli = qk.quantum_info.Pauli(pauli_str)\n",
    "        new_circuit = new_circuit.compose(pauli,qubits=range(num_qubits))\n",
    "        new_circuit = new_circuit.compose(subcircuit,qubits=range(num_qubits))\n",
    "        new_circuit = new_circuit.compose(Clifford_Permute(subcircuit,pauli).to_instruction(),qubits = range(num_qubits))\n",
    "        if index != len(list(split_circuit_by_barrier(circuit)))-1:\n",
    "            new_circuit.barrier()\n",
    "    return new_circuit\n"
   ]
  },
  {
   "cell_type": "code",
   "execution_count": 9,
   "metadata": {},
   "outputs": [
    {
     "data": {
      "text/html": [
       "<pre style=\"word-wrap: normal;white-space: pre;background: #fff0;line-height: 1.1;font-family: &quot;Courier New&quot;,Courier,monospace\">     ┌───────────────┐┌───┐┌─────────┐ ░ ┌───────────────┐     »\n",
       "q_0: ┤0              ├┤ Z ├┤0        ├─░─┤0              ├──■──»\n",
       "     │               │├───┤│         │ ░ │               │  │  »\n",
       "q_1: ┤1              ├┤ H ├┤1        ├─░─┤1              ├──┼──»\n",
       "     │               │├───┤│         │ ░ │               │┌─┴─┐»\n",
       "q_2: ┤2 Pauli(XYZYZ) ├┤ X ├┤2 -XYZYZ ├─░─┤2 Pauli(XZXZY) ├┤ X ├»\n",
       "     │               │├───┤│         │ ░ │               │└───┘»\n",
       "q_3: ┤3              ├┤ Z ├┤3        ├─░─┤3              ├─────»\n",
       "     │               │├───┤│         │ ░ │               │     »\n",
       "q_4: ┤4              ├┤ I ├┤4        ├─░─┤4              ├─────»\n",
       "     └───────────────┘└───┘└─────────┘ ░ └───────────────┘     »\n",
       "«     ┌───────────────┐ ░ ┌───────────────┐┌───┐┌───────────────┐ ░ »\n",
       "«q_0: ┤0              ├─░─┤0              ├┤ H ├┤0              ├─░─»\n",
       "«     │               │ ░ │               │├───┤│               │ ░ »\n",
       "«q_1: ┤1              ├─░─┤1              ├┤ X ├┤1              ├─░─»\n",
       "«     │               │ ░ │               │├───┤│               │ ░ »\n",
       "«q_2: ┤2 Pauli(XZIZY) ├─░─┤2 Pauli(IZIYZ) ├┤ S ├┤2 Pauli(IZIYX) ├─░─»\n",
       "«     │               │ ░ │               │├───┤│               │ ░ »\n",
       "«q_3: ┤3              ├─░─┤3              ├┤ X ├┤3              ├─░─»\n",
       "«     │               │ ░ │               │├───┤│               │ ░ »\n",
       "«q_4: ┤4              ├─░─┤4              ├┤ H ├┤4              ├─░─»\n",
       "«     └───────────────┘ ░ └───────────────┘└───┘└───────────────┘ ░ »\n",
       "«     ┌───────────────┐     ┌───────────────┐ ░ ┌───────────────┐┌───┐»\n",
       "«q_0: ┤0              ├─────┤0              ├─░─┤0              ├┤ H ├»\n",
       "«     │               │     │               │ ░ │               │├───┤»\n",
       "«q_1: ┤1              ├─────┤1              ├─░─┤1              ├┤ H ├»\n",
       "«     │               │     │               │ ░ │               │├───┤»\n",
       "«q_2: ┤2 Pauli(ZIXXZ) ├──■──┤2 Pauli(ZXXXZ) ├─░─┤2 Pauli(YZXZX) ├┤ I ├»\n",
       "«     │               │┌─┴─┐│               │ ░ │               │├───┤»\n",
       "«q_3: ┤3              ├┤ X ├┤3              ├─░─┤3              ├┤ H ├»\n",
       "«     │               │└───┘│               │ ░ │               │├───┤»\n",
       "«q_4: ┤4              ├─────┤4              ├─░─┤4              ├┤ Z ├»\n",
       "«     └───────────────┘     └───────────────┘ ░ └───────────────┘└───┘»\n",
       "«     ┌─────────┐\n",
       "«q_0: ┤0        ├\n",
       "«     │         │\n",
       "«q_1: ┤1        ├\n",
       "«     │         │\n",
       "«q_2: ┤2 -YXXXZ ├\n",
       "«     │         │\n",
       "«q_3: ┤3        ├\n",
       "«     │         │\n",
       "«q_4: ┤4        ├\n",
       "«     └─────────┘</pre>"
      ],
      "text/plain": [
       "     ┌───────────────┐┌───┐┌─────────┐ ░ ┌───────────────┐     »\n",
       "q_0: ┤0              ├┤ Z ├┤0        ├─░─┤0              ├──■──»\n",
       "     │               │├───┤│         │ ░ │               │  │  »\n",
       "q_1: ┤1              ├┤ H ├┤1        ├─░─┤1              ├──┼──»\n",
       "     │               │├───┤│         │ ░ │               │┌─┴─┐»\n",
       "q_2: ┤2 Pauli(XYZYZ) ├┤ X ├┤2 -XYZYZ ├─░─┤2 Pauli(XZXZY) ├┤ X ├»\n",
       "     │               │├───┤│         │ ░ │               │└───┘»\n",
       "q_3: ┤3              ├┤ Z ├┤3        ├─░─┤3              ├─────»\n",
       "     │               │├───┤│         │ ░ │               │     »\n",
       "q_4: ┤4              ├┤ I ├┤4        ├─░─┤4              ├─────»\n",
       "     └───────────────┘└───┘└─────────┘ ░ └───────────────┘     »\n",
       "«     ┌───────────────┐ ░ ┌───────────────┐┌───┐┌───────────────┐ ░ »\n",
       "«q_0: ┤0              ├─░─┤0              ├┤ H ├┤0              ├─░─»\n",
       "«     │               │ ░ │               │├───┤│               │ ░ »\n",
       "«q_1: ┤1              ├─░─┤1              ├┤ X ├┤1              ├─░─»\n",
       "«     │               │ ░ │               │├───┤│               │ ░ »\n",
       "«q_2: ┤2 Pauli(XZIZY) ├─░─┤2 Pauli(IZIYZ) ├┤ S ├┤2 Pauli(IZIYX) ├─░─»\n",
       "«     │               │ ░ │               │├───┤│               │ ░ »\n",
       "«q_3: ┤3              ├─░─┤3              ├┤ X ├┤3              ├─░─»\n",
       "«     │               │ ░ │               │├───┤│               │ ░ »\n",
       "«q_4: ┤4              ├─░─┤4              ├┤ H ├┤4              ├─░─»\n",
       "«     └───────────────┘ ░ └───────────────┘└───┘└───────────────┘ ░ »\n",
       "«     ┌───────────────┐     ┌───────────────┐ ░ ┌───────────────┐┌───┐»\n",
       "«q_0: ┤0              ├─────┤0              ├─░─┤0              ├┤ H ├»\n",
       "«     │               │     │               │ ░ │               │├───┤»\n",
       "«q_1: ┤1              ├─────┤1              ├─░─┤1              ├┤ H ├»\n",
       "«     │               │     │               │ ░ │               │├───┤»\n",
       "«q_2: ┤2 Pauli(ZIXXZ) ├──■──┤2 Pauli(ZXXXZ) ├─░─┤2 Pauli(YZXZX) ├┤ I ├»\n",
       "«     │               │┌─┴─┐│               │ ░ │               │├───┤»\n",
       "«q_3: ┤3              ├┤ X ├┤3              ├─░─┤3              ├┤ H ├»\n",
       "«     │               │└───┘│               │ ░ │               │├───┤»\n",
       "«q_4: ┤4              ├─────┤4              ├─░─┤4              ├┤ Z ├»\n",
       "«     └───────────────┘     └───────────────┘ ░ └───────────────┘└───┘»\n",
       "«     ┌─────────┐\n",
       "«q_0: ┤0        ├\n",
       "«     │         │\n",
       "«q_1: ┤1        ├\n",
       "«     │         │\n",
       "«q_2: ┤2 -YXXXZ ├\n",
       "«     │         │\n",
       "«q_3: ┤3        ├\n",
       "«     │         │\n",
       "«q_4: ┤4        ├\n",
       "«     └─────────┘"
      ]
     },
     "execution_count": 9,
     "metadata": {},
     "output_type": "execute_result"
    }
   ],
   "source": [
    "G_twirling(qiskitCircuit).draw()"
   ]
  },
  {
   "cell_type": "code",
   "execution_count": 10,
   "metadata": {},
   "outputs": [],
   "source": [
    "circuit_ensemble = [G_twirling(qiskitCircuit) for _ in range(10)]\n",
    "# for circ in circuit_ensemble:\n",
    "#     print(circ)"
   ]
  },
  {
   "cell_type": "code",
   "execution_count": 11,
   "metadata": {},
   "outputs": [],
   "source": [
    "def random_choices_with_counts(items, n):\n",
    "    \"\"\"\n",
    "    Randomly choose with replacement n items from a list and return a dictionary\n",
    "    with the counts of each chosen item.\n",
    "    \n",
    "    Parameters:\n",
    "        items (list): List of items to choose from.\n",
    "        n (int): Number of items to choose.\n",
    "    \n",
    "    Returns:\n",
    "        dict: Dictionary with the counts of each chosen item.\n",
    "    \"\"\"\n",
    "    chosen_items = random.choices(items, k=n)\n",
    "    counts = Counter(chosen_items)\n",
    "    return dict(counts)"
   ]
  },
  {
   "cell_type": "code",
   "execution_count": 12,
   "metadata": {},
   "outputs": [],
   "source": [
    "def find_circuit_from_name(circuit_list,target_name):\n",
    "    # Find the circuit with the given name\n",
    "    found_circuit = None\n",
    "    for circuit in circuit_list:\n",
    "        if circuit.name == target_name:\n",
    "            found_circuit = circuit\n",
    "            break\n",
    "\n",
    "    # Check if the circuit was found\n",
    "    if found_circuit is not None:\n",
    "        # print(f\"Circuit with name '{target_name}' found:\")\n",
    "        # print(found_circuit)\n",
    "        return found_circuit\n",
    "    else:\n",
    "        print(f\"No circuit with name '{target_name}' found.\")\n",
    "        return found_circuit"
   ]
  },
  {
   "cell_type": "code",
   "execution_count": 13,
   "metadata": {},
   "outputs": [
    {
     "name": "stdout",
     "output_type": "stream",
     "text": [
      "                   \n",
      "q_0: ──────────────\n",
      "     ┌────────────┐\n",
      "q_1: ┤0           ├\n",
      "     │            │\n",
      "q_2: ┤  Pauli(XX) ├\n",
      "     │            │\n",
      "q_3: ┤1           ├\n",
      "     └────────────┘\n",
      "q_4: ──────────────\n",
      "                   \n"
     ]
    }
   ],
   "source": [
    "me = qk.QuantumCircuit(5)\n",
    "me.pauli(pauli_string = \"XX\",qubits = [1,3])\n",
    "print(me)"
   ]
  },
  {
   "cell_type": "code",
   "execution_count": 14,
   "metadata": {},
   "outputs": [
    {
     "data": {
      "text/plain": [
       "<qiskit.circuit.quantumcircuit.QuantumCircuit at 0x7f0b4512dad0>"
      ]
     },
     "execution_count": 14,
     "metadata": {},
     "output_type": "execute_result"
    }
   ],
   "source": [
    "num_experiments = 1000\n",
    "freq_dict = random_choices_with_counts([circ.name for circ in circuit_ensemble],num_experiments)\n",
    "find_circuit_from_name(circuit_ensemble,list(freq_dict.keys())[0])"
   ]
  },
  {
   "cell_type": "code",
   "execution_count": 71,
   "metadata": {},
   "outputs": [],
   "source": [
    "def prep_circuit(input_pauli):\n",
    "    '''This function prepares the input state for eigenvalue sampling. It takes in a Pauli operator to be input into the circuit and outputs a circuit that prepares the state |psi+> or |psi-> from the input |0>^n, \n",
    "    where |psi+> and |psi-> are the eigenstates of the input Pauli operator.\n",
    "    Inputs: input_pauli - A Qiskit Pauli object or a string representing a Pauli operator.\n",
    "    Outputs: prep_circ - A Qiskit Circuit object which will prepare the state |psi+> or |psi-> from |0>^n, where |psi+> and |psi-> are the eigenstates of the input Pauli operator.\n",
    "    '''\n",
    "    # mapping for preparation circuit. The idea of the prep circuit is that we append it before the circuit to eigenvalue samp\n",
    "    # i.e. input the state where all qubits are zero 1000...0> into the prep circuit and then input it's ouput into the circu\n",
    "    # |0> -> ...\n",
    "    # H -> |+>\n",
    "    # XH -> |->\n",
    "    # HS -> |+i>\n",
    "    # XHS -> |-i>\n",
    "    # I -> |0> (no change)\n",
    "    # X -> |1>\n",
    "    if type(input_pauli) == str:\n",
    "        input_pauli_string = ''.join(char for char in input_pauli if char.isalpha()) # removes the phase from the Pauli string if present\n",
    "    elif type(input_pauli) == qk.quantum_info.Pauli:\n",
    "        input_pauli_string = ''.join(char for char in input_pauli.to_label() if char.isalpha()) # converts the Pauli to a string w/o phase\n",
    "\n",
    "    nontriv_indices = [index for index, char in enumerate(input_pauli_string) if char != 'I'] # finds the indices of the nontrivial Pauli gates\n",
    "\n",
    "    prep_circ = qk.QuantumCircuit(len(input_pauli_string))\n",
    "    p_eigenstate = [random.choice(range(2)) for i in nontriv_indices] # randomly chooses |psi+> (0) or |psi-> (1)\n",
    "    \n",
    "    for index, qubit in enumerate(nontriv_indices):\n",
    "        pauli_gate =  input_pauli_string[qubit]\n",
    "        if pauli_gate == \"X\": # if the input Pauli is X\n",
    "            if p_eigenstate[index] == 0: # if the randomly chosen eigenvector is |+>\n",
    "                prep_circ.h(qubit)\n",
    "            elif p_eigenstate[index] == 1: # if the randomly chosen eigenvector is |->\n",
    "                prep_circ.x(qubit)\n",
    "                prep_circ.h(qubit)\n",
    "        elif pauli_gate == \"Y\": # if the input Pauli is Y\n",
    "            if p_eigenstate[index] == 0: # if the randomly chosen eigenvector is l+i>\n",
    "                prep_circ.h(qubit)\n",
    "                prep_circ.s(qubit)\n",
    "            elif p_eigenstate[index] == 1: # if the randomly chosen eigenvector is |-i>\n",
    "                prep_circ.x(qubit)\n",
    "                prep_circ.h(qubit)\n",
    "                prep_circ.s(qubit)\n",
    "        elif pauli_gate == \"Z\": # if the input Pauli is Z\n",
    "            # we don't need to append anything if the chosen eigenstate is 10>, since the input will already be in that state\n",
    "            if p_eigenstate[index] == 1: # if the randomly chosen eigenvector is\n",
    "                prep_circ.x(qubit)\n",
    "\n",
    "    return prep_circ"
   ]
  },
  {
   "cell_type": "code",
   "execution_count": 77,
   "metadata": {},
   "outputs": [],
   "source": [
    "def measure_circuit(final_pauli):\n",
    "    if type(final_pauli) == str:\n",
    "        final_pauli_string = ''.join(char for char in final_pauli if char.isalpha()) # removes the phase from the Pauli string if present\n",
    "    elif type(final_pauli) == qk.quantum_info.Pauli:\n",
    "        final_pauli_string = ''.join(char for char in final_pauli.to_label() if char.isalpha()) # converts the Pauli to a string w/o phase\n",
    "\n",
    "    measurement_circ = qk.QuantumCircuit(len(final_pauli_string),len(final_pauli_string))\n",
    "\n",
    "    # On the measurement circ, we need to dagger the transforms used to prepare the prep circ to measure in the bases given by P'\n",
    "    for index, g in enumerate(final_pauli_string):\n",
    "        if g == \"X\":\n",
    "            measurement_circ.h(index) # rotate into X basis\n",
    "            measurement_circ.measure(index,index) # then measure\n",
    "        elif g == \"Y\":\n",
    "            measurement_circ.s(index).inverse()\n",
    "            measurement_circ.h(index)# S**-1 H rotates into Y basis\n",
    "            measurement_circ.measure(index,index)# then measure\n",
    "        elif g == \"Z\":\n",
    "            measurement_circ.measure(index,index)# measure\n",
    "\n",
    "    return measurement_circ"
   ]
  },
  {
   "cell_type": "code",
   "execution_count": 18,
   "metadata": {},
   "outputs": [
    {
     "data": {
      "text/html": [
       "<pre style=\"word-wrap: normal;white-space: pre;background: #fff0;line-height: 1.1;font-family: &quot;Courier New&quot;,Courier,monospace\">     ┌───┐     ┌─┐      \n",
       "q_0: ┤ H ├─────┤M├──────\n",
       "     ├───┤┌───┐└╥┘   ┌─┐\n",
       "q_1: ┤ S ├┤ H ├─╫────┤M├\n",
       "     └───┘└───┘ ║    └╥┘\n",
       "q_2: ───────────╫─────╫─\n",
       "      ┌─┐       ║     ║ \n",
       "q_3: ─┤M├───────╫─────╫─\n",
       "      └╥┘ ┌───┐ ║ ┌─┐ ║ \n",
       "q_4: ──╫──┤ H ├─╫─┤M├─╫─\n",
       "       ║  └───┘ ║ └╥┘ ║ \n",
       "c: 5/══╩════════╩══╩══╩═\n",
       "       3        0  4  1 </pre>"
      ],
      "text/plain": [
       "     ┌───┐     ┌─┐      \n",
       "q_0: ┤ H ├─────┤M├──────\n",
       "     ├───┤┌───┐└╥┘   ┌─┐\n",
       "q_1: ┤ S ├┤ H ├─╫────┤M├\n",
       "     └───┘└───┘ ║    └╥┘\n",
       "q_2: ───────────╫─────╫─\n",
       "      ┌─┐       ║     ║ \n",
       "q_3: ─┤M├───────╫─────╫─\n",
       "      └╥┘ ┌───┐ ║ ┌─┐ ║ \n",
       "q_4: ──╫──┤ H ├─╫─┤M├─╫─\n",
       "       ║  └───┘ ║ └╥┘ ║ \n",
       "c: 5/══╩════════╩══╩══╩═\n",
       "       3        0  4  1 "
      ]
     },
     "execution_count": 18,
     "metadata": {},
     "output_type": "execute_result"
    }
   ],
   "source": [
    "a = measure_circ(\"XYIZX\")\n",
    "a.draw()"
   ]
  },
  {
   "cell_type": "code",
   "execution_count": 104,
   "metadata": {},
   "outputs": [],
   "source": [
    "def est_Lambda(input_pauli,circuit_ensemble,num_experiments):\n",
    "\n",
    "    if type(input_pauli) == str:\n",
    "        input_pauli_string = ''.join(char for char in input_pauli if char.isalpha()) # removes the phase from the Pauli string if present\n",
    "    elif type(input_pauli) == qk.quantum_info.Pauli:\n",
    "        input_pauli_string = ''.join(char for char in input_pauli.to_label() if char.isalpha()) # converts the Pauli to a string w/o phase\n",
    "\n",
    "    freq_dict = random_choices_with_counts([circ.name for circ in circuit_ensemble],num_experiments)\n",
    "    for circ_name in freq_dict:\n",
    "        circ = find_circuit_from_name(circuit_ensemble,circ_name)\n",
    "        num_shots = freq_dict[circ_name]\n",
    "\n",
    "        prep_circ = prep_circuit(input_pauli_string)\n",
    "\n",
    "        measure_circ = measure_circuit(Clifford_Permute(circ,qk.quantum_info.Pauli(input_pauli_string)))\n",
    "\n",
    "        full_circuit = prep_circ.compose(circ).compose(measure_circ)\n",
    "    \n",
    "        # Simulate the circuit with the stabilizer simulator\n",
    "        simulator = Aer.get_backend('aer_simulator', method='stabilizer')\n",
    "        result = qk.execute(full_circuit, backend = simulator, shots = 200).result()\n",
    "        counts = result.get_counts()\n",
    "\n",
    "        \n",
    "\n",
    "    return counts\n"
   ]
  },
  {
   "cell_type": "code",
   "execution_count": 105,
   "metadata": {},
   "outputs": [
    {
     "data": {
      "text/plain": [
       "{'00000': 22,\n",
       " '11001': 31,\n",
       " '11101': 18,\n",
       " '10100': 21,\n",
       " '00100': 34,\n",
       " '10000': 24,\n",
       " '01001': 25,\n",
       " '01101': 25}"
      ]
     },
     "execution_count": 105,
     "metadata": {},
     "output_type": "execute_result"
    }
   ],
   "source": [
    "est_Lambda(\"XIZYX\",circuit_ensemble,1000)"
   ]
  }
 ],
 "metadata": {
  "kernelspec": {
   "display_name": "Horizon_Quantum",
   "language": "python",
   "name": "python3"
  },
  "language_info": {
   "codemirror_mode": {
    "name": "ipython",
    "version": 3
   },
   "file_extension": ".py",
   "mimetype": "text/x-python",
   "name": "python",
   "nbconvert_exporter": "python",
   "pygments_lexer": "ipython3",
   "version": "3.11.5"
  }
 },
 "nbformat": 4,
 "nbformat_minor": 2
}
