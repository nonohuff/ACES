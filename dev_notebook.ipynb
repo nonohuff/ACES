{
 "cells": [
  {
   "cell_type": "code",
   "execution_count": 3,
   "metadata": {},
   "outputs": [],
   "source": [
    "import numpy as np\n",
    "import matplotlib.pyplot as plt\n",
    "import qiskit as qk\n",
    "import random\n",
    "\n",
    "from generator import generateCliffordCircuit\n",
    "# from execution.transpiler import transpileListToQiskitCircuit"
   ]
  },
  {
   "cell_type": "code",
   "execution_count": 4,
   "metadata": {},
   "outputs": [],
   "source": [
    "def stringToQiskitSingleGate(gateString, qiskitCir, whichQubit):\n",
    "    if gateString == 'I':\n",
    "        qiskitCir.id(whichQubit)\n",
    "    elif gateString == 'X':\n",
    "        qiskitCir.x(whichQubit)\n",
    "    elif gateString == 'Y':\n",
    "        qiskitCir.y(whichQubit)\n",
    "    elif gateString == 'Z':\n",
    "        qiskitCir.z(whichQubit)\n",
    "    elif gateString == 'H':\n",
    "        qiskitCir.h(whichQubit)\n",
    "    elif gateString == 'S':\n",
    "        qiskitCir.s(whichQubit)\n",
    "        \n",
    "def transpileListToQiskitCircuit(cir):\n",
    "    depth = len(cir)\n",
    "    width = len(cir[0])\n",
    "    qiskitCir = qk.QuantumCircuit(width)\n",
    "    for d in range(width):\n",
    "        if d % 2 == 0:\n",
    "            for w in range(width):\n",
    "                singleGate = cir[d][w]\n",
    "                stringToQiskitSingleGate(singleGate, qiskitCir, w)\n",
    "            if d != width - 1:\n",
    "                qiskitCir.barrier()\n",
    "        else:\n",
    "            c = cir[d].index('CNOT_C')\n",
    "            t = cir[d].index('CNOT_T')\n",
    "            qiskitCir.cx(c, t)\n",
    "            if d != width - 1:\n",
    "                qiskitCir.barrier()\n",
    "    return qiskitCir"
   ]
  },
  {
   "cell_type": "code",
   "execution_count": 95,
   "metadata": {},
   "outputs": [
    {
     "name": "stdout",
     "output_type": "stream",
     "text": [
      "[['S', 'I', 'I', 'S', 'X'], ['I', 'CNOT_C', 'I', 'CNOT_T', 'I'], ['H', 'H', 'H', 'H', 'Z'], ['CNOT_C', 'I', 'I', 'CNOT_T', 'I'], ['Z', 'I', 'H', 'S', 'I']]\n",
      "     ┌───┐ ░       ░ ┌───┐ ░       ░ ┌───┐\n",
      "q_0: ┤ S ├─░───────░─┤ H ├─░───■───░─┤ Z ├\n",
      "     ├───┤ ░       ░ ├───┤ ░   │   ░ ├───┤\n",
      "q_1: ┤ I ├─░───■───░─┤ H ├─░───┼───░─┤ I ├\n",
      "     ├───┤ ░   │   ░ ├───┤ ░   │   ░ ├───┤\n",
      "q_2: ┤ I ├─░───┼───░─┤ H ├─░───┼───░─┤ H ├\n",
      "     ├───┤ ░ ┌─┴─┐ ░ ├───┤ ░ ┌─┴─┐ ░ ├───┤\n",
      "q_3: ┤ S ├─░─┤ X ├─░─┤ H ├─░─┤ X ├─░─┤ S ├\n",
      "     ├───┤ ░ └───┘ ░ ├───┤ ░ └───┘ ░ ├───┤\n",
      "q_4: ┤ X ├─░───────░─┤ Z ├─░───────░─┤ I ├\n",
      "     └───┘ ░       ░ └───┘ ░       ░ └───┘\n"
     ]
    }
   ],
   "source": [
    "width = 5 # num_qubits\n",
    "depth = 5 # number of layers in the circuit (easy + hard)\n",
    "singleGateSet = ['X', 'H', 'Z', 'I', 'S']\n",
    "doubleGateSet = ['CNOT_C', 'CNOT_T']\n",
    "twirlingGateSet = ['X','Y' 'Z', 'I']\n",
    "\n",
    "circuit = generateCliffordCircuit(width, depth, singleGateSet, doubleGateSet)\n",
    "qiskitCircuit = transpileListToQiskitCircuit(circuit)\n",
    "print(circuit)\n",
    "if depth < 10:\n",
    "    print(qiskitCircuit)"
   ]
  },
  {
   "cell_type": "code",
   "execution_count": 96,
   "metadata": {},
   "outputs": [],
   "source": [
    "def Clifford_Permute(cliff,pauli):\n",
    "    '''This function permutes the pauli operators according to the clifford group, so it computes \n",
    "    P' = C P C^T, where C is a clifford operator and P is a pauli operator.\n",
    "    Inputs: cliff - A Qiskit Circuit, Clifford, or Gate object.\n",
    "            pauli - A Qiskit Pauli object.\n",
    "    Outputs: new_pauli - A Qiskit Pauli object.'''\n",
    "\n",
    "    return pauli.evolve(cliff,frame=\"s\")\n"
   ]
  },
  {
   "cell_type": "code",
   "execution_count": 97,
   "metadata": {},
   "outputs": [
    {
     "data": {
      "text/plain": [
       "Pauli('XIXYY')"
      ]
     },
     "execution_count": 97,
     "metadata": {},
     "output_type": "execute_result"
    }
   ],
   "source": [
    "Clifford_Permute(qiskitCircuit, qk.quantum_info.Pauli('X'*width))"
   ]
  },
  {
   "cell_type": "code",
   "execution_count": 9,
   "metadata": {},
   "outputs": [],
   "source": [
    "def split_circuit_by_barrier(circuit):\n",
    "    qasm = circuit.qasm()\n",
    "    prelude = []\n",
    "    circuits = [[]]\n",
    "    for line in qasm.splitlines():\n",
    "        if any([line.startswith(t) for t in ['OPENQASM', 'include', 'qreg', 'creg']]):\n",
    "            prelude.append(line)\n",
    "        elif line.startswith('barrier'):\n",
    "            circuits.append([])\n",
    "        else:\n",
    "            circuits[-1].append(line)\n",
    "    circuits_with_prelude = [prelude+circuit for circuit in circuits]\n",
    "    for circuit_with_prelude in circuits_with_prelude:\n",
    "        yield qk.QuantumCircuit.from_qasm_str('\\n'.join(circuit_with_prelude))\n",
    "\n",
    "# for subcircuit in (split_circuit_by_barrier(qiskitCircuit)):\n",
    "#     print(subcircuit)"
   ]
  },
  {
   "cell_type": "code",
   "execution_count": 76,
   "metadata": {},
   "outputs": [],
   "source": [
    "def G_twirling(circuit):\n",
    "    '''This function performs G-twirling on a circuit. It randomly chooses a Pauli from {X,Y,Z,I} and prepends it before a layer, then appends P'=CPC^T after the layer.}\n",
    "    Inputs: circuit - A Qiskit Circuit object.\n",
    "    Outputs: new_circuit - A Qiskit Circuit object.'''\n",
    "    num_qubits = circuit.num_qubits\n",
    "    new_circuit = qk.QuantumCircuit(num_qubits)\n",
    "    for index, subcircuit in enumerate(split_circuit_by_barrier(circuit)):\n",
    "        # if len(subcircuit.data) == 1:\n",
    "        #     operated_qubits = [subcircuit.find_bit(q).index for q in subcircuit.data[0].qubits]\n",
    "        # else:\n",
    "        #     operated_qubits = list(range(num_qubits))\n",
    "        pauli = qk.quantum_info.Pauli(''.join(random.choice([\"X\",\"Y\",\"Z\",\"I\"]) for _ in range(num_qubits)))\n",
    "        new_circuit = new_circuit.compose(pauli.to_instruction(),qubits=range(num_qubits))\n",
    "        new_circuit = new_circuit.compose(subcircuit,qubits=range(num_qubits))\n",
    "        new_circuit = new_circuit.compose(Clifford_Permute(subcircuit,pauli).to_instruction(),qubits = range(num_qubits))\n",
    "        if index != len(list(split_circuit_by_barrier(circuit)))-1:\n",
    "            new_circuit.barrier()\n",
    "    return new_circuit\n"
   ]
  },
  {
   "cell_type": "code",
   "execution_count": 86,
   "metadata": {},
   "outputs": [
    {
     "data": {
      "text/html": [
       "<pre style=\"word-wrap: normal;white-space: pre;background: #fff0;line-height: 1.1;font-family: &quot;Courier New&quot;,Courier,monospace\">     ┌───────────────┐┌───┐┌─────────┐ ░ ┌───────────────┐     »\n",
       "q_0: ┤0              ├┤ H ├┤0        ├─░─┤0              ├─────»\n",
       "     │               │├───┤│         │ ░ │               │     »\n",
       "q_1: ┤1              ├┤ X ├┤1        ├─░─┤1              ├─────»\n",
       "     │               │├───┤│         │ ░ │               │     »\n",
       "q_2: ┤2 Pauli(YZZYY) ├┤ Z ├┤2 -YZZYY ├─░─┤2 Pauli(XYYXY) ├──■──»\n",
       "     │               │├───┤│         │ ░ │               │  │  »\n",
       "q_3: ┤3              ├┤ I ├┤3        ├─░─┤3              ├──┼──»\n",
       "     │               │├───┤│         │ ░ │               │┌─┴─┐»\n",
       "q_4: ┤4              ├┤ Z ├┤4        ├─░─┤4              ├┤ X ├»\n",
       "     └───────────────┘└───┘└─────────┘ ░ └───────────────┘└───┘»\n",
       "«     ┌───────────────┐ ░ ┌───────────────┐┌───┐┌─────────┐ ░ ┌───────────────┐»\n",
       "«q_0: ┤0              ├─░─┤0              ├┤ I ├┤0        ├─░─┤0              ├»\n",
       "«     │               │ ░ │               │├───┤│         │ ░ │               │»\n",
       "«q_1: ┤1              ├─░─┤1              ├┤ X ├┤1        ├─░─┤1              ├»\n",
       "«     │               │ ░ │               │├───┤│         │ ░ │               │»\n",
       "«q_2: ┤2 Pauli(IYYXY) ├─░─┤2 Pauli(XZZYZ) ├┤ I ├┤2 -YXZYZ ├─░─┤2 Pauli(IYZZY) ├»\n",
       "«     │               │ ░ │               │├───┤│         │ ░ │               │»\n",
       "«q_3: ┤3              ├─░─┤3              ├┤ H ├┤3        ├─░─┤3              ├»\n",
       "«     │               │ ░ │               │├───┤│         │ ░ │               │»\n",
       "«q_4: ┤4              ├─░─┤4              ├┤ S ├┤4        ├─░─┤4              ├»\n",
       "«     └───────────────┘ ░ └───────────────┘└───┘└─────────┘ ░ └───────────────┘»\n",
       "«          ┌───────────────┐ ░ ┌───────────────┐┌───┐┌─────────┐\n",
       "«q_0: ─────┤0              ├─░─┤0              ├┤ X ├┤0        ├\n",
       "«          │               │ ░ │               │├───┤│         │\n",
       "«q_1: ─────┤1              ├─░─┤1              ├┤ H ├┤1        ├\n",
       "«     ┌───┐│               │ ░ │               │├───┤│         │\n",
       "«q_2: ┤ X ├┤2 Pauli(IXYZY) ├─░─┤2 Pauli(XZXZY) ├┤ X ├┤2 -XZXXY ├\n",
       "«     └─┬─┘│               │ ░ │               │├───┤│         │\n",
       "«q_3: ──■──┤3              ├─░─┤3              ├┤ I ├┤3        ├\n",
       "«          │               │ ░ │               │├───┤│         │\n",
       "«q_4: ─────┤4              ├─░─┤4              ├┤ X ├┤4        ├\n",
       "«          └───────────────┘ ░ └───────────────┘└───┘└─────────┘</pre>"
      ],
      "text/plain": [
       "     ┌───────────────┐┌───┐┌─────────┐ ░ ┌───────────────┐     »\n",
       "q_0: ┤0              ├┤ H ├┤0        ├─░─┤0              ├─────»\n",
       "     │               │├───┤│         │ ░ │               │     »\n",
       "q_1: ┤1              ├┤ X ├┤1        ├─░─┤1              ├─────»\n",
       "     │               │├───┤│         │ ░ │               │     »\n",
       "q_2: ┤2 Pauli(YZZYY) ├┤ Z ├┤2 -YZZYY ├─░─┤2 Pauli(XYYXY) ├──■──»\n",
       "     │               │├───┤│         │ ░ │               │  │  »\n",
       "q_3: ┤3              ├┤ I ├┤3        ├─░─┤3              ├──┼──»\n",
       "     │               │├───┤│         │ ░ │               │┌─┴─┐»\n",
       "q_4: ┤4              ├┤ Z ├┤4        ├─░─┤4              ├┤ X ├»\n",
       "     └───────────────┘└───┘└─────────┘ ░ └───────────────┘└───┘»\n",
       "«     ┌───────────────┐ ░ ┌───────────────┐┌───┐┌─────────┐ ░ ┌───────────────┐»\n",
       "«q_0: ┤0              ├─░─┤0              ├┤ I ├┤0        ├─░─┤0              ├»\n",
       "«     │               │ ░ │               │├───┤│         │ ░ │               │»\n",
       "«q_1: ┤1              ├─░─┤1              ├┤ X ├┤1        ├─░─┤1              ├»\n",
       "«     │               │ ░ │               │├───┤│         │ ░ │               │»\n",
       "«q_2: ┤2 Pauli(IYYXY) ├─░─┤2 Pauli(XZZYZ) ├┤ I ├┤2 -YXZYZ ├─░─┤2 Pauli(IYZZY) ├»\n",
       "«     │               │ ░ │               │├───┤│         │ ░ │               │»\n",
       "«q_3: ┤3              ├─░─┤3              ├┤ H ├┤3        ├─░─┤3              ├»\n",
       "«     │               │ ░ │               │├───┤│         │ ░ │               │»\n",
       "«q_4: ┤4              ├─░─┤4              ├┤ S ├┤4        ├─░─┤4              ├»\n",
       "«     └───────────────┘ ░ └───────────────┘└───┘└─────────┘ ░ └───────────────┘»\n",
       "«          ┌───────────────┐ ░ ┌───────────────┐┌───┐┌─────────┐\n",
       "«q_0: ─────┤0              ├─░─┤0              ├┤ X ├┤0        ├\n",
       "«          │               │ ░ │               │├───┤│         │\n",
       "«q_1: ─────┤1              ├─░─┤1              ├┤ H ├┤1        ├\n",
       "«     ┌───┐│               │ ░ │               │├───┤│         │\n",
       "«q_2: ┤ X ├┤2 Pauli(IXYZY) ├─░─┤2 Pauli(XZXZY) ├┤ X ├┤2 -XZXXY ├\n",
       "«     └─┬─┘│               │ ░ │               │├───┤│         │\n",
       "«q_3: ──■──┤3              ├─░─┤3              ├┤ I ├┤3        ├\n",
       "«          │               │ ░ │               │├───┤│         │\n",
       "«q_4: ─────┤4              ├─░─┤4              ├┤ X ├┤4        ├\n",
       "«          └───────────────┘ ░ └───────────────┘└───┘└─────────┘"
      ]
     },
     "execution_count": 86,
     "metadata": {},
     "output_type": "execute_result"
    }
   ],
   "source": [
    "G_twirling(qiskitCircuit).draw()"
   ]
  },
  {
   "cell_type": "code",
   "execution_count": 84,
   "metadata": {},
   "outputs": [],
   "source": [
    "circuit_ensemble = [G_twirling(qiskitCircuit) for _ in range(10)]\n",
    "# for circ in circuit_ensemble:\n",
    "#     print(circ)"
   ]
  },
  {
   "cell_type": "code",
   "execution_count": null,
   "metadata": {},
   "outputs": [],
   "source": [
    "Lambda_est = "
   ]
  }
 ],
 "metadata": {
  "kernelspec": {
   "display_name": "Horizon_Quantum",
   "language": "python",
   "name": "python3"
  },
  "language_info": {
   "codemirror_mode": {
    "name": "ipython",
    "version": 3
   },
   "file_extension": ".py",
   "mimetype": "text/x-python",
   "name": "python",
   "nbconvert_exporter": "python",
   "pygments_lexer": "ipython3",
   "version": "3.11.5"
  }
 },
 "nbformat": 4,
 "nbformat_minor": 2
}
