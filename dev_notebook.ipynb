{
 "cells": [
  {
   "cell_type": "code",
   "execution_count": 1,
   "metadata": {},
   "outputs": [],
   "source": [
    "import numpy as np\n",
    "import matplotlib.pyplot as plt\n",
    "import qiskit as qk\n",
    "import random\n",
    "from collections import Counter\n",
    "\n",
    "from generator import generateCliffordCircuit\n",
    "# from execution.transpiler import transpileListToQiskitCircuit"
   ]
  },
  {
   "cell_type": "code",
   "execution_count": 2,
   "metadata": {},
   "outputs": [],
   "source": [
    "def stringToQiskitSingleGate(gateString, qiskitCir, whichQubit):\n",
    "    if gateString == 'I':\n",
    "        qiskitCir.id(whichQubit)\n",
    "    elif gateString == 'X':\n",
    "        qiskitCir.x(whichQubit)\n",
    "    elif gateString == 'Y':\n",
    "        qiskitCir.y(whichQubit)\n",
    "    elif gateString == 'Z':\n",
    "        qiskitCir.z(whichQubit)\n",
    "    elif gateString == 'H':\n",
    "        qiskitCir.h(whichQubit)\n",
    "    elif gateString == 'S':\n",
    "        qiskitCir.s(whichQubit)\n",
    "        \n",
    "def transpileListToQiskitCircuit(cir):\n",
    "    depth = len(cir)\n",
    "    width = len(cir[0])\n",
    "    qiskitCir = qk.QuantumCircuit(width)\n",
    "    for d in range(width):\n",
    "        if d % 2 == 0:\n",
    "            for w in range(width):\n",
    "                singleGate = cir[d][w]\n",
    "                stringToQiskitSingleGate(singleGate, qiskitCir, w)\n",
    "            if d != width - 1:\n",
    "                qiskitCir.barrier()\n",
    "        else:\n",
    "            c = cir[d].index('CNOT_C')\n",
    "            t = cir[d].index('CNOT_T')\n",
    "            qiskitCir.cx(c, t)\n",
    "            if d != width - 1:\n",
    "                qiskitCir.barrier()\n",
    "    return qiskitCir"
   ]
  },
  {
   "cell_type": "code",
   "execution_count": 3,
   "metadata": {},
   "outputs": [
    {
     "name": "stdout",
     "output_type": "stream",
     "text": [
      "[['I', 'H', 'X', 'I', 'X'], ['CNOT_T', 'I', 'CNOT_C', 'I', 'I'], ['S', 'I', 'H', 'H', 'S'], ['CNOT_T', 'I', 'CNOT_C', 'I', 'I'], ['Z', 'X', 'I', 'H', 'Z']]\n",
      "     ┌───┐ ░ ┌───┐ ░ ┌───┐ ░ ┌───┐ ░ ┌───┐\n",
      "q_0: ┤ I ├─░─┤ X ├─░─┤ S ├─░─┤ X ├─░─┤ Z ├\n",
      "     ├───┤ ░ └─┬─┘ ░ ├───┤ ░ └─┬─┘ ░ ├───┤\n",
      "q_1: ┤ H ├─░───┼───░─┤ I ├─░───┼───░─┤ X ├\n",
      "     ├───┤ ░   │   ░ ├───┤ ░   │   ░ ├───┤\n",
      "q_2: ┤ X ├─░───■───░─┤ H ├─░───■───░─┤ I ├\n",
      "     ├───┤ ░       ░ ├───┤ ░       ░ ├───┤\n",
      "q_3: ┤ I ├─░───────░─┤ H ├─░───────░─┤ H ├\n",
      "     ├───┤ ░       ░ ├───┤ ░       ░ ├───┤\n",
      "q_4: ┤ X ├─░───────░─┤ S ├─░───────░─┤ Z ├\n",
      "     └───┘ ░       ░ └───┘ ░       ░ └───┘\n"
     ]
    }
   ],
   "source": [
    "width = 5 # num_qubits\n",
    "depth = 5 # number of layers in the circuit (easy + hard)\n",
    "singleGateSet = ['X', 'H', 'Z', 'I', 'S']\n",
    "doubleGateSet = ['CNOT_C', 'CNOT_T']\n",
    "twirlingGateSet = ['X','Y' 'Z', 'I']\n",
    "\n",
    "circuit = generateCliffordCircuit(width, depth, singleGateSet, doubleGateSet)\n",
    "qiskitCircuit = transpileListToQiskitCircuit(circuit)\n",
    "print(circuit)\n",
    "if depth < 10:\n",
    "    print(qiskitCircuit)"
   ]
  },
  {
   "cell_type": "code",
   "execution_count": 4,
   "metadata": {},
   "outputs": [],
   "source": [
    "def Clifford_Permute(cliff,pauli):\n",
    "    '''This function permutes the pauli operators according to the clifford group, so it computes \n",
    "    P' = C P C^T, where C is a clifford operator and P is a pauli operator.\n",
    "    Inputs: cliff - A Qiskit Circuit, Clifford, or Gate object.\n",
    "            pauli - A Qiskit Pauli object.\n",
    "    Outputs: new_pauli - A Qiskit Pauli object.'''\n",
    "\n",
    "    return pauli.evolve(cliff,frame=\"s\")\n"
   ]
  },
  {
   "cell_type": "code",
   "execution_count": 5,
   "metadata": {},
   "outputs": [
    {
     "data": {
      "text/plain": [
       "Pauli('YXZZI')"
      ]
     },
     "execution_count": 5,
     "metadata": {},
     "output_type": "execute_result"
    }
   ],
   "source": [
    "Clifford_Permute(qiskitCircuit, qk.quantum_info.Pauli('X'*width))"
   ]
  },
  {
   "cell_type": "code",
   "execution_count": 6,
   "metadata": {},
   "outputs": [],
   "source": [
    "def split_circuit_by_barrier(circuit):\n",
    "    qasm = circuit.qasm()\n",
    "    prelude = []\n",
    "    circuits = [[]]\n",
    "    for line in qasm.splitlines():\n",
    "        if any([line.startswith(t) for t in ['OPENQASM', 'include', 'qreg', 'creg']]):\n",
    "            prelude.append(line)\n",
    "        elif line.startswith('barrier'):\n",
    "            circuits.append([])\n",
    "        else:\n",
    "            circuits[-1].append(line)\n",
    "    circuits_with_prelude = [prelude+circuit for circuit in circuits]\n",
    "    for circuit_with_prelude in circuits_with_prelude:\n",
    "        yield qk.QuantumCircuit.from_qasm_str('\\n'.join(circuit_with_prelude))\n",
    "\n",
    "# for subcircuit in (split_circuit_by_barrier(qiskitCircuit)):\n",
    "#     print(subcircuit)"
   ]
  },
  {
   "cell_type": "code",
   "execution_count": 9,
   "metadata": {},
   "outputs": [],
   "source": [
    "def G_twirling(circuit):\n",
    "    '''This function performs G-twirling on a circuit. It randomly chooses a Pauli from {X,Y,Z,I} and prepends it before a layer, then appends P'=CPC^T after the layer.}\n",
    "    Inputs: circuit - A Qiskit Circuit object.\n",
    "    Outputs: new_circuit - A Qiskit Circuit object.'''\n",
    "    num_qubits = circuit.num_qubits\n",
    "    new_circuit = qk.QuantumCircuit(num_qubits)\n",
    "    for index, subcircuit in enumerate(split_circuit_by_barrier(circuit)):\n",
    "        # if len(subcircuit.data) == 1:\n",
    "        #     operated_qubits = [subcircuit.find_bit(q).index for q in subcircuit.data[0].qubits]\n",
    "        # else:\n",
    "        #     operated_qubits = list(range(num_qubits))\n",
    "        pauli_str = ''.join(random.choice([\"X\",\"Y\",\"Z\",\"I\"]) for _ in range(num_qubits))\n",
    "        pauli = qk.quantum_info.Pauli(pauli_str)\n",
    "        new_circuit = new_circuit.compose(pauli,qubits=range(num_qubits))\n",
    "        new_circuit = new_circuit.compose(subcircuit,qubits=range(num_qubits))\n",
    "        new_circuit = new_circuit.compose(Clifford_Permute(subcircuit,pauli).to_instruction(),qubits = range(num_qubits))\n",
    "        if index != len(list(split_circuit_by_barrier(circuit)))-1:\n",
    "            new_circuit.barrier()\n",
    "    return new_circuit\n"
   ]
  },
  {
   "cell_type": "code",
   "execution_count": 10,
   "metadata": {},
   "outputs": [
    {
     "data": {
      "text/html": [
       "<pre style=\"word-wrap: normal;white-space: pre;background: #fff0;line-height: 1.1;font-family: &quot;Courier New&quot;,Courier,monospace\">     ┌───────────────┐┌───┐┌───────────────┐ ░ ┌───────────────┐┌───┐»\n",
       "q_0: ┤0              ├┤ I ├┤0              ├─░─┤0              ├┤ X ├»\n",
       "     │               │├───┤│               │ ░ │               │└─┬─┘»\n",
       "q_1: ┤1              ├┤ H ├┤1              ├─░─┤1              ├──┼──»\n",
       "     │               │├───┤│               │ ░ │               │  │  »\n",
       "q_2: ┤2 Pauli(YIYIZ) ├┤ X ├┤2 Pauli(YIYIZ) ├─░─┤2 Pauli(XIZII) ├──■──»\n",
       "     │               │├───┤│               │ ░ │               │     »\n",
       "q_3: ┤3              ├┤ I ├┤3              ├─░─┤3              ├─────»\n",
       "     │               │├───┤│               │ ░ │               │     »\n",
       "q_4: ┤4              ├┤ X ├┤4              ├─░─┤4              ├─────»\n",
       "     └───────────────┘└───┘└───────────────┘ ░ └───────────────┘     »\n",
       "«     ┌───────────────┐ ░ ┌───────────────┐┌───┐┌───────────────┐ ░ »\n",
       "«q_0: ┤0              ├─░─┤0              ├┤ S ├┤0              ├─░─»\n",
       "«     │               │ ░ │               │├───┤│               │ ░ »\n",
       "«q_1: ┤1              ├─░─┤1              ├┤ I ├┤1              ├─░─»\n",
       "«     │               │ ░ │               │├───┤│               │ ░ »\n",
       "«q_2: ┤2 Pauli(XIZII) ├─░─┤2 Pauli(IIXZX) ├┤ H ├┤2 Pauli(IIZZY) ├─░─»\n",
       "«     │               │ ░ │               │├───┤│               │ ░ »\n",
       "«q_3: ┤3              ├─░─┤3              ├┤ H ├┤3              ├─░─»\n",
       "«     │               │ ░ │               │├───┤│               │ ░ »\n",
       "«q_4: ┤4              ├─░─┤4              ├┤ S ├┤4              ├─░─»\n",
       "«     └───────────────┘ ░ └───────────────┘└───┘└───────────────┘ ░ »\n",
       "«     ┌───────────────┐┌───┐┌─────────┐ ░ ┌───────────────┐┌───┐»\n",
       "«q_0: ┤0              ├┤ X ├┤0        ├─░─┤0              ├┤ Z ├»\n",
       "«     │               │└─┬─┘│         │ ░ │               │├───┤»\n",
       "«q_1: ┤1              ├──┼──┤1        ├─░─┤1              ├┤ X ├»\n",
       "«     │               │  │  │         │ ░ │               │├───┤»\n",
       "«q_2: ┤2 Pauli(ZXYXY) ├──■──┤2 -ZXXXZ ├─░─┤2 Pauli(XXIIY) ├┤ I ├»\n",
       "«     │               │     │         │ ░ │               │├───┤»\n",
       "«q_3: ┤3              ├─────┤3        ├─░─┤3              ├┤ H ├»\n",
       "«     │               │     │         │ ░ │               │├───┤»\n",
       "«q_4: ┤4              ├─────┤4        ├─░─┤4              ├┤ Z ├»\n",
       "«     └───────────────┘     └─────────┘ ░ └───────────────┘└───┘»\n",
       "«     ┌───────────────┐\n",
       "«q_0: ┤0              ├\n",
       "«     │               │\n",
       "«q_1: ┤1              ├\n",
       "«     │               │\n",
       "«q_2: ┤2 Pauli(XZIIY) ├\n",
       "«     │               │\n",
       "«q_3: ┤3              ├\n",
       "«     │               │\n",
       "«q_4: ┤4              ├\n",
       "«     └───────────────┘</pre>"
      ],
      "text/plain": [
       "     ┌───────────────┐┌───┐┌───────────────┐ ░ ┌───────────────┐┌───┐»\n",
       "q_0: ┤0              ├┤ I ├┤0              ├─░─┤0              ├┤ X ├»\n",
       "     │               │├───┤│               │ ░ │               │└─┬─┘»\n",
       "q_1: ┤1              ├┤ H ├┤1              ├─░─┤1              ├──┼──»\n",
       "     │               │├───┤│               │ ░ │               │  │  »\n",
       "q_2: ┤2 Pauli(YIYIZ) ├┤ X ├┤2 Pauli(YIYIZ) ├─░─┤2 Pauli(XIZII) ├──■──»\n",
       "     │               │├───┤│               │ ░ │               │     »\n",
       "q_3: ┤3              ├┤ I ├┤3              ├─░─┤3              ├─────»\n",
       "     │               │├───┤│               │ ░ │               │     »\n",
       "q_4: ┤4              ├┤ X ├┤4              ├─░─┤4              ├─────»\n",
       "     └───────────────┘└───┘└───────────────┘ ░ └───────────────┘     »\n",
       "«     ┌───────────────┐ ░ ┌───────────────┐┌───┐┌───────────────┐ ░ »\n",
       "«q_0: ┤0              ├─░─┤0              ├┤ S ├┤0              ├─░─»\n",
       "«     │               │ ░ │               │├───┤│               │ ░ »\n",
       "«q_1: ┤1              ├─░─┤1              ├┤ I ├┤1              ├─░─»\n",
       "«     │               │ ░ │               │├───┤│               │ ░ »\n",
       "«q_2: ┤2 Pauli(XIZII) ├─░─┤2 Pauli(IIXZX) ├┤ H ├┤2 Pauli(IIZZY) ├─░─»\n",
       "«     │               │ ░ │               │├───┤│               │ ░ »\n",
       "«q_3: ┤3              ├─░─┤3              ├┤ H ├┤3              ├─░─»\n",
       "«     │               │ ░ │               │├───┤│               │ ░ »\n",
       "«q_4: ┤4              ├─░─┤4              ├┤ S ├┤4              ├─░─»\n",
       "«     └───────────────┘ ░ └───────────────┘└───┘└───────────────┘ ░ »\n",
       "«     ┌───────────────┐┌───┐┌─────────┐ ░ ┌───────────────┐┌───┐»\n",
       "«q_0: ┤0              ├┤ X ├┤0        ├─░─┤0              ├┤ Z ├»\n",
       "«     │               │└─┬─┘│         │ ░ │               │├───┤»\n",
       "«q_1: ┤1              ├──┼──┤1        ├─░─┤1              ├┤ X ├»\n",
       "«     │               │  │  │         │ ░ │               │├───┤»\n",
       "«q_2: ┤2 Pauli(ZXYXY) ├──■──┤2 -ZXXXZ ├─░─┤2 Pauli(XXIIY) ├┤ I ├»\n",
       "«     │               │     │         │ ░ │               │├───┤»\n",
       "«q_3: ┤3              ├─────┤3        ├─░─┤3              ├┤ H ├»\n",
       "«     │               │     │         │ ░ │               │├───┤»\n",
       "«q_4: ┤4              ├─────┤4        ├─░─┤4              ├┤ Z ├»\n",
       "«     └───────────────┘     └─────────┘ ░ └───────────────┘└───┘»\n",
       "«     ┌───────────────┐\n",
       "«q_0: ┤0              ├\n",
       "«     │               │\n",
       "«q_1: ┤1              ├\n",
       "«     │               │\n",
       "«q_2: ┤2 Pauli(XZIIY) ├\n",
       "«     │               │\n",
       "«q_3: ┤3              ├\n",
       "«     │               │\n",
       "«q_4: ┤4              ├\n",
       "«     └───────────────┘"
      ]
     },
     "execution_count": 10,
     "metadata": {},
     "output_type": "execute_result"
    }
   ],
   "source": [
    "G_twirling(qiskitCircuit).draw()"
   ]
  },
  {
   "cell_type": "code",
   "execution_count": null,
   "metadata": {},
   "outputs": [],
   "source": [
    "circuit_ensemble = [G_twirling(qiskitCircuit) for _ in range(10)]\n",
    "# for circ in circuit_ensemble:\n",
    "#     print(circ)"
   ]
  },
  {
   "cell_type": "code",
   "execution_count": null,
   "metadata": {},
   "outputs": [],
   "source": [
    "def random_choices_with_counts(items, n):\n",
    "    \"\"\"\n",
    "    Randomly choose with replacement n items from a list and return a dictionary\n",
    "    with the counts of each chosen item.\n",
    "    \n",
    "    Parameters:\n",
    "        items (list): List of items to choose from.\n",
    "        n (int): Number of items to choose.\n",
    "    \n",
    "    Returns:\n",
    "        dict: Dictionary with the counts of each chosen item.\n",
    "    \"\"\"\n",
    "    chosen_items = random.choices(items, k=n)\n",
    "    counts = Counter(chosen_items)\n",
    "    return dict(counts)"
   ]
  },
  {
   "cell_type": "code",
   "execution_count": null,
   "metadata": {},
   "outputs": [
    {
     "data": {
      "text/plain": [
       "{'OPENQASM 2.0;\\ninclude \"qelib1.inc\";\\ngate pauli(param0) q0,q1,q2,q3,q4 { y q0; x q1; x q3; z q4; }\\ngate gate__ZXIXY q0,q1,q2,q3,q4 { pauli(ZXIXY) q0,q1,q2,q3,q4; }\\ngate pauli_140709000663440(param0) q0,q1,q2,q3,q4 { x q0; x q1; z q2; z q3; x q4; }\\ngate pauli_140709000669776(param0) q0,q1,q2,q3,q4 { x q0; x q1; z q2; z q3; x q4; }\\ngate pauli_140709000674448(param0) q0,q1,q2,q3,q4 { z q0; x q1; y q2; x q3; z q4; }\\ngate pauli_140709000661008(param0) q0,q1,q2,q3,q4 { z q0; x q1; y q2; z q3; z q4; }\\ngate pauli_140709000814224(param0) q0,q1,q2,q3,q4 { y q2; z q4; }\\ngate pauli_140709008254416(param0) q0,q1,q2,q3,q4 { y q2; z q3; z q4; }\\ngate pauli_140709010876432(param0) q0,q1,q2,q3,q4 { y q1; z q2; x q3; }\\ngate pauli_140709007204880(param0) q0,q1,q2,q3,q4 { y q1; z q2; x q3; }\\nqreg q[5];\\npauli(ZXIXY) q[0],q[1],q[2],q[3],q[4];\\nh q[0];\\nx q[1];\\nz q[2];\\nid q[3];\\nz q[4];\\ngate__ZXIXY q[0],q[1],q[2],q[3],q[4];\\nbarrier q[0],q[1],q[2],q[3],q[4];\\npauli_140709000663440(XZZXX) q[0],q[1],q[2],q[3],q[4];\\ncx q[2],q[4];\\npauli_140709000669776(XZZXX) q[0],q[1],q[2],q[3],q[4];\\nbarrier q[0],q[1],q[2],q[3],q[4];\\npauli_140709000674448(ZXYXZ) q[0],q[1],q[2],q[3],q[4];\\nid q[0];\\nx q[1];\\nid q[2];\\nh q[3];\\ns q[4];\\npauli_140709000661008(ZZYXZ) q[0],q[1],q[2],q[3],q[4];\\nbarrier q[0],q[1],q[2],q[3],q[4];\\npauli_140709000814224(ZIYII) q[0],q[1],q[2],q[3],q[4];\\ncx q[3],q[2];\\npauli_140709008254416(ZZYII) q[0],q[1],q[2],q[3],q[4];\\nbarrier q[0],q[1],q[2],q[3],q[4];\\npauli_140709010876432(IXZYI) q[0],q[1],q[2],q[3],q[4];\\nx q[0];\\nh q[1];\\nx q[2];\\nid q[3];\\nx q[4];\\npauli_140709007204880(IXZYI) q[0],q[1],q[2],q[3],q[4];\\n': 101,\n",
       " 'OPENQASM 2.0;\\ninclude \"qelib1.inc\";\\ngate pauli(param0) q0,q1,q2,q3,q4 { y q2; z q3; z q4; }\\ngate gate__ZZYII q0,q1,q2,q3,q4 { pauli(ZZYII) q0,q1,q2,q3,q4; }\\ngate pauli_140708999223248(param0) q0,q1,q2,q3,q4 { z q0; x q1; x q2; y q3; z q4; }\\ngate pauli_140708751014288(param0) q0,q1,q2,q3,q4 { z q0; x q1; y q2; y q3; y q4; }\\ngate gate__YYYXZ q0,q1,q2,q3,q4 { pauli_140708751014288(YYYXZ) q0,q1,q2,q3,q4; }\\ngate pauli_140708997250832(param0) q0,q1,q2,q3,q4 { x q0; y q1; x q3; z q4; }\\ngate pauli_140708749047568(param0) q0,q1,q2,q3,q4 { x q0; y q1; z q3; z q4; }\\ngate gate__ZZIYX q0,q1,q2,q3,q4 { pauli_140708749047568(ZZIYX) q0,q1,q2,q3,q4; }\\ngate pauli_140708997245200(param0) q0,q1,q2,q3,q4 { z q0; x q1; x q2; y q3; x q4; }\\ngate pauli_140708997245264(param0) q0,q1,q2,q3,q4 { z q0; x q1; y q3; x q4; }\\ngate pauli_140708997245136(param0) q0,q1,q2,q3,q4 { z q0; z q1; y q2; x q3; y q4; }\\ngate pauli_140708749039056(param0) q0,q1,q2,q3,q4 { z q0; x q1; y q2; x q3; y q4; }\\ngate gate__YXYXZ q0,q1,q2,q3,q4 { pauli_140708749039056(YXYXZ) q0,q1,q2,q3,q4; }\\nqreg q[5];\\npauli(ZZYII) q[0],q[1],q[2],q[3],q[4];\\nh q[0];\\nx q[1];\\nz q[2];\\nid q[3];\\nz q[4];\\ngate__ZZYII q[0],q[1],q[2],q[3],q[4];\\nbarrier q[0],q[1],q[2],q[3],q[4];\\npauli_140708999223248(ZYXXZ) q[0],q[1],q[2],q[3],q[4];\\ncx q[2],q[4];\\ngate__YYYXZ q[0],q[1],q[2],q[3],q[4];\\nbarrier q[0],q[1],q[2],q[3],q[4];\\npauli_140708997250832(ZXIYX) q[0],q[1],q[2],q[3],q[4];\\nid q[0];\\nx q[1];\\nid q[2];\\nh q[3];\\ns q[4];\\ngate__ZZIYX q[0],q[1],q[2],q[3],q[4];\\nbarrier q[0],q[1],q[2],q[3],q[4];\\npauli_140708997245200(XYXXZ) q[0],q[1],q[2],q[3],q[4];\\ncx q[3],q[2];\\npauli_140708997245264(XYIXZ) q[0],q[1],q[2],q[3],q[4];\\nbarrier q[0],q[1],q[2],q[3],q[4];\\npauli_140708997245136(YXYZZ) q[0],q[1],q[2],q[3],q[4];\\nx q[0];\\nh q[1];\\nx q[2];\\nid q[3];\\nx q[4];\\ngate__YXYXZ q[0],q[1],q[2],q[3],q[4];\\n': 104,\n",
       " 'OPENQASM 2.0;\\ninclude \"qelib1.inc\";\\ngate pauli(param0) q0,q1,q2,q3,q4 { x q0; x q1; x q2; x q3; x q4; }\\ngate pauli_140708997116496(param0) q0,q1,q2,q3,q4 { z q0; x q1; x q2; x q3; x q4; }\\ngate pauli_140708997108560(param0) q0,q1,q2,q3,q4 { x q0; x q1; y q2; z q3; }\\ngate pauli_140708997111696(param0) q0,q1,q2,q3,q4 { x q0; x q1; y q2; z q3; x q4; }\\ngate pauli_140709010227984(param0) q0,q1,q2,q3,q4 { y q0; z q1; z q2; x q4; }\\ngate pauli_140708750528400(param0) q0,q1,q2,q3,q4 { y q0; z q1; z q2; y q4; }\\ngate gate__YIZZY q0,q1,q2,q3,q4 { pauli_140708750528400(YIZZY) q0,q1,q2,q3,q4; }\\ngate pauli_140708998475920(param0) q0,q1,q2,q3,q4 { z q0; x q1; y q2; z q3; x q4; }\\ngate pauli_140708997402000(param0) q0,q1,q2,q3,q4 { z q0; x q1; y q2; x q4; }\\ngate pauli_140708997408144(param0) q0,q1,q2,q3,q4 { z q0; y q2; z q3; x q4; }\\ngate pauli_140708997119888(param0) q0,q1,q2,q3,q4 { z q0; y q2; z q3; x q4; }\\nqreg q[5];\\npauli(XXXXX) q[0],q[1],q[2],q[3],q[4];\\nh q[0];\\nx q[1];\\nz q[2];\\nid q[3];\\nz q[4];\\npauli_140708997116496(XXXXZ) q[0],q[1],q[2],q[3],q[4];\\nbarrier q[0],q[1],q[2],q[3],q[4];\\npauli_140708997108560(IZYXX) q[0],q[1],q[2],q[3],q[4];\\ncx q[2],q[4];\\npauli_140708997111696(XZYXX) q[0],q[1],q[2],q[3],q[4];\\nbarrier q[0],q[1],q[2],q[3],q[4];\\npauli_140709010227984(XIZZY) q[0],q[1],q[2],q[3],q[4];\\nid q[0];\\nx q[1];\\nid q[2];\\nh q[3];\\ns q[4];\\ngate__YIZZY q[0],q[1],q[2],q[3],q[4];\\nbarrier q[0],q[1],q[2],q[3],q[4];\\npauli_140708998475920(XZYXZ) q[0],q[1],q[2],q[3],q[4];\\ncx q[3],q[2];\\npauli_140708997402000(XIYXZ) q[0],q[1],q[2],q[3],q[4];\\nbarrier q[0],q[1],q[2],q[3],q[4];\\npauli_140708997408144(XZYIZ) q[0],q[1],q[2],q[3],q[4];\\nx q[0];\\nh q[1];\\nx q[2];\\nid q[3];\\nx q[4];\\npauli_140708997119888(XZYIZ) q[0],q[1],q[2],q[3],q[4];\\n': 104,\n",
       " 'OPENQASM 2.0;\\ninclude \"qelib1.inc\";\\ngate pauli(param0) q0,q1,q2,q3,q4 { y q2; x q4; }\\ngate pauli_140708997248784(param0) q0,q1,q2,q3,q4 { y q0; x q1; z q2; x q4; }\\ngate pauli_140708999058320(param0) q0,q1,q2,q3,q4 { y q0; x q1; z q2; x q4; }\\ngate pauli_140708999065168(param0) q0,q1,q2,q3,q4 { z q2; y q3; z q4; }\\ngate pauli_140708749377936(param0) q0,q1,q2,q3,q4 { z q2; y q3; z q4; }\\ngate gate__ZYZII q0,q1,q2,q3,q4 { pauli_140708749377936(ZYZII) q0,q1,q2,q3,q4; }\\ngate pauli_140708999440720(param0) q0,q1,q2,q3,q4 { y q1; x q2; y q3; y q4; }\\ngate pauli_140708997313040(param0) q0,q1,q2,q3,q4 { y q1; y q3; y q4; }\\ngate pauli_140708997304336(param0) q0,q1,q2,q3,q4 { y q0; z q2; x q4; }\\ngate pauli_140708997245456(param0) q0,q1,q2,q3,q4 { y q0; z q2; x q4; }\\nqreg q[5];\\npauli(XIYII) q[0],q[1],q[2],q[3],q[4];\\nh q[0];\\nx q[1];\\nz q[2];\\nid q[3];\\nz q[4];\\npauli(XIYII) q[0],q[1],q[2],q[3],q[4];\\nbarrier q[0],q[1],q[2],q[3],q[4];\\npauli_140708997248784(XIZXY) q[0],q[1],q[2],q[3],q[4];\\ncx q[2],q[4];\\npauli_140708999058320(XIZXY) q[0],q[1],q[2],q[3],q[4];\\nbarrier q[0],q[1],q[2],q[3],q[4];\\npauli_140708999065168(ZYZII) q[0],q[1],q[2],q[3],q[4];\\nid q[0];\\nx q[1];\\nid q[2];\\nh q[3];\\ns q[4];\\ngate__ZYZII q[0],q[1],q[2],q[3],q[4];\\nbarrier q[0],q[1],q[2],q[3],q[4];\\npauli_140708999440720(YYXYI) q[0],q[1],q[2],q[3],q[4];\\ncx q[3],q[2];\\npauli_140708997313040(YYIYI) q[0],q[1],q[2],q[3],q[4];\\nbarrier q[0],q[1],q[2],q[3],q[4];\\npauli_140708997304336(XIZIY) q[0],q[1],q[2],q[3],q[4];\\nx q[0];\\nh q[1];\\nx q[2];\\nid q[3];\\nx q[4];\\npauli_140708997245456(XIZIY) q[0],q[1],q[2],q[3],q[4];\\n': 126,\n",
       " 'OPENQASM 2.0;\\ninclude \"qelib1.inc\";\\ngate pauli(param0) q0,q1,q2,q3,q4 { z q3; y q4; }\\ngate gate__YZIII q0,q1,q2,q3,q4 { pauli(YZIII) q0,q1,q2,q3,q4; }\\ngate pauli_140709000747728(param0) q0,q1,q2,q3,q4 { z q0; y q1; y q2; z q3; z q4; }\\ngate pauli_140709000749072(param0) q0,q1,q2,q3,q4 { z q0; y q1; x q2; z q3; y q4; }\\ngate pauli_140709002442320(param0) q0,q1,q2,q3,q4 { y q0; z q1; x q2; x q3; x q4; }\\ngate pauli_140708750537488(param0) q0,q1,q2,q3,q4 { y q0; z q1; x q2; z q3; y q4; }\\ngate gate__YZXZY q0,q1,q2,q3,q4 { pauli_140708750537488(YZXZY) q0,q1,q2,q3,q4; }\\ngate pauli_140708995434512(param0) q0,q1,q2,q3,q4 { x q0; x q1; z q2; x q3; y q4; }\\ngate pauli_140708750776144(param0) q0,q1,q2,q3,q4 { x q0; x q1; y q2; y q3; y q4; }\\ngate gate__YYYXX q0,q1,q2,q3,q4 { pauli_140708750776144(YYYXX) q0,q1,q2,q3,q4; }\\ngate pauli_140709002496656(param0) q0,q1,q2,q3,q4 { x q0; z q1; x q2; y q3; z q4; }\\ngate pauli_140708752039120(param0) q0,q1,q2,q3,q4 { x q0; x q1; x q2; y q3; z q4; }\\ngate gate__ZYXXX q0,q1,q2,q3,q4 { pauli_140708752039120(ZYXXX) q0,q1,q2,q3,q4; }\\nqreg q[5];\\npauli(YZIII) q[0],q[1],q[2],q[3],q[4];\\nh q[0];\\nx q[1];\\nz q[2];\\nid q[3];\\nz q[4];\\ngate__YZIII q[0],q[1],q[2],q[3],q[4];\\nbarrier q[0],q[1],q[2],q[3],q[4];\\npauli_140709000747728(ZZYYZ) q[0],q[1],q[2],q[3],q[4];\\ncx q[2],q[4];\\npauli_140709000749072(YZXYZ) q[0],q[1],q[2],q[3],q[4];\\nbarrier q[0],q[1],q[2],q[3],q[4];\\npauli_140709002442320(XXXZY) q[0],q[1],q[2],q[3],q[4];\\nid q[0];\\nx q[1];\\nid q[2];\\nh q[3];\\ns q[4];\\ngate__YZXZY q[0],q[1],q[2],q[3],q[4];\\nbarrier q[0],q[1],q[2],q[3],q[4];\\npauli_140708995434512(YXZXX) q[0],q[1],q[2],q[3],q[4];\\ncx q[3],q[2];\\ngate__YYYXX q[0],q[1],q[2],q[3],q[4];\\nbarrier q[0],q[1],q[2],q[3],q[4];\\npauli_140709002496656(ZYXZX) q[0],q[1],q[2],q[3],q[4];\\nx q[0];\\nh q[1];\\nx q[2];\\nid q[3];\\nx q[4];\\ngate__ZYXXX q[0],q[1],q[2],q[3],q[4];\\n': 109,\n",
       " 'OPENQASM 2.0;\\ninclude \"qelib1.inc\";\\ngate pauli(param0) q0,q1,q2,q3,q4 { z q0; x q1; y q2; y q3; z q4; }\\ngate pauli_140708749389520(param0) q0,q1,q2,q3,q4 { x q0; x q1; y q2; y q3; z q4; }\\ngate gate__ZYYXX q0,q1,q2,q3,q4 { pauli_140708749389520(ZYYXX) q0,q1,q2,q3,q4; }\\ngate pauli_140708997308560(param0) q0,q1,q2,q3,q4 { z q1; z q3; }\\ngate pauli_140708997312720(param0) q0,q1,q2,q3,q4 { z q1; z q3; }\\ngate pauli_140708997309648(param0) q0,q1,q2,q3,q4 { x q0; x q1; z q2; x q3; x q4; }\\ngate pauli_140708997301200(param0) q0,q1,q2,q3,q4 { x q0; x q1; z q2; z q3; y q4; }\\ngate pauli_140708997307344(param0) q0,q1,q2,q3,q4 { z q2; x q4; }\\ngate pauli_140708997313360(param0) q0,q1,q2,q3,q4 { z q2; z q3; x q4; }\\ngate pauli_140708997300752(param0) q0,q1,q2,q3,q4 { x q0; y q1; y q2; x q3; }\\ngate pauli_140708997412304(param0) q0,q1,q2,q3,q4 { x q0; y q1; y q2; x q3; }\\nqreg q[5];\\npauli(ZYYXZ) q[0],q[1],q[2],q[3],q[4];\\nh q[0];\\nx q[1];\\nz q[2];\\nid q[3];\\nz q[4];\\ngate__ZYYXX q[0],q[1],q[2],q[3],q[4];\\nbarrier q[0],q[1],q[2],q[3],q[4];\\npauli_140708997308560(IZIZI) q[0],q[1],q[2],q[3],q[4];\\ncx q[2],q[4];\\npauli_140708997312720(IZIZI) q[0],q[1],q[2],q[3],q[4];\\nbarrier q[0],q[1],q[2],q[3],q[4];\\npauli_140708997309648(XXZXX) q[0],q[1],q[2],q[3],q[4];\\nid q[0];\\nx q[1];\\nid q[2];\\nh q[3];\\ns q[4];\\npauli_140708997301200(YZZXX) q[0],q[1],q[2],q[3],q[4];\\nbarrier q[0],q[1],q[2],q[3],q[4];\\npauli_140708997307344(XIZII) q[0],q[1],q[2],q[3],q[4];\\ncx q[3],q[2];\\npauli_140708997313360(XZZII) q[0],q[1],q[2],q[3],q[4];\\nbarrier q[0],q[1],q[2],q[3],q[4];\\npauli_140708997300752(IXYYX) q[0],q[1],q[2],q[3],q[4];\\nx q[0];\\nh q[1];\\nx q[2];\\nid q[3];\\nx q[4];\\npauli_140708997412304(IXYYX) q[0],q[1],q[2],q[3],q[4];\\n': 97,\n",
       " 'OPENQASM 2.0;\\ninclude \"qelib1.inc\";\\ngate pauli(param0) q0,q1,q2,q3,q4 { z q0; y q2; z q3; }\\ngate pauli_140708749039056(param0) q0,q1,q2,q3,q4 { x q0; y q2; z q3; }\\ngate gate__IZYIX q0,q1,q2,q3,q4 { pauli_140708749039056(IZYIX) q0,q1,q2,q3,q4; }\\ngate pauli_140708997192720(param0) q0,q1,q2,q3,q4 { y q0; z q1; z q2; x q3; y q4; }\\ngate pauli_140708997193232(param0) q0,q1,q2,q3,q4 { y q0; z q1; x q3; y q4; }\\ngate pauli_140708997194640(param0) q0,q1,q2,q3,q4 { z q1; x q3; z q4; }\\ngate pauli_140708749158096(param0) q0,q1,q2,q3,q4 { z q1; z q3; z q4; }\\ngate gate__ZZIZI q0,q1,q2,q3,q4 { pauli_140708749158096(ZZIZI) q0,q1,q2,q3,q4; }\\ngate pauli_140708997241232(param0) q0,q1,q2,q3,q4 { y q0; x q1; y q2; z q3; z q4; }\\ngate pauli_140708997250064(param0) q0,q1,q2,q3,q4 { y q0; x q1; y q2; z q4; }\\ngate pauli_140708997243344(param0) q0,q1,q2,q3,q4 { z q0; z q1; z q2; y q3; z q4; }\\ngate pauli_140708749276112(param0) q0,q1,q2,q3,q4 { z q0; x q1; z q2; y q3; z q4; }\\ngate gate__ZYZXZ q0,q1,q2,q3,q4 { pauli_140708749276112(ZYZXZ) q0,q1,q2,q3,q4; }\\nqreg q[5];\\npauli(IZYIZ) q[0],q[1],q[2],q[3],q[4];\\nh q[0];\\nx q[1];\\nz q[2];\\nid q[3];\\nz q[4];\\ngate__IZYIX q[0],q[1],q[2],q[3],q[4];\\nbarrier q[0],q[1],q[2],q[3],q[4];\\npauli_140708997192720(YXZZY) q[0],q[1],q[2],q[3],q[4];\\ncx q[2],q[4];\\npauli_140708997193232(YXIZY) q[0],q[1],q[2],q[3],q[4];\\nbarrier q[0],q[1],q[2],q[3],q[4];\\npauli_140708997194640(ZXIZI) q[0],q[1],q[2],q[3],q[4];\\nid q[0];\\nx q[1];\\nid q[2];\\nh q[3];\\ns q[4];\\ngate__ZZIZI q[0],q[1],q[2],q[3],q[4];\\nbarrier q[0],q[1],q[2],q[3],q[4];\\npauli_140708997241232(ZZYXY) q[0],q[1],q[2],q[3],q[4];\\ncx q[3],q[2];\\npauli_140708997250064(ZIYXY) q[0],q[1],q[2],q[3],q[4];\\nbarrier q[0],q[1],q[2],q[3],q[4];\\npauli_140708997243344(ZYZZZ) q[0],q[1],q[2],q[3],q[4];\\nx q[0];\\nh q[1];\\nx q[2];\\nid q[3];\\nx q[4];\\ngate__ZYZXZ q[0],q[1],q[2],q[3],q[4];\\n': 78,\n",
       " 'OPENQASM 2.0;\\ninclude \"qelib1.inc\";\\ngate pauli(param0) q0,q1,q2,q3,q4 { y q0; x q1; x q3; z q4; }\\ngate gate__ZXIXY q0,q1,q2,q3,q4 { pauli(ZXIXY) q0,q1,q2,q3,q4; }\\ngate pauli_140708996776848(param0) q0,q1,q2,q3,q4 { y q0; x q2; z q3; }\\ngate pauli_140708996776400(param0) q0,q1,q2,q3,q4 { y q0; x q2; z q3; x q4; }\\ngate pauli_140708997113680(param0) q0,q1,q2,q3,q4 { x q0; x q1; x q4; }\\ngate pauli_140708997119248(param0) q0,q1,q2,q3,q4 { x q0; x q1; y q4; }\\ngate pauli_140708997119824(param0) q0,q1,q2,q3,q4 { x q2; x q3; z q4; }\\ngate pauli_140708997107856(param0) q0,q1,q2,q3,q4 { x q3; z q4; }\\ngate pauli_140708997118352(param0) q0,q1,q2,q3,q4 { y q1; y q2; x q3; y q4; }\\ngate pauli_140708751514640(param0) q0,q1,q2,q3,q4 { y q1; y q2; x q3; y q4; }\\ngate gate__YXYYI q0,q1,q2,q3,q4 { pauli_140708751514640(YXYYI) q0,q1,q2,q3,q4; }\\nqreg q[5];\\npauli(ZXIXY) q[0],q[1],q[2],q[3],q[4];\\nh q[0];\\nx q[1];\\nz q[2];\\nid q[3];\\nz q[4];\\ngate__ZXIXY q[0],q[1],q[2],q[3],q[4];\\nbarrier q[0],q[1],q[2],q[3],q[4];\\npauli_140708996776848(IZXIY) q[0],q[1],q[2],q[3],q[4];\\ncx q[2],q[4];\\npauli_140708996776400(XZXIY) q[0],q[1],q[2],q[3],q[4];\\nbarrier q[0],q[1],q[2],q[3],q[4];\\npauli_140708997113680(XIIXX) q[0],q[1],q[2],q[3],q[4];\\nid q[0];\\nx q[1];\\nid q[2];\\nh q[3];\\ns q[4];\\npauli_140708997119248(YIIXX) q[0],q[1],q[2],q[3],q[4];\\nbarrier q[0],q[1],q[2],q[3],q[4];\\npauli_140708997119824(ZXXII) q[0],q[1],q[2],q[3],q[4];\\ncx q[3],q[2];\\npauli_140708997107856(ZXIII) q[0],q[1],q[2],q[3],q[4];\\nbarrier q[0],q[1],q[2],q[3],q[4];\\npauli_140708997118352(YXYYI) q[0],q[1],q[2],q[3],q[4];\\nx q[0];\\nh q[1];\\nx q[2];\\nid q[3];\\nx q[4];\\ngate__YXYYI q[0],q[1],q[2],q[3],q[4];\\n': 94,\n",
       " 'OPENQASM 2.0;\\ninclude \"qelib1.inc\";\\ngate pauli(param0) q0,q1,q2,q3,q4 { y q0; z q1; y q2; z q3; }\\ngate gate__IZYZY q0,q1,q2,q3,q4 { pauli(IZYZY) q0,q1,q2,q3,q4; }\\ngate pauli_140708995939472(param0) q0,q1,q2,q3,q4 { z q0; z q1; z q2; y q3; }\\ngate pauli_140708995934416(param0) q0,q1,q2,q3,q4 { z q0; z q1; z q2; y q3; }\\ngate pauli_140708995931344(param0) q0,q1,q2,q3,q4 { y q0; y q1; z q2; y q3; y q4; }\\ngate pauli_140708749734864(param0) q0,q1,q2,q3,q4 { y q0; y q1; z q2; y q3; x q4; }\\ngate gate__XYZYY q0,q1,q2,q3,q4 { pauli_140708749734864(XYZYY) q0,q1,q2,q3,q4; }\\ngate pauli_140708995933008(param0) q0,q1,q2,q3,q4 { x q0; z q1; x q2; y q3; x q4; }\\ngate pauli_140708995939600(param0) q0,q1,q2,q3,q4 { x q0; z q1; y q3; x q4; }\\ngate pauli_140708995926608(param0) q0,q1,q2,q3,q4 { y q2; x q3; y q4; }\\ngate pauli_140708997438224(param0) q0,q1,q2,q3,q4 { y q2; x q3; y q4; }\\nqreg q[5];\\npauli(IZYZY) q[0],q[1],q[2],q[3],q[4];\\nh q[0];\\nx q[1];\\nz q[2];\\nid q[3];\\nz q[4];\\ngate__IZYZY q[0],q[1],q[2],q[3],q[4];\\nbarrier q[0],q[1],q[2],q[3],q[4];\\npauli_140708995939472(IYZZZ) q[0],q[1],q[2],q[3],q[4];\\ncx q[2],q[4];\\npauli_140708995934416(IYZZZ) q[0],q[1],q[2],q[3],q[4];\\nbarrier q[0],q[1],q[2],q[3],q[4];\\npauli_140708995931344(YYZYY) q[0],q[1],q[2],q[3],q[4];\\nid q[0];\\nx q[1];\\nid q[2];\\nh q[3];\\ns q[4];\\ngate__XYZYY q[0],q[1],q[2],q[3],q[4];\\nbarrier q[0],q[1],q[2],q[3],q[4];\\npauli_140708995933008(XYXZX) q[0],q[1],q[2],q[3],q[4];\\ncx q[3],q[2];\\npauli_140708995939600(XYIZX) q[0],q[1],q[2],q[3],q[4];\\nbarrier q[0],q[1],q[2],q[3],q[4];\\npauli_140708995926608(YXYII) q[0],q[1],q[2],q[3],q[4];\\nx q[0];\\nh q[1];\\nx q[2];\\nid q[3];\\nx q[4];\\npauli_140708997438224(YXYII) q[0],q[1],q[2],q[3],q[4];\\n': 97,\n",
       " 'OPENQASM 2.0;\\ninclude \"qelib1.inc\";\\ngate pauli(param0) q0,q1,q2,q3,q4 { x q0; z q1; x q2; }\\ngate pauli_140708997143632(param0) q0,q1,q2,q3,q4 { z q0; z q1; x q2; }\\ngate pauli_140708997148624(param0) q0,q1,q2,q3,q4 { z q0; z q1; z q2; y q3; x q4; }\\ngate pauli_140708999229264(param0) q0,q1,q2,q3,q4 { z q0; z q1; z q2; y q3; x q4; }\\ngate pauli_140708999227472(param0) q0,q1,q2,q3,q4 { x q0; y q1; x q2; y q3; z q4; }\\ngate pauli_140708999442832(param0) q0,q1,q2,q3,q4 { x q0; y q1; x q2; y q3; z q4; }\\ngate pauli_140708997190160(param0) q0,q1,q2,q3,q4 { y q0; z q1; z q2; x q3; }\\ngate pauli_140708749276304(param0) q0,q1,q2,q3,q4 { y q0; z q1; y q2; y q3; }\\ngate gate__IYYZY q0,q1,q2,q3,q4 { pauli_140708749276304(IYYZY) q0,q1,q2,q3,q4; }\\ngate pauli_140708997303248(param0) q0,q1,q2,q3,q4 { x q0; z q2; z q3; x q4; }\\ngate pauli_140708749391632(param0) q0,q1,q2,q3,q4 { x q0; z q2; z q3; x q4; }\\ngate gate__XZZIX q0,q1,q2,q3,q4 { pauli_140708749391632(XZZIX) q0,q1,q2,q3,q4; }\\nqreg q[5];\\npauli(IIXZX) q[0],q[1],q[2],q[3],q[4];\\nh q[0];\\nx q[1];\\nz q[2];\\nid q[3];\\nz q[4];\\npauli_140708997143632(IIXZZ) q[0],q[1],q[2],q[3],q[4];\\nbarrier q[0],q[1],q[2],q[3],q[4];\\npauli_140708997148624(XYZZZ) q[0],q[1],q[2],q[3],q[4];\\ncx q[2],q[4];\\npauli_140708999229264(XYZZZ) q[0],q[1],q[2],q[3],q[4];\\nbarrier q[0],q[1],q[2],q[3],q[4];\\npauli_140708999227472(ZYXYX) q[0],q[1],q[2],q[3],q[4];\\nid q[0];\\nx q[1];\\nid q[2];\\nh q[3];\\ns q[4];\\npauli_140708999442832(ZYXYX) q[0],q[1],q[2],q[3],q[4];\\nbarrier q[0],q[1],q[2],q[3],q[4];\\npauli_140708997190160(IXZZY) q[0],q[1],q[2],q[3],q[4];\\ncx q[3],q[2];\\ngate__IYYZY q[0],q[1],q[2],q[3],q[4];\\nbarrier q[0],q[1],q[2],q[3],q[4];\\npauli_140708997303248(XZZIX) q[0],q[1],q[2],q[3],q[4];\\nx q[0];\\nh q[1];\\nx q[2];\\nid q[3];\\nx q[4];\\ngate__XZZIX q[0],q[1],q[2],q[3],q[4];\\n': 90}"
      ]
     },
     "execution_count": 101,
     "metadata": {},
     "output_type": "execute_result"
    }
   ],
   "source": [
    "random_choices_with_counts([circ.qasm() for circ in circuit_ensemble],1000)"
   ]
  },
  {
   "cell_type": "code",
   "execution_count": null,
   "metadata": {},
   "outputs": [
    {
     "name": "stdout",
     "output_type": "stream",
     "text": [
      "                   \n",
      "q_0: ──────────────\n",
      "     ┌────────────┐\n",
      "q_1: ┤0           ├\n",
      "     │            │\n",
      "q_2: ┤  Pauli(XX) ├\n",
      "     │            │\n",
      "q_3: ┤1           ├\n",
      "     └────────────┘\n",
      "q_4: ──────────────\n",
      "                   \n"
     ]
    }
   ],
   "source": [
    "me = qk.QuantumCircuit(5)\n",
    "me.pauli(pauli_string = \"XX\",qubits = [1,3])\n",
    "print(me)"
   ]
  },
  {
   "cell_type": "code",
   "execution_count": null,
   "metadata": {},
   "outputs": [
    {
     "ename": "QASM2ParseError",
     "evalue": "\"<input>:4,40: identifiers cannot start with capital letters except for the builtins 'U' and 'CX'\"",
     "output_type": "error",
     "traceback": [
      "\u001b[0;31m---------------------------------------------------------------------------\u001b[0m",
      "\u001b[0;31mQASM2ParseError\u001b[0m                           Traceback (most recent call last)",
      "\u001b[1;32m/root/Horizon_Quantum/ACES/dev_notebook.ipynb Cell 12\u001b[0m line \u001b[0;36m2\n\u001b[1;32m      <a href='vscode-notebook-cell://wsl%2Bubuntu/root/Horizon_Quantum/ACES/dev_notebook.ipynb#X24sdnNjb2RlLXJlbW90ZQ%3D%3D?line=0'>1</a>\u001b[0m qasm_str \u001b[39m=\u001b[39m circuit_ensemble[\u001b[39m0\u001b[39m]\u001b[39m.\u001b[39mqasm()\n\u001b[0;32m----> <a href='vscode-notebook-cell://wsl%2Bubuntu/root/Horizon_Quantum/ACES/dev_notebook.ipynb#X24sdnNjb2RlLXJlbW90ZQ%3D%3D?line=1'>2</a>\u001b[0m qk\u001b[39m.\u001b[39;49mQuantumCircuit\u001b[39m.\u001b[39;49mfrom_qasm_str(qasm_str)\n",
      "File \u001b[0;32m~/miniconda3/envs/ACES/lib/python3.11/site-packages/qiskit/circuit/quantumcircuit.py:2437\u001b[0m, in \u001b[0;36mQuantumCircuit.from_qasm_str\u001b[0;34m(qasm_str)\u001b[0m\n\u001b[1;32m   2434\u001b[0m \u001b[39m# pylint: disable=cyclic-import\u001b[39;00m\n\u001b[1;32m   2435\u001b[0m \u001b[39mfrom\u001b[39;00m \u001b[39mqiskit\u001b[39;00m \u001b[39mimport\u001b[39;00m qasm2\n\u001b[0;32m-> 2437\u001b[0m \u001b[39mreturn\u001b[39;00m qasm2\u001b[39m.\u001b[39;49mloads(\n\u001b[1;32m   2438\u001b[0m     qasm_str,\n\u001b[1;32m   2439\u001b[0m     include_path\u001b[39m=\u001b[39;49mqasm2\u001b[39m.\u001b[39;49mLEGACY_INCLUDE_PATH,\n\u001b[1;32m   2440\u001b[0m     custom_instructions\u001b[39m=\u001b[39;49mqasm2\u001b[39m.\u001b[39;49mLEGACY_CUSTOM_INSTRUCTIONS,\n\u001b[1;32m   2441\u001b[0m     custom_classical\u001b[39m=\u001b[39;49mqasm2\u001b[39m.\u001b[39;49mLEGACY_CUSTOM_CLASSICAL,\n\u001b[1;32m   2442\u001b[0m     strict\u001b[39m=\u001b[39;49m\u001b[39mFalse\u001b[39;49;00m,\n\u001b[1;32m   2443\u001b[0m )\n",
      "File \u001b[0;32m~/miniconda3/envs/ACES/lib/python3.11/site-packages/qiskit/qasm2/__init__.py:604\u001b[0m, in \u001b[0;36mloads\u001b[0;34m(string, include_path, custom_instructions, custom_classical, strict)\u001b[0m\n\u001b[1;32m    588\u001b[0m \u001b[39m\u001b[39m\u001b[39m\"\"\"Parse an OpenQASM 2 program from a string into a :class:`.QuantumCircuit`.\u001b[39;00m\n\u001b[1;32m    589\u001b[0m \n\u001b[1;32m    590\u001b[0m \u001b[39mArgs:\u001b[39;00m\n\u001b[0;32m   (...)\u001b[0m\n\u001b[1;32m    601\u001b[0m \u001b[39m    A circuit object representing the same OpenQASM 2 program.\u001b[39;00m\n\u001b[1;32m    602\u001b[0m \u001b[39m\"\"\"\u001b[39;00m\n\u001b[1;32m    603\u001b[0m custom_instructions \u001b[39m=\u001b[39m \u001b[39mlist\u001b[39m(custom_instructions)\n\u001b[0;32m--> 604\u001b[0m \u001b[39mreturn\u001b[39;00m _parse\u001b[39m.\u001b[39;49mfrom_bytecode(\n\u001b[1;32m    605\u001b[0m     _qasm2\u001b[39m.\u001b[39;49mbytecode_from_string(\n\u001b[1;32m    606\u001b[0m         string,\n\u001b[1;32m    607\u001b[0m         [_normalize_path(path) \u001b[39mfor\u001b[39;49;00m path \u001b[39min\u001b[39;49;00m include_path],\n\u001b[1;32m    608\u001b[0m         [\n\u001b[1;32m    609\u001b[0m             _qasm2\u001b[39m.\u001b[39;49mCustomInstruction(x\u001b[39m.\u001b[39;49mname, x\u001b[39m.\u001b[39;49mnum_params, x\u001b[39m.\u001b[39;49mnum_qubits, x\u001b[39m.\u001b[39;49mbuiltin)\n\u001b[1;32m    610\u001b[0m             \u001b[39mfor\u001b[39;49;00m x \u001b[39min\u001b[39;49;00m custom_instructions\n\u001b[1;32m    611\u001b[0m         ],\n\u001b[1;32m    612\u001b[0m         \u001b[39mtuple\u001b[39;49m(custom_classical),\n\u001b[1;32m    613\u001b[0m         strict,\n\u001b[1;32m    614\u001b[0m     ),\n\u001b[1;32m    615\u001b[0m     custom_instructions,\n\u001b[1;32m    616\u001b[0m )\n",
      "File \u001b[0;32m~/miniconda3/envs/ACES/lib/python3.11/site-packages/qiskit/qasm2/parse.py:214\u001b[0m, in \u001b[0;36mfrom_bytecode\u001b[0;34m(bytecode, custom_instructions)\u001b[0m\n\u001b[1;32m    211\u001b[0m \u001b[39m# Pull this out as an explicit iterator so we can manually advance the loop in `DeclareGate`\u001b[39;00m\n\u001b[1;32m    212\u001b[0m \u001b[39m# contexts easily.\u001b[39;00m\n\u001b[1;32m    213\u001b[0m bc \u001b[39m=\u001b[39m \u001b[39miter\u001b[39m(bytecode)\n\u001b[0;32m--> 214\u001b[0m \u001b[39mfor\u001b[39;49;00m op \u001b[39min\u001b[39;49;00m bc:\n\u001b[1;32m    215\u001b[0m     \u001b[39m# We have to check `op.opcode` so many times, it's worth pulling out the extra attribute\u001b[39;49;00m\n\u001b[1;32m    216\u001b[0m     \u001b[39m# access.  We should check the opcodes in order of their likelihood to be in the OQ2 program\u001b[39;49;00m\n\u001b[1;32m    217\u001b[0m     \u001b[39m# for speed.  Gate applications are by far the most common for long programs.  This function\u001b[39;49;00m\n\u001b[1;32m    218\u001b[0m     \u001b[39m# is deliberately long and does not use hashmaps or function lookups for speed in\u001b[39;49;00m\n\u001b[1;32m    219\u001b[0m     \u001b[39m# Python-space.\u001b[39;49;00m\n\u001b[1;32m    220\u001b[0m     opcode \u001b[39m=\u001b[39;49m op\u001b[39m.\u001b[39;49mopcode\n\u001b[1;32m    221\u001b[0m     \u001b[39m# `OpCode` is an `enum` in Rust, but its instances don't have the same singleton property as\u001b[39;49;00m\n\u001b[1;32m    222\u001b[0m     \u001b[39m# Python `enum.Enum` objects.\u001b[39;49;00m\n",
      "\u001b[0;31mQASM2ParseError\u001b[0m: \"<input>:4,40: identifiers cannot start with capital letters except for the builtins 'U' and 'CX'\""
     ]
    }
   ],
   "source": [
    "qasm_str = circuit_ensemble[0].qasm()\n",
    "qk.QuantumCircuit.from_qasm_str(qasm_str)"
   ]
  }
 ],
 "metadata": {
  "kernelspec": {
   "display_name": "Horizon_Quantum",
   "language": "python",
   "name": "python3"
  },
  "language_info": {
   "codemirror_mode": {
    "name": "ipython",
    "version": 3
   },
   "file_extension": ".py",
   "mimetype": "text/x-python",
   "name": "python",
   "nbconvert_exporter": "python",
   "pygments_lexer": "ipython3",
   "version": "3.11.5"
  }
 },
 "nbformat": 4,
 "nbformat_minor": 2
}
