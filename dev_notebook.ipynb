{
 "cells": [
  {
   "cell_type": "code",
   "execution_count": 109,
   "metadata": {},
   "outputs": [],
   "source": [
    "import numpy as np\n",
    "import matplotlib.pyplot as plt\n",
    "import qiskit as qk\n",
    "import random\n",
    "\n",
    "from generator import generateCliffordCircuit\n",
    "# from execution.transpiler import transpileListToQiskitCircuit"
   ]
  },
  {
   "cell_type": "code",
   "execution_count": 96,
   "metadata": {},
   "outputs": [],
   "source": [
    "def stringToQiskitSingleGate(gateString, qiskitCir, whichQubit):\n",
    "    if gateString == 'I':\n",
    "        qiskitCir.id(whichQubit)\n",
    "    elif gateString == 'X':\n",
    "        qiskitCir.x(whichQubit)\n",
    "    elif gateString == 'Y':\n",
    "        qiskitCir.y(whichQubit)\n",
    "    elif gateString == 'Z':\n",
    "        qiskitCir.z(whichQubit)\n",
    "    elif gateString == 'H':\n",
    "        qiskitCir.h(whichQubit)\n",
    "    elif gateString == 'S':\n",
    "        qiskitCir.s(whichQubit)\n",
    "        \n",
    "def transpileListToQiskitCircuit(cir):\n",
    "    depth = len(cir)\n",
    "    width = len(cir[0])\n",
    "    qiskitCir = qk.QuantumCircuit(width)\n",
    "    for d in range(width):\n",
    "        if d % 2 == 0:\n",
    "            for w in range(width):\n",
    "                singleGate = cir[d][w]\n",
    "                stringToQiskitSingleGate(singleGate, qiskitCir, w)\n",
    "            if d != width - 1:\n",
    "                qiskitCir.barrier()\n",
    "        else:\n",
    "            c = cir[d].index('CNOT_C')\n",
    "            t = cir[d].index('CNOT_T')\n",
    "            qiskitCir.cx(c, t)\n",
    "            if d != width - 1:\n",
    "                qiskitCir.barrier()\n",
    "    return qiskitCir"
   ]
  },
  {
   "cell_type": "code",
   "execution_count": 98,
   "metadata": {},
   "outputs": [
    {
     "name": "stdout",
     "output_type": "stream",
     "text": [
      "[['I', 'H', 'I', 'X', 'I'], ['CNOT_T', 'I', 'I', 'CNOT_C', 'I'], ['H', 'S', 'Z', 'X', 'I'], ['CNOT_T', 'I', 'CNOT_C', 'I', 'I'], ['Z', 'S', 'X', 'S', 'X']]\n",
      "     ┌───┐ ░ ┌───┐ ░ ┌───┐ ░ ┌───┐ ░ ┌───┐\n",
      "q_0: ┤ I ├─░─┤ X ├─░─┤ H ├─░─┤ X ├─░─┤ Z ├\n",
      "     ├───┤ ░ └─┬─┘ ░ ├───┤ ░ └─┬─┘ ░ ├───┤\n",
      "q_1: ┤ H ├─░───┼───░─┤ S ├─░───┼───░─┤ S ├\n",
      "     ├───┤ ░   │   ░ ├───┤ ░   │   ░ ├───┤\n",
      "q_2: ┤ I ├─░───┼───░─┤ Z ├─░───■───░─┤ X ├\n",
      "     ├───┤ ░   │   ░ ├───┤ ░       ░ ├───┤\n",
      "q_3: ┤ X ├─░───■───░─┤ X ├─░───────░─┤ S ├\n",
      "     ├───┤ ░       ░ ├───┤ ░       ░ ├───┤\n",
      "q_4: ┤ I ├─░───────░─┤ I ├─░───────░─┤ X ├\n",
      "     └───┘ ░       ░ └───┘ ░       ░ └───┘\n"
     ]
    }
   ],
   "source": [
    "width = 5 # num_qubits\n",
    "depth = 5 # number of layers in the circuit (easy + hard)\n",
    "singleGateSet = ['X', 'H', 'Z', 'I', 'S']\n",
    "doubleGateSet = ['CNOT_C', 'CNOT_T']\n",
    "twirlingGateSet = ['X','Y' 'Z', 'I']\n",
    "\n",
    "circuit = generateCliffordCircuit(width, depth, singleGateSet, doubleGateSet)\n",
    "qiskitCircuit = transpileListToQiskitCircuit(circuit)\n",
    "print(circuit)\n",
    "if depth < 10:\n",
    "    print(qiskitCircuit)"
   ]
  },
  {
   "cell_type": "code",
   "execution_count": 99,
   "metadata": {},
   "outputs": [],
   "source": [
    "def Clifford_Permute(cliff,pauli):\n",
    "    '''This function permutes the pauli operators according to the clifford group, so it computes \n",
    "    P' = C P C^T, where C is a clifford operator and P is a pauli operator.\n",
    "    Inputs: cliff - A Qiskit Circuit, Clifford, or Gate object.\n",
    "            pauli - A Qiskit Pauli object.\n",
    "    Outputs: new_pauli - A Qiskit Pauli object.'''\n",
    "\n",
    "    return pauli.evolve(cliff,frame=\"s\")\n"
   ]
  },
  {
   "cell_type": "code",
   "execution_count": 95,
   "metadata": {},
   "outputs": [
    {
     "data": {
      "text/plain": [
       "Pauli('Y')"
      ]
     },
     "execution_count": 95,
     "metadata": {},
     "output_type": "execute_result"
    }
   ],
   "source": [
    "Clifford_Permute(qiskitCircuit.data[3].operation, qk.quantum_info.Pauli('X'))"
   ]
  },
  {
   "cell_type": "code",
   "execution_count": 80,
   "metadata": {},
   "outputs": [
    {
     "data": {
      "text/plain": [
       "Pauli('YYIYX')"
      ]
     },
     "execution_count": 80,
     "metadata": {},
     "output_type": "execute_result"
    }
   ],
   "source": [
    "me = qk.quantum_info.Pauli(\"Y\"*width)\n",
    "Clifford_Permute(qiskitCircuit,me)"
   ]
  },
  {
   "cell_type": "code",
   "execution_count": 103,
   "metadata": {},
   "outputs": [],
   "source": [
    "def split_circuit_by_barrier(circuit):\n",
    "    qasm = circuit.qasm()\n",
    "    prelude = []\n",
    "    circuits = [[]]\n",
    "    for line in qasm.splitlines():\n",
    "        if any([line.startswith(t) for t in ['OPENQASM', 'include', 'qreg', 'creg']]):\n",
    "            prelude.append(line)\n",
    "        elif line.startswith('barrier'):\n",
    "            circuits.append([])\n",
    "        else:\n",
    "            circuits[-1].append(line)\n",
    "    circuits_with_prelude = [prelude+circuit for circuit in circuits]\n",
    "    for circuit_with_prelude in circuits_with_prelude:\n",
    "        yield qk.QuantumCircuit.from_qasm_str('\\n'.join(circuit_with_prelude))\n",
    "\n",
    "# for subcircuit in (split_circuit_by_barrier(qiskitCircuit)):\n",
    "#     print(subcircuit)"
   ]
  },
  {
   "cell_type": "code",
   "execution_count": 141,
   "metadata": {},
   "outputs": [],
   "source": [
    "def G_twirling(circuit):\n",
    "    '''This function performs G-twirling on a circuit. It randomly chooses a Pauli from {X,Y,Z,I} and prepends it before a layer, then appends P'=CPC^T after the layer.}\n",
    "    Inputs: circuit - A Qiskit Circuit object.\n",
    "    Outputs: new_circuit - A Qiskit Circuit object.'''\n",
    "    num_qubits = circuit.num_qubits\n",
    "    new_circuit = qk.QuantumCircuit(num_qubits)\n",
    "    for subcircuit in (split_circuit_by_barrier(new_circuit)):\n",
    "        pauli = qk.quantum_info.Pauli(''.join(random.choice([\"X\",\"Y\",\"Z\",\"I\"]) for _ in range(num_qubits)))\n",
    "        new_circuit = new_circuit.compose(pauli.to_instruction(),qubits=range(num_qubits))\n",
    "        new_circuit = new_circuit.compose(subcircuit,qubits=range(num_qubits))\n",
    "        new_circuit = new_circuit.compose(Clifford_Permute(subcircuit,pauli).to_instruction(),qubits=range(num_qubits))\n",
    "\n",
    "    return new_circuit\n"
   ]
  },
  {
   "cell_type": "code",
   "execution_count": 142,
   "metadata": {},
   "outputs": [
    {
     "data": {
      "image/png": "[encoded data removed]",
      "text/plain": [
       "<Figure size 454.719x451.5 with 1 Axes>"
      ]
     },
     "execution_count": 142,
     "metadata": {},
     "output_type": "execute_result"
    }
   ],
   "source": [
    "G_twirling(qiskitCircuit).draw(output='mpl')"
   ]
  },
  {
   "cell_type": "code",
   "execution_count": 132,
   "metadata": {},
   "outputs": [
    {
     "data": {
      "text/html": [
       "<pre style=\"word-wrap: normal;white-space: pre;background: #fff0;line-height: 1.1;font-family: &quot;Courier New&quot;,Courier,monospace\">     ┌───────────────┐\n",
       "q_0: ┤0              ├\n",
       "     │               │\n",
       "q_1: ┤1              ├\n",
       "     │               │\n",
       "q_2: ┤2 Pauli(YXZYY) ├\n",
       "     │               │\n",
       "q_3: ┤3              ├\n",
       "     │               │\n",
       "q_4: ┤4              ├\n",
       "     └───────────────┘</pre>"
      ],
      "text/plain": [
       "     ┌───────────────┐\n",
       "q_0: ┤0              ├\n",
       "     │               │\n",
       "q_1: ┤1              ├\n",
       "     │               │\n",
       "q_2: ┤2 Pauli(YXZYY) ├\n",
       "     │               │\n",
       "q_3: ┤3              ├\n",
       "     │               │\n",
       "q_4: ┤4              ├\n",
       "     └───────────────┘"
      ]
     },
     "execution_count": 132,
     "metadata": {},
     "output_type": "execute_result"
    }
   ],
   "source": [
    "pauli = qk.quantum_info.Pauli(''.join(random.choice([\"X\",\"Y\",\"Z\",\"I\"]) for _ in range(5)))\n",
    "c = qk.QuantumCircuit(5).compose(pauli.to_instruction())\n",
    "c.draw()"
   ]
  },
  {
   "cell_type": "code",
   "execution_count": null,
   "metadata": {},
   "outputs": [],
   "source": []
  }
 ],
 "metadata": {
  "kernelspec": {
   "display_name": "Horizon_Quantum",
   "language": "python",
   "name": "python3"
  },
  "language_info": {
   "codemirror_mode": {
    "name": "ipython",
    "version": 3
   },
   "file_extension": ".py",
   "mimetype": "text/x-python",
   "name": "python",
   "nbconvert_exporter": "python",
   "pygments_lexer": "ipython3",
   "version": "3.11.5"
  }
 },
 "nbformat": 4,
 "nbformat_minor": 2
}
