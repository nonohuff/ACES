{
 "cells": [
  {
   "cell_type": "code",
   "execution_count": 320,
   "metadata": {},
   "outputs": [],
   "source": [
    "import numpy as np\n",
    "import matplotlib.pyplot as plt\n",
    "import qiskit as qk\n",
    "from qiskit import QuantumCircuit, Aer, transpile, assemble\n",
    "from qiskit.visualization import plot_histogram\n",
    "import random\n",
    "from collections import Counter\n",
    "\n",
    "from generator import generateCliffordCircuit\n",
    "# from execution.transpiler import transpileListToQiskitCircuit"
   ]
  },
  {
   "cell_type": "code",
   "execution_count": 321,
   "metadata": {},
   "outputs": [],
   "source": [
    "def stringToQiskitSingleGate(gateString, qiskitCir, whichQubit):\n",
    "    if gateString == 'I':\n",
    "        qiskitCir.id(whichQubit)\n",
    "    elif gateString == 'X':\n",
    "        qiskitCir.x(whichQubit)\n",
    "    elif gateString == 'Y':\n",
    "        qiskitCir.y(whichQubit)\n",
    "    elif gateString == 'Z':\n",
    "        qiskitCir.z(whichQubit)\n",
    "    elif gateString == 'H':\n",
    "        qiskitCir.h(whichQubit)\n",
    "    elif gateString == 'S':\n",
    "        qiskitCir.s(whichQubit)\n",
    "        \n",
    "def transpileListToQiskitCircuit(cir):\n",
    "    depth = len(cir)\n",
    "    width = len(cir[0])\n",
    "    qiskitCir = qk.QuantumCircuit(width)\n",
    "    for d in range(width):\n",
    "        if d % 2 == 0:\n",
    "            for w in range(width):\n",
    "                singleGate = cir[d][w]\n",
    "                stringToQiskitSingleGate(singleGate, qiskitCir, w)\n",
    "            if d != width - 1:\n",
    "                qiskitCir.barrier()\n",
    "        else:\n",
    "            c = cir[d].index('CNOT_C')\n",
    "            t = cir[d].index('CNOT_T')\n",
    "            qiskitCir.cx(c, t)\n",
    "            if d != width - 1:\n",
    "                qiskitCir.barrier()\n",
    "    return qiskitCir"
   ]
  },
  {
   "cell_type": "code",
   "execution_count": 322,
   "metadata": {},
   "outputs": [
    {
     "name": "stdout",
     "output_type": "stream",
     "text": [
      "[['I', 'Z', 'I', 'Z', 'Z'], ['I', 'I', 'I', 'CNOT_T', 'CNOT_C'], ['I', 'Z', 'H', 'H', 'X'], ['CNOT_T', 'I', 'CNOT_C', 'I', 'I'], ['H', 'I', 'X', 'H', 'H']]\n",
      "     ┌───┐ ░       ░ ┌───┐ ░ ┌───┐ ░ ┌───┐\n",
      "q_0: ┤ I ├─░───────░─┤ I ├─░─┤ X ├─░─┤ H ├\n",
      "     ├───┤ ░       ░ ├───┤ ░ └─┬─┘ ░ ├───┤\n",
      "q_1: ┤ Z ├─░───────░─┤ Z ├─░───┼───░─┤ I ├\n",
      "     ├───┤ ░       ░ ├───┤ ░   │   ░ ├───┤\n",
      "q_2: ┤ I ├─░───────░─┤ H ├─░───■───░─┤ X ├\n",
      "     ├───┤ ░ ┌───┐ ░ ├───┤ ░       ░ ├───┤\n",
      "q_3: ┤ Z ├─░─┤ X ├─░─┤ H ├─░───────░─┤ H ├\n",
      "     ├───┤ ░ └─┬─┘ ░ ├───┤ ░       ░ ├───┤\n",
      "q_4: ┤ Z ├─░───■───░─┤ X ├─░───────░─┤ H ├\n",
      "     └───┘ ░       ░ └───┘ ░       ░ └───┘\n"
     ]
    }
   ],
   "source": [
    "width = 5 # num_qubits\n",
    "depth = 5 # number of layers in the circuit (easy + hard)\n",
    "singleGateSet = ['X', 'H', 'Z', 'I', 'S']\n",
    "doubleGateSet = ['CNOT_C', 'CNOT_T']\n",
    "twirlingGateSet = ['X','Y' 'Z', 'I']\n",
    "\n",
    "circuit = generateCliffordCircuit(width, depth, singleGateSet, doubleGateSet)\n",
    "qiskitCircuit = transpileListToQiskitCircuit(circuit)\n",
    "print(circuit)\n",
    "if depth < 10:\n",
    "    print(qiskitCircuit)"
   ]
  },
  {
   "cell_type": "code",
   "execution_count": 323,
   "metadata": {},
   "outputs": [],
   "source": [
    "def Clifford_Permute(cliff,pauli,qargs = None):\n",
    "    '''This function permutes the pauli operators according to the clifford group, so it computes \n",
    "    P' = C P C^T, where C is a clifford operator and P is a pauli operator.\n",
    "    Inputs: cliff - A Qiskit Circuit, Clifford, or Gate object.\n",
    "            pauli - A Qiskit Pauli object.\n",
    "    Outputs: new_pauli - A Qiskit Pauli object.'''\n",
    "\n",
    "    if type(pauli) == qk.quantum_info.Pauli:\n",
    "        input_pauli_string = ''.join(char for char in pauli.to_label() if char.isalpha())\n",
    "        input_pauli_string = input_pauli_string[::-1]\n",
    "        p = qk.quantum_info.Pauli(input_pauli_string)\n",
    "    elif type(pauli) == str:\n",
    "        input_pauli_string = ''.join(char for char in pauli if char.isalpha())\n",
    "        input_pauli_string = input_pauli_string[::-1]\n",
    "        p = qk.quantum_info.Pauli(input_pauli_string)\n",
    "\n",
    "    return p.evolve(cliff,qargs,frame=\"s\")\n"
   ]
  },
  {
   "cell_type": "code",
   "execution_count": 324,
   "metadata": {},
   "outputs": [
    {
     "data": {
      "text/plain": [
       "Pauli('-ZIZXZ')"
      ]
     },
     "execution_count": 324,
     "metadata": {},
     "output_type": "execute_result"
    }
   ],
   "source": [
    "Clifford_Permute(qiskitCircuit, qk.quantum_info.Pauli('X'*width))"
   ]
  },
  {
   "cell_type": "code",
   "execution_count": 325,
   "metadata": {},
   "outputs": [],
   "source": [
    "def split_circuit_by_barrier(circuit):\n",
    "    qasm = circuit.qasm()\n",
    "    prelude = []\n",
    "    circuits = [[]]\n",
    "    for line in qasm.splitlines():\n",
    "        if any([line.startswith(t) for t in ['OPENQASM', 'include', 'qreg', 'creg']]):\n",
    "            prelude.append(line)\n",
    "        elif line.startswith('barrier'):\n",
    "            circuits.append([])\n",
    "        else:\n",
    "            circuits[-1].append(line)\n",
    "    circuits_with_prelude = [prelude+circuit for circuit in circuits]\n",
    "    for circuit_with_prelude in circuits_with_prelude:\n",
    "        yield qk.QuantumCircuit.from_qasm_str('\\n'.join(circuit_with_prelude))\n",
    "\n",
    "# for subcircuit in (split_circuit_by_barrier(qiskitCircuit)):\n",
    "#     print(subcircuit)"
   ]
  },
  {
   "cell_type": "code",
   "execution_count": 326,
   "metadata": {},
   "outputs": [],
   "source": [
    "def G_twirling(circuit):\n",
    "    '''This function performs G-twirling on a circuit. It randomly chooses a Pauli from {X,Y,Z,I} and prepends it before a layer, then appends P'=CPC^T after the layer.}\n",
    "    Inputs: circuit - A Qiskit Circuit object.\n",
    "    Outputs: new_circuit - A Qiskit Circuit object.'''\n",
    "    num_qubits = circuit.num_qubits\n",
    "    new_circuit = qk.QuantumCircuit(num_qubits)\n",
    "    for index, subcircuit in enumerate(split_circuit_by_barrier(circuit)):\n",
    "        # if len(subcircuit.data) == 1:\n",
    "        #     operated_qubits = [subcircuit.find_bit(q).index for q in subcircuit.data[0].qubits]\n",
    "        # else:\n",
    "        #     operated_qubits = list(range(num_qubits))\n",
    "        pauli_str = ''.join(random.choice([\"X\",\"Y\",\"Z\",\"I\"]) for _ in range(num_qubits))\n",
    "        pauli = qk.quantum_info.Pauli(pauli_str[::-1])\n",
    "        new_circuit = new_circuit.compose(pauli,qubits=range(num_qubits))\n",
    "        new_circuit = new_circuit.compose(subcircuit,qubits=range(num_qubits))\n",
    "        new_circuit = new_circuit.compose(Clifford_Permute(subcircuit,pauli).to_instruction(),qubits = range(num_qubits))\n",
    "        if index != len(list(split_circuit_by_barrier(circuit)))-1:\n",
    "            new_circuit.barrier()\n",
    "    return new_circuit\n"
   ]
  },
  {
   "cell_type": "code",
   "execution_count": 327,
   "metadata": {},
   "outputs": [
    {
     "data": {
      "text/html": [
       "<pre style=\"word-wrap: normal;white-space: pre;background: #fff0;line-height: 1.1;font-family: &quot;Courier New&quot;,Courier,monospace\">     ┌───────────────┐┌───┐┌─────────┐ ░ ┌───────────────┐     »\n",
       "q_0: ┤0              ├┤ I ├┤0        ├─░─┤0              ├─────»\n",
       "     │               │├───┤│         │ ░ │               │     »\n",
       "q_1: ┤1              ├┤ Z ├┤1        ├─░─┤1              ├─────»\n",
       "     │               │├───┤│         │ ░ │               │     »\n",
       "q_2: ┤2 Pauli(IXXZZ) ├┤ I ├┤2 -ZZXXI ├─░─┤2 Pauli(IZZXY) ├─────»\n",
       "     │               │├───┤│         │ ░ │               │┌───┐»\n",
       "q_3: ┤3              ├┤ Z ├┤3        ├─░─┤3              ├┤ X ├»\n",
       "     │               │├───┤│         │ ░ │               │└─┬─┘»\n",
       "q_4: ┤4              ├┤ Z ├┤4        ├─░─┤4              ├──■──»\n",
       "     └───────────────┘└───┘└─────────┘ ░ └───────────────┘     »\n",
       "«     ┌───────────────┐ ░ ┌───────────────┐┌───┐┌─────────┐ ░ ┌───────────────┐»\n",
       "«q_0: ┤0              ├─░─┤0              ├┤ I ├┤0        ├─░─┤0              ├»\n",
       "«     │               │ ░ │               │├───┤│         │ ░ │               │»\n",
       "«q_1: ┤1              ├─░─┤1              ├┤ Z ├┤1        ├─░─┤1              ├»\n",
       "«     │               │ ░ │               │├───┤│         │ ░ │               │»\n",
       "«q_2: ┤2 Pauli(YIZZI) ├─░─┤2 Pauli(ZXXXX) ├┤ H ├┤2 -XZZXZ ├─░─┤2 Pauli(ZZXYZ) ├»\n",
       "«     │               │ ░ │               │├───┤│         │ ░ │               │»\n",
       "«q_3: ┤3              ├─░─┤3              ├┤ H ├┤3        ├─░─┤3              ├»\n",
       "«     │               │ ░ │               │├───┤│         │ ░ │               │»\n",
       "«q_4: ┤4              ├─░─┤4              ├┤ X ├┤4        ├─░─┤4              ├»\n",
       "«     └───────────────┘ ░ └───────────────┘└───┘└─────────┘ ░ └───────────────┘»\n",
       "«     ┌───┐┌─────────┐ ░ ┌───────────────┐┌───┐┌───────────────┐\n",
       "«q_0: ┤ X ├┤0        ├─░─┤0              ├┤ H ├┤0              ├\n",
       "«     └─┬─┘│         │ ░ │               │├───┤│               │\n",
       "«q_1: ──┼──┤1        ├─░─┤1              ├┤ I ├┤1              ├\n",
       "«       │  │         │ ░ │               │├───┤│               │\n",
       "«q_2: ──■──┤2 -ZYYZY ├─░─┤2 Pauli(YZYXI) ├┤ X ├┤2 Pauli(IZYZY) ├\n",
       "«          │         │ ░ │               │├───┤│               │\n",
       "«q_3: ─────┤3        ├─░─┤3              ├┤ H ├┤3              ├\n",
       "«          │         │ ░ │               │├───┤│               │\n",
       "«q_4: ─────┤4        ├─░─┤4              ├┤ H ├┤4              ├\n",
       "«          └─────────┘ ░ └───────────────┘└───┘└───────────────┘</pre>"
      ],
      "text/plain": [
       "     ┌───────────────┐┌───┐┌─────────┐ ░ ┌───────────────┐     »\n",
       "q_0: ┤0              ├┤ I ├┤0        ├─░─┤0              ├─────»\n",
       "     │               │├───┤│         │ ░ │               │     »\n",
       "q_1: ┤1              ├┤ Z ├┤1        ├─░─┤1              ├─────»\n",
       "     │               │├───┤│         │ ░ │               │     »\n",
       "q_2: ┤2 Pauli(IXXZZ) ├┤ I ├┤2 -ZZXXI ├─░─┤2 Pauli(IZZXY) ├─────»\n",
       "     │               │├───┤│         │ ░ │               │┌───┐»\n",
       "q_3: ┤3              ├┤ Z ├┤3        ├─░─┤3              ├┤ X ├»\n",
       "     │               │├───┤│         │ ░ │               │└─┬─┘»\n",
       "q_4: ┤4              ├┤ Z ├┤4        ├─░─┤4              ├──■──»\n",
       "     └───────────────┘└───┘└─────────┘ ░ └───────────────┘     »\n",
       "«     ┌───────────────┐ ░ ┌───────────────┐┌───┐┌─────────┐ ░ ┌───────────────┐»\n",
       "«q_0: ┤0              ├─░─┤0              ├┤ I ├┤0        ├─░─┤0              ├»\n",
       "«     │               │ ░ │               │├───┤│         │ ░ │               │»\n",
       "«q_1: ┤1              ├─░─┤1              ├┤ Z ├┤1        ├─░─┤1              ├»\n",
       "«     │               │ ░ │               │├───┤│         │ ░ │               │»\n",
       "«q_2: ┤2 Pauli(YIZZI) ├─░─┤2 Pauli(ZXXXX) ├┤ H ├┤2 -XZZXZ ├─░─┤2 Pauli(ZZXYZ) ├»\n",
       "«     │               │ ░ │               │├───┤│         │ ░ │               │»\n",
       "«q_3: ┤3              ├─░─┤3              ├┤ H ├┤3        ├─░─┤3              ├»\n",
       "«     │               │ ░ │               │├───┤│         │ ░ │               │»\n",
       "«q_4: ┤4              ├─░─┤4              ├┤ X ├┤4        ├─░─┤4              ├»\n",
       "«     └───────────────┘ ░ └───────────────┘└───┘└─────────┘ ░ └───────────────┘»\n",
       "«     ┌───┐┌─────────┐ ░ ┌───────────────┐┌───┐┌───────────────┐\n",
       "«q_0: ┤ X ├┤0        ├─░─┤0              ├┤ H ├┤0              ├\n",
       "«     └─┬─┘│         │ ░ │               │├───┤│               │\n",
       "«q_1: ──┼──┤1        ├─░─┤1              ├┤ I ├┤1              ├\n",
       "«       │  │         │ ░ │               │├───┤│               │\n",
       "«q_2: ──■──┤2 -ZYYZY ├─░─┤2 Pauli(YZYXI) ├┤ X ├┤2 Pauli(IZYZY) ├\n",
       "«          │         │ ░ │               │├───┤│               │\n",
       "«q_3: ─────┤3        ├─░─┤3              ├┤ H ├┤3              ├\n",
       "«          │         │ ░ │               │├───┤│               │\n",
       "«q_4: ─────┤4        ├─░─┤4              ├┤ H ├┤4              ├\n",
       "«          └─────────┘ ░ └───────────────┘└───┘└───────────────┘"
      ]
     },
     "execution_count": 327,
     "metadata": {},
     "output_type": "execute_result"
    }
   ],
   "source": [
    "G_twirling(qiskitCircuit).draw()"
   ]
  },
  {
   "cell_type": "code",
   "execution_count": 328,
   "metadata": {},
   "outputs": [],
   "source": [
    "circuit_ensemble = [G_twirling(qiskitCircuit) for _ in range(10)]\n",
    "# for circ in circuit_ensemble:\n",
    "#     print(circ)"
   ]
  },
  {
   "cell_type": "code",
   "execution_count": 329,
   "metadata": {},
   "outputs": [],
   "source": [
    "def random_choices_with_counts(items, n):\n",
    "    \"\"\"\n",
    "    Randomly choose with replacement n items from a list and return a dictionary\n",
    "    with the counts of each chosen item.\n",
    "    \n",
    "    Parameters:\n",
    "        items (list): List of items to choose from.\n",
    "        n (int): Number of items to choose.\n",
    "    \n",
    "    Returns:\n",
    "        dict: Dictionary with the counts of each chosen item.\n",
    "    \"\"\"\n",
    "    chosen_items = random.choices(items, k=n)\n",
    "    counts = Counter(chosen_items)\n",
    "    return dict(counts)"
   ]
  },
  {
   "cell_type": "code",
   "execution_count": 330,
   "metadata": {},
   "outputs": [],
   "source": [
    "def find_circuit_from_name(circuit_list,target_name):\n",
    "    # Find the circuit with the given name\n",
    "    found_circuit = None\n",
    "    for circuit in circuit_list:\n",
    "        if circuit.name == target_name:\n",
    "            found_circuit = circuit\n",
    "            break\n",
    "\n",
    "    # Check if the circuit was found\n",
    "    if found_circuit is not None:\n",
    "        # print(f\"Circuit with name '{target_name}' found:\")\n",
    "        # print(found_circuit)\n",
    "        return found_circuit\n",
    "    else:\n",
    "        print(f\"No circuit with name '{target_name}' found.\")\n",
    "        return found_circuit"
   ]
  },
  {
   "cell_type": "code",
   "execution_count": 331,
   "metadata": {},
   "outputs": [
    {
     "name": "stdout",
     "output_type": "stream",
     "text": [
      "                   \n",
      "q_0: ──────────────\n",
      "     ┌────────────┐\n",
      "q_1: ┤0           ├\n",
      "     │            │\n",
      "q_2: ┤  Pauli(XX) ├\n",
      "     │            │\n",
      "q_3: ┤1           ├\n",
      "     └────────────┘\n",
      "q_4: ──────────────\n",
      "                   \n"
     ]
    }
   ],
   "source": [
    "me = qk.QuantumCircuit(5)\n",
    "me.pauli(pauli_string = \"XX\",qubits = [1,3])\n",
    "print(me)"
   ]
  },
  {
   "cell_type": "code",
   "execution_count": 332,
   "metadata": {},
   "outputs": [
    {
     "data": {
      "text/plain": [
       "<qiskit.circuit.quantumcircuit.QuantumCircuit at 0x7fd643119450>"
      ]
     },
     "execution_count": 332,
     "metadata": {},
     "output_type": "execute_result"
    }
   ],
   "source": [
    "num_experiments = 1000\n",
    "freq_dict = random_choices_with_counts([circ.name for circ in circuit_ensemble],num_experiments)\n",
    "find_circuit_from_name(circuit_ensemble,list(freq_dict.keys())[0])"
   ]
  },
  {
   "cell_type": "code",
   "execution_count": 333,
   "metadata": {},
   "outputs": [],
   "source": [
    "def prep_circuit(input_pauli):\n",
    "    '''This function prepares the input state for eigenvalue sampling. It takes in a Pauli operator to be input into the circuit and outputs a circuit that prepares the state |psi+> or |psi-> from the input |0>^n, \n",
    "    where |psi+> and |psi-> are the eigenstates of the input Pauli operator.\n",
    "    Inputs: input_pauli - A Qiskit Pauli object or a string representing a Pauli operator.\n",
    "    Outputs: prep_circ - A Qiskit Circuit object which will prepare the state |psi+> or |psi-> from |0>^n, where |psi+> and |psi-> are the eigenstates of the input Pauli operator.\n",
    "    '''\n",
    "    # mapping for preparation circuit. The idea of the prep circuit is that we append it before the circuit to eigenvalue samp\n",
    "    # i.e. input the state where all qubits are zero 1000...0> into the prep circuit and then input it's ouput into the circu\n",
    "    # |0> -> ...\n",
    "    # H -> |+>\n",
    "    # XH -> |->\n",
    "    # HS -> |+i>\n",
    "    # XHS -> |-i>\n",
    "    # I -> |0> (no change)\n",
    "    # X -> |1>\n",
    "    if type(input_pauli) == str:\n",
    "        input_pauli_string = ''.join(char for char in input_pauli if char.isalpha()) # removes the phase from the Pauli string if present\n",
    "    elif type(input_pauli) == qk.quantum_info.Pauli:\n",
    "        input_pauli_string = ''.join(char for char in input_pauli.to_label() if char.isalpha()) # converts the Pauli to a string w/o phase\n",
    "        input_pauli_string = input_pauli_string[::-1] # reverses the string so that the first qubit is the first character in the string\n",
    "    \n",
    "    nontriv_indices = [index for index, char in enumerate(input_pauli_string) if char != 'I'] # finds the indices of the nontrivial Pauli gates\n",
    "\n",
    "    prep_circ = qk.QuantumCircuit(len(input_pauli_string))\n",
    "    p_eigenstate = [random.choice(range(2)) for i in nontriv_indices] # randomly chooses |psi+> (0) or |psi-> (1)\n",
    "    \n",
    "    for index, qubit in enumerate(nontriv_indices):\n",
    "        pauli_gate = input_pauli_string[qubit]\n",
    "        if pauli_gate == \"X\": # if the input Pauli is X\n",
    "            if p_eigenstate[index] == 0: # if the randomly chosen eigenvector is |+>\n",
    "                prep_circ.h(qubit)\n",
    "            elif p_eigenstate[index] == 1: # if the randomly chosen eigenvector is |->\n",
    "                prep_circ.x(qubit)\n",
    "                prep_circ.h(qubit)\n",
    "        elif pauli_gate == \"Y\": # if the input Pauli is Y\n",
    "            if p_eigenstate[index] == 0: # if the randomly chosen eigenvector is l+i>\n",
    "                prep_circ.h(qubit)\n",
    "                prep_circ.s(qubit)\n",
    "            elif p_eigenstate[index] == 1: # if the randomly chosen eigenvector is |-i>\n",
    "                prep_circ.x(qubit)\n",
    "                prep_circ.h(qubit)\n",
    "                prep_circ.s(qubit)\n",
    "        elif pauli_gate == \"Z\": # if the input Pauli is Z\n",
    "            # we don't need to append anything if the chosen eigenstate is 10>, since the input will already be in that state\n",
    "            if p_eigenstate[index] == 1: # if the randomly chosen eigenvector is\n",
    "                prep_circ.x(qubit)\n",
    "\n",
    "    p_in_eigenstate = sum(p_eigenstate) % 2\n",
    "    return prep_circ, p_in_eigenstate"
   ]
  },
  {
   "cell_type": "code",
   "execution_count": 334,
   "metadata": {},
   "outputs": [],
   "source": [
    "def measure_circuit(final_pauli):\n",
    "    if type(final_pauli) == str:\n",
    "        final_pauli_string = ''.join(char for char in final_pauli if char.isalpha()) # removes the phase from the Pauli string if present\n",
    "    elif type(final_pauli) == qk.quantum_info.Pauli:\n",
    "        final_pauli_string = ''.join(char for char in final_pauli.to_label() if char.isalpha()) # converts the Pauli to a string w/o phase\n",
    "        final_pauli_string = final_pauli_string[::-1] # reverses the string so that the first qubit is the first character in the string\n",
    "\n",
    "    nontriv_indices = [index for index, char in enumerate(final_pauli_string) if char != 'I'] # finds the indices of the nontrivial Pauli gates\n",
    "    nontriv_gates = [final_pauli_string[index] for index in nontriv_indices]\n",
    "\n",
    "    measurement_circ = qk.QuantumCircuit(len(final_pauli_string),len(nontriv_indices))\n",
    "    # On the measurement circ, we need to dagger the transforms used to prepare the prep circ to measure in the bases given by P'\n",
    "    for index, g in enumerate(nontriv_gates):\n",
    "        # print(index)\n",
    "        if g == \"X\":\n",
    "            measurement_circ.h(nontriv_indices[index]) # rotate into X basis\n",
    "            measurement_circ.measure(nontriv_indices[index],index) # then measure\n",
    "        elif g == \"Y\":\n",
    "            measurement_circ.sdg(nontriv_indices[index])\n",
    "            measurement_circ.h(nontriv_indices[index]) # S**-1 H rotates into Y basis\n",
    "            measurement_circ.measure(nontriv_indices[index],index) # then measure\n",
    "        elif g == \"Z\":\n",
    "            measurement_circ.measure(nontriv_indices[index],index) # measure\n",
    "\n",
    "    return measurement_circ"
   ]
  },
  {
   "cell_type": "code",
   "execution_count": 335,
   "metadata": {},
   "outputs": [
    {
     "name": "stdout",
     "output_type": "stream",
     "text": [
      "     ┌───┐┌───┐     \n",
      "q_0: ┤ X ├┤ H ├─────\n",
      "     ├───┤├───┤┌───┐\n",
      "q_1: ┤ X ├┤ H ├┤ S ├\n",
      "     └───┘└───┘└───┘\n",
      "q_2: ───────────────\n",
      "     ┌───┐          \n",
      "q_3: ┤ X ├──────────\n",
      "     ├───┤┌───┐     \n",
      "q_4: ┤ X ├┤ H ├─────\n",
      "     └───┘└───┘     \n",
      "      ┌───┐      ┌─┐      \n",
      "q_0: ─┤ H ├──────┤M├──────\n",
      "     ┌┴───┴┐┌───┐└╥┘   ┌─┐\n",
      "q_1: ┤ Sdg ├┤ H ├─╫────┤M├\n",
      "     └─────┘└───┘ ║    └╥┘\n",
      "q_2: ─────────────╫─────╫─\n",
      "       ┌─┐        ║     ║ \n",
      "q_3: ──┤M├────────╫─────╫─\n",
      "       └╥┘  ┌───┐ ║ ┌─┐ ║ \n",
      "q_4: ───╫───┤ H ├─╫─┤M├─╫─\n",
      "        ║   └───┘ ║ └╥┘ ║ \n",
      "c: 4/═══╩═════════╩══╩══╩═\n",
      "        2         0  3  1 \n",
      "Number of Classical Bits:  4\n"
     ]
    }
   ],
   "source": [
    "st = \"XYIZX\"\n",
    "b,c = prep_circuit(st)\n",
    "print(b)\n",
    "a = measure_circuit(st)\n",
    "print(a)\n",
    "print(\"Number of Classical Bits: \",a.num_clbits)"
   ]
  },
  {
   "cell_type": "code",
   "execution_count": 336,
   "metadata": {},
   "outputs": [],
   "source": [
    "def est_Lambda(input_pauli,circuit_ensemble,num_experiments):\n",
    "\n",
    "    if type(input_pauli) == str:\n",
    "        input_pauli_string = ''.join(char for char in input_pauli if char.isalpha()) # removes the phase from the Pauli string if present\n",
    "    elif type(input_pauli) == qk.quantum_info.Pauli:\n",
    "        input_pauli_string = ''.join(char for char in input_pauli.to_label() if char.isalpha()) # converts the Pauli to a string w/o phase\n",
    "        input_pauli_string = input_pauli_string[::-1] # reverses the string so that the first qubit is the first character in the string\n",
    "\n",
    "    freq_dict = random_choices_with_counts([circ.name for circ in circuit_ensemble],num_experiments)\n",
    "\n",
    "    eigenresults_dict = {(\"+\",\"+\"):0,(\"+\",\"-\"):0,(\"-\",\"+\"):0,(\"-\",\"-\"):0}\n",
    "    for circ_name in freq_dict:\n",
    "        circ = find_circuit_from_name(circuit_ensemble,circ_name)\n",
    "        num_shots = freq_dict[circ_name]\n",
    "        start_in_plus = random.randint(num_shots*.1, num_shots)\n",
    "        starter = [start_in_plus, num_shots - start_in_plus]\n",
    "        \n",
    "        p_in_eigenstate = 100\n",
    "        for i in [0,1]:\n",
    "            while p_in_eigenstate != i:\n",
    "                prep_circ,p_in_eigenstate = prep_circuit(input_pauli_string)\n",
    "        \n",
    "            if p_in_eigenstate == 0:\n",
    "                p_eigenstate = \"+\"\n",
    "            elif p_in_eigenstate == 1:\n",
    "                p_eigenstate = \"-\"\n",
    "            \n",
    "            prep_circ.barrier()\n",
    "\n",
    "            measure_circ = measure_circuit(Clifford_Permute(circ,input_pauli_string))\n",
    "\n",
    "            temp_circuit = prep_circ.compose(circ)\n",
    "            temp_circuit.barrier()\n",
    "            full_circuit = temp_circuit.compose(measure_circ)\n",
    "            # print(full_circuit)\n",
    "        \n",
    "            # Simulate the circuit with the stabilizer simulator\n",
    "            simulator = Aer.get_backend('aer_simulator', method='stabilizer')\n",
    "            result = qk.execute(full_circuit, backend = simulator, shots = starter[i]).result()\n",
    "            counts = result.get_counts()\n",
    "\n",
    "            for r in counts:\n",
    "                parity = sum(int(x) for x in r if x.isdigit()) % 2\n",
    "                if parity == 0:\n",
    "                    pp_eigenstate = \"+\"\n",
    "                elif parity == 1:\n",
    "                    pp_eigenstate= \"-\"\n",
    "\n",
    "                if (p_eigenstate,pp_eigenstate) not in eigenresults_dict:\n",
    "                    eigenresults_dict[(p_eigenstate,pp_eigenstate)] = counts[r]\n",
    "                else:\n",
    "                    eigenresults_dict[(p_eigenstate,pp_eigenstate)] += counts[r]\n",
    "\n",
    "    # print(sum(eigenresults_dict.values()))\n",
    "    # Lambda_est = ((eigenresults_dict[(\"+\",\"+\")] - eigenresults_dict[(\"+\",\"-\")])/(eigenresults_dict[(\"+\",\"+\")] + eigenresults_dict[(\"+\",\"-\")]) - (eigenresults_dict[(\"-\",\"+\")] - eigenresults_dict[(\"-\",\"-\")])/(eigenresults_dict[(\"-\",\"+\")] + eigenresults_dict[(\"-\",\"-\")]))\n",
    "    Lambda_est = ((eigenresults_dict[(\"+\",\"+\")] - eigenresults_dict[(\"+\",\"-\")]) - (eigenresults_dict[(\"-\",\"+\")] - eigenresults_dict[(\"-\",\"-\")]))/sum(eigenresults_dict.values())\n",
    "\n",
    "    return Lambda_est"
   ]
  },
  {
   "cell_type": "code",
   "execution_count": 337,
   "metadata": {},
   "outputs": [
    {
     "name": "stdout",
     "output_type": "stream",
     "text": [
      "1.0\n"
     ]
    }
   ],
   "source": [
    "out = est_Lambda(st,[qiskitCircuit],1000)\n",
    "print(out)"
   ]
  },
  {
   "cell_type": "code",
   "execution_count": 338,
   "metadata": {},
   "outputs": [
    {
     "data": {
      "text/plain": [
       "Pauli('YYIYZ')"
      ]
     },
     "execution_count": 338,
     "metadata": {},
     "output_type": "execute_result"
    }
   ],
   "source": [
    "Clifford_Permute(qiskitCircuit, st)"
   ]
  },
  {
   "cell_type": "code",
   "execution_count": 339,
   "metadata": {},
   "outputs": [
    {
     "name": "stdout",
     "output_type": "stream",
     "text": [
      "     ┌───┐┌───┐      ░ ┌───┐ ░       ░ ┌───┐ ░ ┌───┐ ░ ┌───┐ ░ ┌─┐            »\n",
      "q_0: ┤ X ├┤ H ├──────░─┤ I ├─░───────░─┤ I ├─░─┤ X ├─░─┤ H ├─░─┤M├────────────»\n",
      "     ├───┤├───┤┌───┐ ░ ├───┤ ░       ░ ├───┤ ░ └─┬─┘ ░ ├───┤ ░ └╥┘┌─────┐┌───┐»\n",
      "q_1: ┤ X ├┤ H ├┤ S ├─░─┤ Z ├─░───────░─┤ Z ├─░───┼───░─┤ I ├─░──╫─┤ Sdg ├┤ H ├»\n",
      "     └───┘└───┘└───┘ ░ ├───┤ ░       ░ ├───┤ ░   │   ░ ├───┤ ░  ║ └─────┘└───┘»\n",
      "q_2: ────────────────░─┤ I ├─░───────░─┤ H ├─░───■───░─┤ X ├─░──╫─────────────»\n",
      "                     ░ ├───┤ ░ ┌───┐ ░ ├───┤ ░       ░ ├───┤ ░  ║ ┌─────┐┌───┐»\n",
      "q_3: ────────────────░─┤ Z ├─░─┤ X ├─░─┤ H ├─░───────░─┤ H ├─░──╫─┤ Sdg ├┤ H ├»\n",
      "     ┌───┐           ░ ├───┤ ░ └─┬─┘ ░ ├───┤ ░       ░ ├───┤ ░  ║ ├─────┤├───┤»\n",
      "q_4: ┤ H ├───────────░─┤ Z ├─░───■───░─┤ X ├─░───────░─┤ H ├─░──╫─┤ Sdg ├┤ H ├»\n",
      "     └───┘           ░ └───┘ ░       ░ └───┘ ░       ░ └───┘ ░  ║ └─────┘└───┘»\n",
      "c: 4/═══════════════════════════════════════════════════════════╩═════════════»\n",
      "                                                                0             »\n",
      "«              \n",
      "«q_0: ─────────\n",
      "«     ┌─┐      \n",
      "«q_1: ┤M├──────\n",
      "«     └╥┘      \n",
      "«q_2: ─╫───────\n",
      "«      ║ ┌─┐   \n",
      "«q_3: ─╫─┤M├───\n",
      "«      ║ └╥┘┌─┐\n",
      "«q_4: ─╫──╫─┤M├\n",
      "«      ║  ║ └╥┘\n",
      "«c: 4/═╩══╩══╩═\n",
      "«      1  2  3 \n",
      "Number of Classical Bits:  4\n",
      "0\n",
      "{'1111': 46, '0011': 54}\n",
      "Result(backend_name='aer_simulator', backend_version='0.13.1', qobj_id='', job_id='b3f2b814-292d-4f5f-bd81-6516a7103351', success=True, results=[ExperimentResult(shots=100, success=True, meas_level=2, data=ExperimentResultData(counts={'0xf': 46, '0x3': 54}), header=QobjExperimentHeader(creg_sizes=[['c', 4]], global_phase=0.0, memory_slots=4, n_qubits=5, name='circuit-16520', qreg_sizes=[['q', 5]], metadata={}), status=DONE, seed_simulator=3635782847, metadata={'time_taken': 0.000575607, 'num_bind_params': 1, 'parallel_state_update': 8, 'parallel_shots': 1, 'required_memory_mb': 0, 'input_qubit_map': [[4, 4], [3, 3], [2, 2], [1, 1], [0, 0]], 'method': 'stabilizer', 'device': 'CPU', 'num_qubits': 5, 'sample_measure_time': 0.000194005, 'active_input_qubits': [0, 1, 2, 3, 4], 'num_clbits': 4, 'remapped_qubits': False, 'runtime_parameter_bind': False, 'max_memory_mb': 7817, 'noise': 'ideal', 'measure_sampling': True, 'batched_shots_optimization': False, 'fusion': {'enabled': False}}, time_taken=0.000575607)], date=2023-12-01T07:45:07.237846, status=COMPLETED, header=None, metadata={'time_taken_parameter_binding': 3.3665e-05, 'time_taken_execute': 0.000627771, 'omp_enabled': True, 'max_gpu_memory_mb': 0, 'max_memory_mb': 7817, 'parallel_experiments': 1}, time_taken=0.0024178028106689453)\n"
     ]
    }
   ],
   "source": [
    "count_dict = {0:0,1:0}\n",
    "for i in range(1):\n",
    "    full_circuit = qk.QuantumCircuit(qiskitCircuit.num_qubits)\n",
    "    full_circuit.initialize(0)\n",
    "    \n",
    "    prep_circ,p_in_eigenstate = prep_circuit(st)\n",
    "    prep_circ.barrier()\n",
    "    count_dict[p_in_eigenstate] += 1\n",
    "    measure_circ = measure_circuit(Clifford_Permute(qiskitCircuit,st))\n",
    "\n",
    "    temp_circuit = prep_circ.compose(qiskitCircuit)\n",
    "    temp_circuit.barrier()\n",
    "    # print(temp_circuit)\n",
    "    full_circuit = temp_circuit.compose(measure_circ)\n",
    "    print(full_circuit)\n",
    "    print(\"Number of Classical Bits: \", full_circuit.num_clbits)\n",
    "\n",
    "    simulator = Aer.get_backend('aer_simulator', method='stabilizer')\n",
    "    result = qk.execute(full_circuit, backend = simulator, shots = 100).result()\n",
    "    counts = result.get_counts()\n",
    "    \n",
    "    print(p_in_eigenstate)\n",
    "    print(counts)\n",
    "    print(result)"
   ]
  },
  {
   "cell_type": "code",
   "execution_count": 340,
   "metadata": {},
   "outputs": [
    {
     "name": "stdout",
     "output_type": "stream",
     "text": [
      "     ┌───┐┌───┐      ░ ┌───┐ ░       ░ ┌───┐ ░ ┌───┐ ░ ┌───┐ ░ ┌─┐            »\n",
      "q_0: ┤ X ├┤ H ├──────░─┤ I ├─░───────░─┤ I ├─░─┤ X ├─░─┤ H ├─░─┤M├────────────»\n",
      "     ├───┤├───┤┌───┐ ░ ├───┤ ░       ░ ├───┤ ░ └─┬─┘ ░ ├───┤ ░ └╥┘┌─────┐┌───┐»\n",
      "q_1: ┤ X ├┤ H ├┤ S ├─░─┤ Z ├─░───────░─┤ Z ├─░───┼───░─┤ I ├─░──╫─┤ Sdg ├┤ H ├»\n",
      "     └───┘└───┘└───┘ ░ ├───┤ ░       ░ ├───┤ ░   │   ░ ├───┤ ░  ║ └─────┘└───┘»\n",
      "q_2: ────────────────░─┤ I ├─░───────░─┤ H ├─░───■───░─┤ X ├─░──╫─────────────»\n",
      "                     ░ ├───┤ ░ ┌───┐ ░ ├───┤ ░       ░ ├───┤ ░  ║ ┌─────┐┌───┐»\n",
      "q_3: ────────────────░─┤ Z ├─░─┤ X ├─░─┤ H ├─░───────░─┤ H ├─░──╫─┤ Sdg ├┤ H ├»\n",
      "     ┌───┐           ░ ├───┤ ░ └─┬─┘ ░ ├───┤ ░       ░ ├───┤ ░  ║ ├─────┤├───┤»\n",
      "q_4: ┤ H ├───────────░─┤ Z ├─░───■───░─┤ X ├─░───────░─┤ H ├─░──╫─┤ Sdg ├┤ H ├»\n",
      "     └───┘           ░ └───┘ ░       ░ └───┘ ░       ░ └───┘ ░  ║ └─────┘└───┘»\n",
      "c: 4/═══════════════════════════════════════════════════════════╩═════════════»\n",
      "                                                                0             »\n",
      "«              \n",
      "«q_0: ─────────\n",
      "«     ┌─┐      \n",
      "«q_1: ┤M├──────\n",
      "«     └╥┘      \n",
      "«q_2: ─╫───────\n",
      "«      ║ ┌─┐   \n",
      "«q_3: ─╫─┤M├───\n",
      "«      ║ └╥┘┌─┐\n",
      "«q_4: ─╫──╫─┤M├\n",
      "«      ║  ║ └╥┘\n",
      "«c: 4/═╩══╩══╩═\n",
      "«      1  2  3 \n",
      "     ┌───┐┌───┐      ░ ┌───┐ ░       ░ ┌───┐ ░ ┌───┐ ░ ┌───┐┌─┐               »\n",
      "q_0: ┤ X ├┤ H ├──────░─┤ I ├─░───────░─┤ I ├─░─┤ X ├─░─┤ H ├┤M├───────────────»\n",
      "     ├───┤├───┤┌───┐ ░ ├───┤ ░       ░ ├───┤ ░ └─┬─┘ ░ ├───┤└╥┘┌─────┐┌───┐┌─┐»\n",
      "q_1: ┤ X ├┤ H ├┤ S ├─░─┤ Z ├─░───────░─┤ Z ├─░───┼───░─┤ I ├─╫─┤ Sdg ├┤ H ├┤M├»\n",
      "     └───┘└───┘└───┘ ░ ├───┤ ░       ░ ├───┤ ░   │   ░ ├───┤ ║ └─────┘└───┘└╥┘»\n",
      "q_2: ────────────────░─┤ I ├─░───────░─┤ H ├─░───■───░─┤ X ├─╫──────────────╫─»\n",
      "                     ░ ├───┤ ░ ┌───┐ ░ ├───┤ ░       ░ ├───┤ ║ ┌─────┐┌───┐ ║ »\n",
      "q_3: ────────────────░─┤ Z ├─░─┤ X ├─░─┤ H ├─░───────░─┤ H ├─╫─┤ Sdg ├┤ H ├─╫─»\n",
      "     ┌───┐           ░ ├───┤ ░ └─┬─┘ ░ ├───┤ ░       ░ ├───┤ ║ ├─────┤├───┤ ║ »\n",
      "q_4: ┤ H ├───────────░─┤ Z ├─░───■───░─┤ X ├─░───────░─┤ H ├─╫─┤ Sdg ├┤ H ├─╫─»\n",
      "     └───┘           ░ └───┘ ░       ░ └───┘ ░       ░ └───┘ ║ └─────┘└───┘ ║ »\n",
      "c: 4/════════════════════════════════════════════════════════╩══════════════╩═»\n",
      "                                                             0              1 »\n",
      "«           \n",
      "«q_0: ──────\n",
      "«           \n",
      "«q_1: ──────\n",
      "«           \n",
      "«q_2: ──────\n",
      "«     ┌─┐   \n",
      "«q_3: ┤M├───\n",
      "«     └╥┘┌─┐\n",
      "«q_4: ─╫─┤M├\n",
      "«      ║ └╥┘\n",
      "«c: 4/═╩══╩═\n",
      "«      2  3 \n"
     ]
    }
   ],
   "source": [
    "print(full_circuit)\n",
    "# prep_circ.barrier()\n",
    "me = prep_circ.compose(qiskitCircuit)\n",
    "print(me.compose(measure_circ))"
   ]
  },
  {
   "cell_type": "code",
   "execution_count": 341,
   "metadata": {},
   "outputs": [
    {
     "name": "stdout",
     "output_type": "stream",
     "text": [
      "The unitaries of the circuits are not equal.\n"
     ]
    }
   ],
   "source": [
    "def get_unitary(circuit):\n",
    "    simulator = Aer.get_backend('unitary_simulator')\n",
    "    t_circuit = transpile(circuit, simulator)\n",
    "    qobj = assemble(t_circuit)\n",
    "    result = simulator.run(qobj)\n",
    "    return result.get_unitary(circuit, decimals=3)\n",
    "\n",
    "# Get unitary matrices for each circuit\n",
    "unitaries = [Clifford_Permute(circuit,qk.quantum_info.Pauli(\"XYIZX\")) for circuit in circuit_ensemble]\n",
    "\n",
    "# Check if all unitaries are equal\n",
    "are_equal = all(np.allclose(unitaries[0], unitary) for unitary in unitaries[1:])\n",
    "\n",
    "if are_equal:\n",
    "    print(\"The unitaries of all circuits are equal.\")\n",
    "else:\n",
    "    print(\"The unitaries of the circuits are not equal.\")"
   ]
  },
  {
   "cell_type": "code",
   "execution_count": 342,
   "metadata": {},
   "outputs": [
    {
     "name": "stdout",
     "output_type": "stream",
     "text": [
      "     ┌───┐ ░      \n",
      "q_0: ┤ S ├─░───■──\n",
      "     ├───┤ ░ ┌─┴─┐\n",
      "q_1: ┤ X ├─░─┤ X ├\n",
      "     └───┘ ░ └───┘\n",
      "     ┌───┐     \n",
      "q_0: ┤ S ├──■──\n",
      "     ├───┤┌─┴─┐\n",
      "q_1: ┤ X ├┤ X ├\n",
      "     └───┘└───┘\n"
     ]
    }
   ],
   "source": [
    "circuit = generateCliffordCircuit(2, 2, singleGateSet, doubleGateSet)\n",
    "meme = transpileListToQiskitCircuit(circuit)\n",
    "print(meme)\n",
    "from qiskit.transpiler.passes import RemoveBarriers\n",
    "rb = RemoveBarriers()\n",
    "meme2 = rb(meme)\n",
    "print(meme2)"
   ]
  },
  {
   "cell_type": "code",
   "execution_count": 343,
   "metadata": {},
   "outputs": [
    {
     "name": "stdout",
     "output_type": "stream",
     "text": [
      "     ┌───┐ ░ ┌───┐\n",
      "q_0: ┤ H ├─░─┤ X ├\n",
      "     ├───┤ ░ └─┬─┘\n",
      "q_1: ┤ I ├─░───■──\n",
      "     └───┘ ░      \n",
      "-YZ\n",
      "-1.0\n"
     ]
    }
   ],
   "source": [
    "circuit = generateCliffordCircuit(2, 2, singleGateSet, doubleGateSet)\n",
    "meme = transpileListToQiskitCircuit(circuit)\n",
    "print(meme)\n",
    "p_str = \"YX\"\n",
    "print(Clifford_Permute(meme, p_str).to_label())\n",
    "v = est_Lambda(p_str,[meme],1000)\n",
    "print(v)"
   ]
  },
  {
   "cell_type": "code",
   "execution_count": 344,
   "metadata": {},
   "outputs": [
    {
     "name": "stdout",
     "output_type": "stream",
     "text": [
      "     ┌───┐\n",
      "q_0: ┤ H ├\n",
      "     ├───┤\n",
      "q_1: ┤ I ├\n",
      "     └───┘\n",
      "YZ\n",
      "-1.0\n"
     ]
    }
   ],
   "source": [
    "# circuit = generateCliffordCircuit(2, 2, singleGateSet, doubleGateSet)\n",
    "# meme = transpileListToQiskitCircuit(circuit)\n",
    "layers = [x for x in split_circuit_by_barrier(meme)]\n",
    "print(layers[0])\n",
    "print(Clifford_Permute(layers[0], \"XY\"))\n",
    "v = est_Lambda(p_str,[layers[0]],1000)\n",
    "print(v)"
   ]
  },
  {
   "cell_type": "code",
   "execution_count": 345,
   "metadata": {},
   "outputs": [
    {
     "name": "stdout",
     "output_type": "stream",
     "text": [
      "-Y\n",
      "Z\n"
     ]
    }
   ],
   "source": [
    "a = qk.QuantumCircuit(1)\n",
    "a.h(0)\n",
    "print(Clifford_Permute(a,\"Y\"))\n",
    "\n",
    "a = qk.QuantumCircuit(1)\n",
    "a.h(0)\n",
    "print(Clifford_Permute(a,\"X\"))"
   ]
  },
  {
   "cell_type": "code",
   "execution_count": 346,
   "metadata": {},
   "outputs": [
    {
     "data": {
      "text/plain": [
       "Pauli('-YX')"
      ]
     },
     "execution_count": 346,
     "metadata": {},
     "output_type": "execute_result"
    }
   ],
   "source": [
    "a = qk.QuantumCircuit(2)\n",
    "a.x(0)\n",
    "a.h(1)\n",
    "a.draw()\n",
    "p = qk.quantum_info.Pauli(\"YX\")\n",
    "p.evolve(a, qargs =[0,1], frame=\"s\")"
   ]
  },
  {
   "cell_type": "code",
   "execution_count": 347,
   "metadata": {},
   "outputs": [
    {
     "data": {
      "text/plain": [
       "['X', 'H', 'Z', 'I', 'S']"
      ]
     },
     "execution_count": 347,
     "metadata": {},
     "output_type": "execute_result"
    }
   ],
   "source": [
    "singleGateSet"
   ]
  },
  {
   "cell_type": "code",
   "execution_count": 348,
   "metadata": {},
   "outputs": [
    {
     "name": "stdout",
     "output_type": "stream",
     "text": [
      "('Input Puali: X', 'Gate: X', 'Output Pauli: X')\n",
      "1.0\n",
      "('Input Puali: X', 'Gate: H', 'Output Pauli: Z')\n",
      "1.0\n",
      "('Input Puali: X', 'Gate: Z', 'Output Pauli: -X')\n",
      "-1.0\n",
      "('Input Puali: X', 'Gate: I', 'Output Pauli: X')\n",
      "1.0\n",
      "('Input Puali: X', 'Gate: S', 'Output Pauli: Y')\n",
      "1.0\n",
      "('Input Puali: Y', 'Gate: X', 'Output Pauli: -Y')\n",
      "-1.0\n",
      "('Input Puali: Y', 'Gate: H', 'Output Pauli: -Y')\n",
      "-1.0\n",
      "('Input Puali: Y', 'Gate: Z', 'Output Pauli: -Y')\n",
      "-1.0\n",
      "('Input Puali: Y', 'Gate: I', 'Output Pauli: Y')\n",
      "1.0\n",
      "('Input Puali: Y', 'Gate: S', 'Output Pauli: -X')\n",
      "-1.0\n",
      "('Input Puali: Z', 'Gate: X', 'Output Pauli: -Z')\n",
      "-1.0\n",
      "('Input Puali: Z', 'Gate: H', 'Output Pauli: X')\n",
      "1.0\n",
      "('Input Puali: Z', 'Gate: Z', 'Output Pauli: Z')\n",
      "1.0\n",
      "('Input Puali: Z', 'Gate: I', 'Output Pauli: Z')\n",
      "1.0\n",
      "('Input Puali: Z', 'Gate: S', 'Output Pauli: Z')\n",
      "1.0\n",
      "15\n"
     ]
    }
   ],
   "source": [
    "dood = {}\n",
    "for inp in [\"X\",\"Y\",\"Z\"]:\n",
    "    for g in singleGateSet:\n",
    "        a = qk.QuantumCircuit(1)\n",
    "        if g == \"X\":\n",
    "            a.x(0)\n",
    "        elif g == \"Y\":\n",
    "            a.y(0)\n",
    "        elif g == \"Z\":\n",
    "            a.z(0)\n",
    "        elif g == \"H\":\n",
    "            a.h(0)\n",
    "        elif g == \"S\":\n",
    "            a.s(0)\n",
    "        elif g == \"I\":\n",
    "            a.id(0)\n",
    "        key = (\"Input Puali: \" + str(inp),\"Gate: \"+str(g),\"Output Pauli: \" + str(Clifford_Permute(a,inp)))\n",
    "        dood[key] = est_Lambda(inp,[a],1000)\n",
    "        print(key)\n",
    "        print(dood[key])\n",
    "\n",
    "print(len(dood))"
   ]
  },
  {
   "cell_type": "code",
   "execution_count": 349,
   "metadata": {},
   "outputs": [],
   "source": [
    "import itertools\n",
    "\n",
    "combinations = list(itertools.product([\"X\",\"Y\",\"Z\",\"I\"], repeat=2))\n",
    "combinations = [''.join(tuple_of_strings) for tuple_of_strings in combinations]\n",
    "combinations.remove(\"II\")\n",
    "# combinations"
   ]
  },
  {
   "cell_type": "code",
   "execution_count": 350,
   "metadata": {},
   "outputs": [
    {
     "name": "stdout",
     "output_type": "stream",
     "text": [
      "('Input Puali: XX', 'Gate: CNOT(0,1)', 'Output Pauli: IX')\n",
      "1.0\n"
     ]
    },
    {
     "name": "stdout",
     "output_type": "stream",
     "text": [
      "('Input Puali: XX', 'Gate: CNOT(1,0)', 'Output Pauli: XI')\n",
      "1.0\n",
      "('Input Puali: XY', 'Gate: CNOT(0,1)', 'Output Pauli: ZY')\n",
      "1.0\n",
      "('Input Puali: XY', 'Gate: CNOT(1,0)', 'Output Pauli: YI')\n",
      "1.0\n",
      "('Input Puali: XZ', 'Gate: CNOT(0,1)', 'Output Pauli: -YY')\n",
      "-1.0\n",
      "('Input Puali: XZ', 'Gate: CNOT(1,0)', 'Output Pauli: ZX')\n",
      "1.0\n",
      "('Input Puali: XI', 'Gate: CNOT(0,1)', 'Output Pauli: XX')\n",
      "1.0\n",
      "('Input Puali: XI', 'Gate: CNOT(1,0)', 'Output Pauli: IX')\n",
      "1.0\n",
      "('Input Puali: YX', 'Gate: CNOT(0,1)', 'Output Pauli: IY')\n",
      "1.0\n",
      "('Input Puali: YX', 'Gate: CNOT(1,0)', 'Output Pauli: YZ')\n",
      "1.0\n",
      "('Input Puali: YY', 'Gate: CNOT(0,1)', 'Output Pauli: -ZX')\n",
      "-1.0\n",
      "('Input Puali: YY', 'Gate: CNOT(1,0)', 'Output Pauli: -XZ')\n",
      "-1.0\n",
      "('Input Puali: YZ', 'Gate: CNOT(0,1)', 'Output Pauli: YX')\n",
      "1.0\n",
      "('Input Puali: YZ', 'Gate: CNOT(1,0)', 'Output Pauli: IY')\n",
      "1.0\n",
      "('Input Puali: YI', 'Gate: CNOT(0,1)', 'Output Pauli: XY')\n",
      "1.0\n",
      "('Input Puali: YI', 'Gate: CNOT(1,0)', 'Output Pauli: ZY')\n",
      "1.0\n",
      "('Input Puali: ZX', 'Gate: CNOT(0,1)', 'Output Pauli: XZ')\n",
      "1.0\n",
      "('Input Puali: ZX', 'Gate: CNOT(1,0)', 'Output Pauli: -YY')\n",
      "-1.0\n",
      "('Input Puali: ZY', 'Gate: CNOT(0,1)', 'Output Pauli: YI')\n",
      "1.0\n",
      "('Input Puali: ZY', 'Gate: CNOT(1,0)', 'Output Pauli: XY')\n",
      "1.0\n",
      "('Input Puali: ZZ', 'Gate: CNOT(0,1)', 'Output Pauli: ZI')\n",
      "1.0\n",
      "('Input Puali: ZZ', 'Gate: CNOT(1,0)', 'Output Pauli: IZ')\n",
      "1.0\n",
      "('Input Puali: ZI', 'Gate: CNOT(0,1)', 'Output Pauli: IZ')\n",
      "1.0\n",
      "('Input Puali: ZI', 'Gate: CNOT(1,0)', 'Output Pauli: ZZ')\n",
      "1.0\n",
      "('Input Puali: IX', 'Gate: CNOT(0,1)', 'Output Pauli: XI')\n",
      "1.0\n",
      "('Input Puali: IX', 'Gate: CNOT(1,0)', 'Output Pauli: XX')\n",
      "1.0\n",
      "('Input Puali: IY', 'Gate: CNOT(0,1)', 'Output Pauli: YZ')\n",
      "1.0\n",
      "('Input Puali: IY', 'Gate: CNOT(1,0)', 'Output Pauli: YX')\n",
      "1.0\n",
      "('Input Puali: IZ', 'Gate: CNOT(0,1)', 'Output Pauli: ZZ')\n",
      "1.0\n",
      "('Input Puali: IZ', 'Gate: CNOT(1,0)', 'Output Pauli: ZI')\n",
      "1.0\n",
      "30\n"
     ]
    }
   ],
   "source": [
    "dood = {}\n",
    "for inp in combinations:\n",
    "    for i in [0,1]:\n",
    "        a = qk.QuantumCircuit(2)\n",
    "        if i == 0:  \n",
    "            a.cx(0,1)\n",
    "            g = \"CNOT(0,1)\"\n",
    "        elif i == 1:\n",
    "            a.cx(1,0)\n",
    "            g = \"CNOT(1,0)\"\n",
    "        key = (\"Input Puali: \" + str(inp),\"Gate: \"+str(g),\"Output Pauli: \" + str(Clifford_Permute(a,inp)))\n",
    "        dood[key] = est_Lambda(inp,[a],1000)\n",
    "        print(key)\n",
    "        print(dood[key])\n",
    "print(len(dood))"
   ]
  },
  {
   "cell_type": "code",
   "execution_count": 374,
   "metadata": {},
   "outputs": [
    {
     "name": "stdout",
     "output_type": "stream",
     "text": [
      "     ┌───┐ ░       ░ ┌───┐ ░ \n",
      "q_0: ┤ I ├─░───────░─┤ X ├─░─\n",
      "     ├───┤ ░ ┌───┐ ░ ├───┤ ░ \n",
      "q_1: ┤ S ├─░─┤ X ├─░─┤ Z ├─░─\n",
      "     ├───┤ ░ └─┬─┘ ░ ├───┤ ░ \n",
      "q_2: ┤ X ├─░───■───░─┤ Z ├─░─\n",
      "     ├───┤ ░       ░ ├───┤ ░ \n",
      "q_3: ┤ I ├─░───────░─┤ Z ├─░─\n",
      "     └───┘ ░       ░ └───┘ ░ \n",
      "     ┌──────────────┐┌───┐┌──────────────┐ ░ ┌──────────────┐     »\n",
      "q_0: ┤0             ├┤ I ├┤0             ├─░─┤0             ├─────»\n",
      "     │              │├───┤│              │ ░ │              │┌───┐»\n",
      "q_1: ┤1             ├┤ S ├┤1             ├─░─┤1             ├┤ X ├»\n",
      "     │  Pauli(IYYI) │├───┤│  Pauli(IYXI) │ ░ │  Pauli(ZXXZ) │└─┬─┘»\n",
      "q_2: ┤2             ├┤ X ├┤2             ├─░─┤2             ├──■──»\n",
      "     │              │├───┤│              │ ░ │              │     »\n",
      "q_3: ┤3             ├┤ I ├┤3             ├─░─┤3             ├─────»\n",
      "     └──────────────┘└───┘└──────────────┘ ░ └──────────────┘     »\n",
      "«     ┌──────────────┐ ░ ┌──────────────┐┌───┐┌──────────────┐ ░ »\n",
      "«q_0: ┤0             ├─░─┤0             ├┤ X ├┤0             ├─░─»\n",
      "«     │              │ ░ │              │├───┤│              │ ░ »\n",
      "«q_1: ┤1             ├─░─┤1             ├┤ Z ├┤1             ├─░─»\n",
      "«     │  Pauli(ZXIZ) │ ░ │  Pauli(ZXYY) │├───┤│  Pauli(YYXZ) │ ░ »\n",
      "«q_2: ┤2             ├─░─┤2             ├┤ Z ├┤2             ├─░─»\n",
      "«     │              │ ░ │              │├───┤│              │ ░ »\n",
      "«q_3: ┤3             ├─░─┤3             ├┤ Z ├┤3             ├─░─»\n",
      "«     └──────────────┘ ░ └──────────────┘└───┘└──────────────┘ ░ »\n",
      "«     ┌──────────────┐┌──────────────┐\n",
      "«q_0: ┤0             ├┤0             ├\n",
      "«     │              ││              │\n",
      "«q_1: ┤1             ├┤1             ├\n",
      "«     │  Pauli(YIIY) ││  Pauli(YIIY) │\n",
      "«q_2: ┤2             ├┤2             ├\n",
      "«     │              ││              │\n",
      "«q_3: ┤3             ├┤3             ├\n",
      "«     └──────────────┘└──────────────┘\n",
      "     ┌───┐ ░ ┌───┐ ░       ░       ░ ┌───┐ ░ ┌───┐ ░ \n",
      "q_0: ┤ I ├─░─┤ I ├─░───────░───────░─┤ X ├─░─┤ Y ├─░─\n",
      "     ├───┤ ░ ├───┤ ░ ┌───┐ ░ ┌───┐ ░ ├───┤ ░ ├───┤ ░ \n",
      "q_1: ┤ S ├─░─┤ I ├─░─┤ X ├─░─┤ Z ├─░─┤ Z ├─░─┤ I ├─░─\n",
      "     ├───┤ ░ ├───┤ ░ └─┬─┘ ░ ├───┤ ░ ├───┤ ░ ├───┤ ░ \n",
      "q_2: ┤ X ├─░─┤ I ├─░───■───░─┤ I ├─░─┤ Z ├─░─┤ I ├─░─\n",
      "     ├───┤ ░ ├───┤ ░       ░ └───┘ ░ ├───┤ ░ ├───┤ ░ \n",
      "q_3: ┤ I ├─░─┤ X ├─░───────░───────░─┤ Z ├─░─┤ I ├─░─\n",
      "     └───┘ ░ └───┘ ░       ░       ░ └───┘ ░ └───┘ ░ \n",
      "     ┌──────────────┐┌───┐┌───┐┌────────┐ ░ ┌──────────────┐          »\n",
      "q_0: ┤0             ├┤ I ├┤ I ├┤0       ├─░─┤0             ├──────────»\n",
      "     │              │├───┤├───┤│        │ ░ │              │┌───┐┌───┐»\n",
      "q_1: ┤1             ├┤ S ├┤ I ├┤1       ├─░─┤1             ├┤ X ├┤ Z ├»\n",
      "     │  Pauli(IXYI) │├───┤├───┤│  -IYYI │ ░ │  Pauli(XYZI) │└─┬─┘├───┤»\n",
      "q_2: ┤2             ├┤ X ├┤ I ├┤2       ├─░─┤2             ├──■──┤ I ├»\n",
      "     │              │├───┤├───┤│        │ ░ │              │     └───┘»\n",
      "q_3: ┤3             ├┤ I ├┤ X ├┤3       ├─░─┤3             ├──────────»\n",
      "     └──────────────┘└───┘└───┘└────────┘ ░ └──────────────┘          »\n",
      "«     ┌──────────────┐ ░ ┌──────────────┐┌───┐┌───┐┌────────┐ ░ »\n",
      "«q_0: ┤0             ├─░─┤0             ├┤ X ├┤ Y ├┤0       ├─░─»\n",
      "«     │              │ ░ │              │├───┤├───┤│        │ ░ »\n",
      "«q_1: ┤1             ├─░─┤1             ├┤ Z ├┤ I ├┤1       ├─░─»\n",
      "«     │  Pauli(IIYX) │ ░ │  Pauli(IIIX) │├───┤├───┤│  -XIII │ ░ »\n",
      "«q_2: ┤2             ├─░─┤2             ├┤ Z ├┤ I ├┤2       ├─░─»\n",
      "«     │              │ ░ │              │├───┤├───┤│        │ ░ »\n",
      "«q_3: ┤3             ├─░─┤3             ├┤ Z ├┤ I ├┤3       ├─░─»\n",
      "«     └──────────────┘ ░ └──────────────┘└───┘└───┘└────────┘ ░ »\n",
      "«     ┌──────────────┐\n",
      "«q_0: ┤0             ├\n",
      "«     │              │\n",
      "«q_1: ┤1             ├\n",
      "«     │  Pauli(XYXI) │\n",
      "«q_2: ┤2             ├\n",
      "«     │              │\n",
      "«q_3: ┤3             ├\n",
      "«     └──────────────┘\n"
     ]
    }
   ],
   "source": [
    "# Necessary functions\n",
    "def makeNoisyGates(qiskitCir, whichQubits, px=0, py=0, pz=0):\n",
    "    singleOrDouble = len(whichQubits)\n",
    "    if singleOrDouble == 1:\n",
    "        gateString = np.random.choice(['I', 'X', 'Y', 'Z'], p=[1-px-py-pz, px, py, pz])\n",
    "        if gateString == 'I':\n",
    "            qiskitCir.id(whichQubits[0])\n",
    "        elif gateString == 'X':\n",
    "            qiskitCir.x(whichQubits[0])\n",
    "        elif gateString == 'Y':\n",
    "            qiskitCir.y(whichQubits[0])\n",
    "        elif gateString == 'Z':\n",
    "            qiskitCir.z(whichQubits[0])\n",
    "    else:\n",
    "        gateString1 = np.random.choice(['I', 'X', 'Y', 'Z'], p=[1-px-py-pz, px, py, pz])\n",
    "        if gateString1 == 'I':\n",
    "            qiskitCir.id(whichQubits[0])\n",
    "        elif gateString1 == 'X':\n",
    "            qiskitCir.x(whichQubits[0])\n",
    "        elif gateString1 == 'Y':\n",
    "            qiskitCir.y(whichQubits[0])\n",
    "        elif gateString1 == 'Z':\n",
    "            qiskitCir.z(whichQubits[0])\n",
    "        gateString2 = np.random.choice(['I', 'X', 'Y', 'Z'], p=[1-px-py-pz, px, py, pz])\n",
    "        if gateString2 == 'I':\n",
    "            qiskitCir.id(whichQubits[1])\n",
    "        elif gateString2 == 'X':\n",
    "            qiskitCir.x(whichQubits[1])\n",
    "        elif gateString2 == 'Y':\n",
    "            qiskitCir.y(whichQubits[1])\n",
    "        elif gateString2 == 'Z':\n",
    "            qiskitCir.z(whichQubits[1])\n",
    "    return qiskitCir\n",
    "\n",
    "def transpileListToQiskitCircuit(cir, noise=False, px=0, py=0, pz=0):\n",
    "    depth = len(cir)\n",
    "    width = len(cir[0])\n",
    "    qiskitCir = QuantumCircuit(width)\n",
    "    for d in range(depth):\n",
    "        if d % 2 == 0:\n",
    "            for w in range(width):\n",
    "                singleGate = cir[d][w]\n",
    "                stringToQiskitSingleGate(singleGate, qiskitCir, w)\n",
    "            if noise:\n",
    "                qiskitCir.barrier()\n",
    "                for w in range(width):\n",
    "                    makeNoisyGates(qiskitCir, [w], px, py, pz)\n",
    "            if d != width - 1:\n",
    "                qiskitCir.barrier()\n",
    "        else:\n",
    "            c = cir[d].index('CNOT_C')\n",
    "            t = cir[d].index('CNOT_T')\n",
    "            qiskitCir.cx(c, t)\n",
    "            if noise:\n",
    "                qiskitCir.barrier()\n",
    "                makeNoisyGates(qiskitCir, [c, t], px, py, pz)\n",
    "            if d != width - 1:\n",
    "                qiskitCir.barrier()\n",
    "    return qiskitCir\n",
    "\n",
    "def stringToQiskitSingleGate(gateString, qiskitCir, whichQubit):\n",
    "    if gateString == 'I':\n",
    "        qiskitCir.id(whichQubit)\n",
    "    elif gateString == 'X':\n",
    "        qiskitCir.x(whichQubit)\n",
    "    elif gateString == 'Y':\n",
    "        qiskitCir.y(whichQubit)\n",
    "    elif gateString == 'Z':\n",
    "        qiskitCir.z(whichQubit)\n",
    "    elif gateString == 'H':\n",
    "        qiskitCir.h(whichQubit)\n",
    "    elif gateString == 'S':\n",
    "        qiskitCir.s(whichQubit)\n",
    "\n",
    "\n",
    "width = 4  # num_qubits\n",
    "depth = 3  # number of layers in the circuit (easy + hard)\n",
    "singleGateSet = ['X', 'H', 'Z', 'I', 'S']\n",
    "doubleGateSet = ['CNOT_C', 'CNOT_T']\n",
    "twirlingGateSet = ['X', 'Y' 'Z', 'I']\n",
    "\n",
    "shots = 100000\n",
    "# Define a Pauli error channel\n",
    "px = 0.05  # adjust the probability as needed\n",
    "py = 0.10  # adjust the probability as needed\n",
    "pz = 0.20  # adjust the probability as needed\n",
    "\n",
    "# Generate Clifford circuit and transpile to ideal qiskit circuit\n",
    "circuit = generateCliffordCircuit(width, depth, singleGateSet, doubleGateSet)\n",
    "qiskitCircuit =transpileListToQiskitCircuit(circuit)\n",
    "print(qiskitCircuit)\n",
    "qiskitCircuitTwirl = G_twirling(qiskitCircuit)\n",
    "print(qiskitCircuitTwirl)\n",
    "# Generate Clifford circuit and transpile to noisy qiskit circuit\n",
    "qiskitCircuitNoisy = transpileListToQiskitCircuit(circuit, noise=True, px=px, py=py, pz=pz)\n",
    "print(qiskitCircuitNoisy)\n",
    "# Twirling function\n",
    "qiskitCircuitTwirlNoisy = G_twirling_noisy(qiskitCircuitNoisy)\n",
    "print(qiskitCircuitTwirlNoisy)"
   ]
  },
  {
   "cell_type": "code",
   "execution_count": 373,
   "metadata": {},
   "outputs": [],
   "source": [
    "def G_twirling_noisy(circuit):\n",
    "    '''This function performs G-twirling on a circuit. It randomly chooses a Pauli from {X,Y,Z,I} and prepends it before a layer, then appends P'=CPC^T after the layer.}\n",
    "    Inputs: circuit - A Qiskit Circuit object.\n",
    "    Outputs: new_circuit - A Qiskit Circuit object.'''\n",
    "    num_qubits = circuit.num_qubits\n",
    "    new_circuit = qk.QuantumCircuit(num_qubits)\n",
    "    subcirc_list = list(split_circuit_by_barrier(circuit))\n",
    "    for index, subcircuit in enumerate(split_circuit_by_barrier(circuit)):\n",
    "        # if len(subcircuit.data) == 1:\n",
    "        #     operated_qubits = [subcircuit.find_bit(q).index for q in subcircuit.data[0].qubits]\n",
    "        # else:\n",
    "        #     operated_qubits = list(range(num_qubits))\n",
    "        if index % 2 == 0: #if in odd layer\n",
    "            pauli_str = ''.join(random.choice([\"X\",\"Y\",\"Z\",\"I\"]) for _ in range(num_qubits))\n",
    "            pauli = qk.quantum_info.Pauli(pauli_str[::-1])\n",
    "            new_circuit = new_circuit.compose(pauli,qubits=range(num_qubits))\n",
    "            new_circuit = new_circuit.compose(subcircuit,qubits=range(num_qubits))\n",
    "        if index % 2 != 0: #if in even layer\n",
    "            new_circuit = new_circuit.compose(subcircuit,qubits=range(num_qubits))\n",
    "            new_circuit = new_circuit.compose(Clifford_Permute(subcirc_list[index-1],pauli).to_instruction(),qubits = range(num_qubits))\n",
    "            if index != len(list(split_circuit_by_barrier(circuit)))-1:\n",
    "                new_circuit.barrier()\n",
    "    return new_circuit"
   ]
  },
  {
   "cell_type": "code",
   "execution_count": null,
   "metadata": {},
   "outputs": [],
   "source": [
    "noisy_circuit_ensemble = [G_twirling_noisy(qiskitCircuit) for _ in range(10)]"
   ]
  }
 ],
 "metadata": {
  "kernelspec": {
   "display_name": "Horizon_Quantum",
   "language": "python",
   "name": "python3"
  },
  "language_info": {
   "codemirror_mode": {
    "name": "ipython",
    "version": 3
   },
   "file_extension": ".py",
   "mimetype": "text/x-python",
   "name": "python",
   "nbconvert_exporter": "python",
   "pygments_lexer": "ipython3",
   "version": "3.11.5"
  }
 },
 "nbformat": 4,
 "nbformat_minor": 2
}
